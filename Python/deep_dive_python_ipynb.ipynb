{
  "nbformat": 4,
  "nbformat_minor": 0,
  "metadata": {
    "colab": {
      "provenance": [],
      "authorship_tag": "ABX9TyNbB3mXIEJatYITkHiXp3JG",
      "include_colab_link": true
    },
    "kernelspec": {
      "name": "python3",
      "display_name": "Python 3"
    },
    "language_info": {
      "name": "python"
    }
  },
  "cells": [
    {
      "cell_type": "markdown",
      "metadata": {
        "id": "view-in-github",
        "colab_type": "text"
      },
      "source": [
        "<a href=\"https://colab.research.google.com/github/taencoding/BaekendOrmi/blob/main/deep_dive_python_ipynb%EC%9D%98_%EC%82%AC%EB%B3%B8.ipynb\" target=\"_parent\"><img src=\"https://colab.research.google.com/assets/colab-badge.svg\" alt=\"Open In Colab\"/></a>"
      ]
    },
    {
      "cell_type": "markdown",
      "source": [
        "# colab 사용법"
      ],
      "metadata": {
        "id": "OUWKXBBBu156"
      }
    },
    {
      "cell_type": "markdown",
      "source": [
        "1. **실행 단축키**\n",
        "    1. (필수) `Ctrl(Command)` + `Enter` : 해당 셀 실행\n",
        "    2. `Shift` + `Enter` : 해당 셀 실행 + 커서를 다음 셀로 이동\n",
        "    3. (필수) `Alt(Option)` + `Enter` : 해당 셀 실행 + 코드 불록 하단 추가\n",
        "2. **셀 삽입/삭제 관련 단축키**\n",
        "    1. `Ctrl(Command)` + M A : 코드 셀 위에 삽입\n",
        "    2. `Ctrl(Command)` + M B : 코드 셀 아래 삽입\n",
        "    3. `Ctrl(Command)` + M D : 셀 지우기\n",
        "    4. `Ctrl(Command)` + M Y : 코드 셀로 변경\n",
        "    5. `Ctrl(Command)` + M M : 마크다운 셀로 변경\n",
        "    6. `Ctrl(Command)` + M Z : 실행 취소\n",
        "3. 수정 관련된 단축키\n",
        "    1. `Ctrl(Command)` + `Alt(Option)` + 화살표위아래 : 동시 수정\n",
        "    2. (자주) `Ctrl(Command)` + D : 같은 단어 찾아 동시 수정\n",
        "    3. `Ctrl(Command)` + `Shift` + L : 동일 단어를 전체로 찾아 동시 수정\n",
        "    4. `Alt(Option)` + `Shift` + 화살표위아래 : 해당내용을 위나 아래 복사해서 붙여넣기\n",
        "    5. `Alt(Option)` + 화살표위아래 : 해당 내용을 위나 아래로 보내기\n",
        "    6. (자주) `Ctrl(Command)` + `Alt(Option)` + 화살표위아래 : 위아래 동시 수정\n",
        "    7. (자주) Home, End : 문장의 양 끝\n",
        "    8. (필수) `Ctrl` + `/` : 주석\n",
        "    9. (필수) `Shift` + `Del` : 한 줄 지우기\n",
        "    10. (필수) `Tab`, `Ctrl` + `]` : 들여쓰기\n",
        "    11. (필수) `Shift` + `Tab`, `Ctrl` + `[` : 내어쓰기\n",
        "4. 단축키 보기 및 설정\n",
        "    1. `Ctrl(Command)` + M H : 단축키 모음"
      ],
      "metadata": {
        "id": "hfsV5E4fvo2A"
      }
    },
    {
      "cell_type": "code",
      "execution_count": null,
      "metadata": {
        "colab": {
          "base_uri": "https://localhost:8080/"
        },
        "id": "QcBgrlnuttgN",
        "outputId": "d4e9e314-2a95-4398-e403-95ebffa375bc"
      },
      "outputs": [
        {
          "output_type": "execute_result",
          "data": {
            "text/plain": [
              "2"
            ]
          },
          "metadata": {},
          "execution_count": 3
        }
      ],
      "source": [
        "1+1"
      ]
    },
    {
      "cell_type": "code",
      "source": [
        "# hello world hello\n",
        "# hello world hello\n",
        "# hello world hello\n",
        "# hello world hello\n",
        "# hello world hello"
      ],
      "metadata": {
        "colab": {
          "base_uri": "https://localhost:8080/",
          "height": 136
        },
        "id": "G0NdVrI5waYa",
        "outputId": "6525074c-aee3-4d9c-fc37-395824097878"
      },
      "execution_count": null,
      "outputs": [
        {
          "output_type": "error",
          "ename": "IndentationError",
          "evalue": "ignored",
          "traceback": [
            "\u001b[0;36m  File \u001b[0;32m\"<ipython-input-4-6fdf291ee43c>\"\u001b[0;36m, line \u001b[0;32m2\u001b[0m\n\u001b[0;31m    hello world hello\u001b[0m\n\u001b[0m    ^\u001b[0m\n\u001b[0;31mIndentationError\u001b[0m\u001b[0;31m:\u001b[0m unexpected indent\n"
          ]
        }
      ]
    },
    {
      "cell_type": "code",
      "source": [],
      "metadata": {
        "id": "j_F30uRJxoMo"
      },
      "execution_count": null,
      "outputs": []
    },
    {
      "cell_type": "markdown",
      "source": [
        "# 마크다운"
      ],
      "metadata": {
        "id": "SKiZZeeSx7XU"
      }
    },
    {
      "cell_type": "markdown",
      "source": [
        "* 필수 마크다운\n",
        "\n",
        "  ```\n",
        "  # hello\n",
        "  ## hello\n",
        "  ### hello\n",
        "\n",
        "  1. hello\n",
        "  2. hello\n",
        "  3. hello\n",
        "\n",
        "  * hello\n",
        "  * hello\n",
        "  * hello\n",
        "  ```\n",
        "\n",
        "* 선택 마크다운 (필수가 아니니 부담가지지 마세요.)\n",
        "\n",
        "  ```\n",
        "  # h1\n",
        "  ## h2\n",
        "  ### h3\n",
        "  #### h4\n",
        "  ##### h5\n",
        "  ###### h6\n",
        "\n",
        "  ---\n",
        "\n",
        "  1. hello\n",
        "  2. hello\n",
        "  3. hello\n",
        "\n",
        "  * hello\n",
        "  * hello\n",
        "  * hello\n",
        "\n",
        "  - hello\n",
        "  - hello\n",
        "  - hello\n",
        "\n",
        "  __굵게__\n",
        "  **굵게**\n",
        "  _기울여 쓰기_\n",
        "  *기울여 쓰기*\n",
        "  ~취소선~\n",
        "  ~~취소선~~\n",
        "\n",
        "  > 인용문 작성하기\n",
        "  `인라인 코드는 이렇게 작성해요.`\n",
        "\n",
        "  [인라인 링크](https://velog.io/)\n",
        "\n",
        "  ![이미지 설명](이미지 링크)\n",
        "\n",
        "  * table은 직접 만들지 마시고 https://www.tablesgenerator.com/markdown_tables 와 같은 서비스를 이용하세요.\n",
        "  | 1 | 2     | 3 | 4 | 5     |\n",
        "  |---|-------|---|---|-------|\n",
        "  | 1 | hello | 3 | 4 | world |\n",
        "\n",
        "  * [ ] hello\n",
        "  * [X] hello\n",
        "  ```"
      ],
      "metadata": {
        "id": "HEwh993iyOo8"
      }
    },
    {
      "cell_type": "markdown",
      "source": [
        "# python"
      ],
      "metadata": {
        "id": "eBXwCs3i4B3R"
      }
    },
    {
      "cell_type": "code",
      "source": [
        "#행 단위 주석입니다.\n",
        "\n",
        "\"\"\"\n",
        "큰 따옴표로 세번 묶거나\n",
        "작은따옴표로 세번 묶으면\n",
        "열단위 주석이 됩니다.\n",
        "\"\"\"\n",
        "\n",
        "'''\n",
        "큰 따옴표로 세번 묶거나\n",
        "작은따옴표로 세번 묶으면\n",
        "열단위 주석이 됩니다.\n",
        "'''"
      ],
      "metadata": {
        "colab": {
          "base_uri": "https://localhost:8080/",
          "height": 35
        },
        "id": "pteJICEy4Fxe",
        "outputId": "6d7ca459-44b8-485f-c3a9-b12dd558e09e"
      },
      "execution_count": null,
      "outputs": [
        {
          "output_type": "execute_result",
          "data": {
            "text/plain": [
              "'\\n큰 따옴표로 세번 묶거나\\n작은따옴표로 세번 묶으면\\n열단위 주석이 됩니다.\\n'"
            ],
            "application/vnd.google.colaboratory.intrinsic+json": {
              "type": "string"
            }
          },
          "metadata": {},
          "execution_count": 5
        }
      ]
    },
    {
      "cell_type": "code",
      "source": [
        "# 아래와 같이 열단위 주석으로 text를 넣을 수도 있습니다.\n",
        "\n",
        "data = '''\n",
        "큰 따옴표로 세번 묶거나\n",
        "작은따옴표로 세번 묶으면\n",
        "열단위 주석이 됩니다.\n",
        "'''\n",
        "\n",
        "data"
      ],
      "metadata": {
        "colab": {
          "base_uri": "https://localhost:8080/",
          "height": 35
        },
        "id": "UvT5I7tm4qey",
        "outputId": "881eff3c-1054-48b3-e7ee-4b9b67a1aedb"
      },
      "execution_count": null,
      "outputs": [
        {
          "output_type": "execute_result",
          "data": {
            "text/plain": [
              "'\\n큰 따옴표로 세번 묶거나\\n작은따옴표로 세번 묶으면\\n열단위 주석이 됩니다.\\n'"
            ],
            "application/vnd.google.colaboratory.intrinsic+json": {
              "type": "string"
            }
          },
          "metadata": {},
          "execution_count": 6
        }
      ]
    },
    {
      "cell_type": "markdown",
      "source": [
        "* Code convention python\n",
        "* https://google.github.io/styleguide/\n",
        "* https://google.github.io/styleguide/pyguide.html\n"
      ],
      "metadata": {
        "id": "2VKIcDlS5LJ9"
      }
    },
    {
      "cell_type": "code",
      "source": [
        " def connect_to_next_port(self, minimum: int) -> int:\n",
        "    \"\"\"Connects to the next available port.\n",
        "\n",
        "    Args:\n",
        "      minimum: A port value greater or equal to 1024.\n",
        "\n",
        "    Returns:\n",
        "      The new minimum port.\n",
        "\n",
        "    Raises:\n",
        "      ConnectionError: If no available port is found.\n",
        "    \"\"\"\n",
        "    if minimum < 1024:\n",
        "        # Note that this raising of ValueError is not mentioned in the doc\n",
        "        # string's \"Raises:\" section because it is not appropriate to\n",
        "        # guarantee this specific behavioral reaction to API misuse.\n",
        "        raise ValueError(f'Min. port must be at least 1024, not {minimum}.')\n",
        "    port = self._find_next_open_port(minimum)\n",
        "    if port is None:\n",
        "        raise ConnectionError(\n",
        "            f'Could not connect to service on port {minimum} or higher.')\n",
        "    assert port >= minimum, (\n",
        "        f'Unexpected port {port} when minimum was {minimum}.')\n",
        "    return port"
      ],
      "metadata": {
        "id": "XHR3ZoLq5zCA"
      },
      "execution_count": null,
      "outputs": []
    },
    {
      "cell_type": "code",
      "source": [
        "connect_to_next_port"
      ],
      "metadata": {
        "id": "2fXnS73z56d4"
      },
      "execution_count": null,
      "outputs": []
    },
    {
      "cell_type": "code",
      "source": [
        "# 띄어쓰기 4칸 (tab(스페이스 4칸과 다릅니다!), 6칸, 7칸 다 작동합니다.)"
      ],
      "metadata": {
        "id": "c7z7kGJP6YvI"
      },
      "execution_count": null,
      "outputs": []
    },
    {
      "cell_type": "code",
      "source": [
        "# 아래와 같이 탭과 띄어쓰기 4번을 혼용하시면 error가 납니다.\n",
        "for i in range(10):\n",
        "    print(i)\n",
        "    print('큰 따옴표로 세번 묶거나')"
      ],
      "metadata": {
        "id": "RwG7ouOO7Jax"
      },
      "execution_count": null,
      "outputs": []
    },
    {
      "cell_type": "code",
      "source": [
        "a = 10     #int, 정수형\n",
        "b = 10.1   #float, 실수\n",
        "c = -1\n",
        "d = True   #bool, 논리형(부울형, 참거짓형)\n",
        "e = 'good'\n",
        "f = '10'   #str, 문자열\n",
        "g = 'kim'\n",
        "h = 'honggildong'\n",
        "i = 'example'\n",
        "j = 10 + 2j #complex, 복소수\n",
        "k = 0b110   #int, 2진법 \n",
        "l = 0o56    #int, 8진법\n",
        "m = 0xAC    #int, 16진법\n",
        "\n",
        "##########\n",
        "def hello():\n",
        "    return\n",
        "\n",
        "class A:# 자동차 공장\n",
        "    pass\n",
        "\n",
        "n = hello # function\n",
        "o = print # bulit-in function\n",
        "p = lambda x:x**2 # function\n",
        "q = int # type\n",
        "r = A # class\n",
        "s = A() # instance #자동차\n",
        "##########\n",
        "\n",
        "print(f'type(10) : {type(a)}')\n",
        "print(f'type(10.1) : {type(b)}')\n",
        "print(f'type(-1) : {type(c)}')\n",
        "print(f'type(True) : {type(d)}')\n",
        "print(f'type(\\'good\\') : {type(e)}')\n",
        "print(f'type(\\'good\\'.upper) : {type(e.upper)}')\n",
        "print(f'\\'10\\' + \\'10\\' : {f + f}')\n",
        "print(f'\\'10\\' * 3 : {f * 3}')\n",
        "print(f'\\'hong\\' + \\'gildong\\' : {g + h}')\n",
        "print(f'type(\\'gildong\\') : {type(h)}')\n",
        "print(f'type(\\'gildong100!!\\') : {type(i)}')\n",
        "print(f'type(10 + 2j) : {type(j)}')\n",
        "print(f'type(0b110) : {type(k)}')\n",
        "print(k)\n",
        "print(f'type(0o56) : {type(i)}')\n",
        "print(i)\n",
        "print(f'type(0xAC) : {type(m)}')\n",
        "print(m)\n",
        "print(f'type(def func():...생략...) : {type(n)}')\n",
        "print(f'type(print) : {type(o)}')\n",
        "print(f'type(lambda x:x**2) : {type(p)}')\n",
        "print(f'type(int) : {type(int)}')"
      ],
      "metadata": {
        "colab": {
          "base_uri": "https://localhost:8080/"
        },
        "id": "73K5a1Xs7gNJ",
        "outputId": "094b0c8d-ef56-4839-a8b3-91c06771ae0f"
      },
      "execution_count": null,
      "outputs": [
        {
          "output_type": "stream",
          "name": "stdout",
          "text": [
            "type(10) : <class 'int'>\n",
            "type(10.1) : <class 'float'>\n",
            "type(-1) : <class 'int'>\n",
            "type(True) : <class 'bool'>\n",
            "type('good') : <class 'str'>\n",
            "type('good'.upper) : <class 'builtin_function_or_method'>\n",
            "'10' + '10' : 1010\n",
            "'10' * 3 : 101010\n",
            "'hong' + 'gildong' : kimhonggildong\n",
            "type('gildong') : <class 'str'>\n",
            "type('gildong100!!') : <class 'str'>\n",
            "type(10 + 2j) : <class 'complex'>\n",
            "type(0b110) : <class 'int'>\n",
            "6\n",
            "type(0o56) : <class 'str'>\n",
            "example\n",
            "type(0xAC) : <class 'int'>\n",
            "172\n",
            "type(def func():...생략...) : <class 'function'>\n",
            "type(print) : <class 'builtin_function_or_method'>\n",
            "type(lambda x:x**2) : <class 'function'>\n",
            "type(int) : <class 'type'>\n"
          ]
        }
      ]
    },
    {
      "cell_type": "code",
      "source": [
        "# 이스케이프 문자\n",
        "# https://ko.wikipedia.org/wiki/%EC%9D%B4%EC%8A%A4%EC%BC%80%EC%9D%B4%ED%94%84_%EB%AC%B8%EC%9E%90\n",
        "print('hello \\n world')\n",
        "print('hello \\t world')\n",
        "print('hello \\' world')\n",
        "print('hello \\\" world')\n",
        "print('hello \\\\ world')"
      ],
      "metadata": {
        "colab": {
          "base_uri": "https://localhost:8080/"
        },
        "id": "djgnZKFL-Px0",
        "outputId": "1c36f2f0-0cf7-428e-e5a4-fd9496d34a7f"
      },
      "execution_count": null,
      "outputs": [
        {
          "output_type": "stream",
          "name": "stdout",
          "text": [
            "hello \n",
            " world\n",
            "hello \t world\n",
            "hello ' world\n",
            "hello \" world\n",
            "hello \\ world\n"
          ]
        }
      ]
    },
    {
      "cell_type": "code",
      "source": [
        "# type -> string\n",
        "\n",
        "hello = 10\n",
        "\n",
        "print(r'hello \\n world') # str -> raw (Django 2.x까지 trl parsing을 이렇게 사용하고 있어요.)\n",
        "print(f'hello \\n world {hello}') # 앞으로 f-string 기법\n",
        "print('hello world {}'.format(hello))"
      ],
      "metadata": {
        "colab": {
          "base_uri": "https://localhost:8080/"
        },
        "id": "Y0NHhIP0_yWO",
        "outputId": "3ecab1d5-fe83-44ad-e0a1-50827ceeb3df"
      },
      "execution_count": null,
      "outputs": [
        {
          "output_type": "stream",
          "name": "stdout",
          "text": [
            "hello \\n world\n",
            "hello \n",
            " world 10\n"
          ]
        }
      ]
    },
    {
      "cell_type": "code",
      "source": [
        "# type -> float\n",
        "# 오일러의 수를 모른다 해서, 수학 연산이 약하다 해서 우리 수업에 문제가 되지 않습니다.\n",
        "print(2.3e3) # 무리수, 오일러 수(2.718에 수렴, 파이가 3.14인 것처럼)\n",
        "print(2.3E3)\n",
        "\n",
        "2.3 * (10 ** 3)"
      ],
      "metadata": {
        "id": "zeAUytWkEZVY"
      },
      "execution_count": null,
      "outputs": []
    },
    {
      "cell_type": "code",
      "source": [
        "print(2.3e3) # 무리수, 오일러 수(2.718에 수렴, 파이가 3.14인 것처럼)\n",
        "print(2.3E3)\n",
        "\n",
        "2.3 * (10 ** -3)"
      ],
      "metadata": {
        "colab": {
          "base_uri": "https://localhost:8080/"
        },
        "id": "P2M49MM7E2bP",
        "outputId": "1f4565d7-4c0a-442d-fbfa-d82f8ce0cd8a"
      },
      "execution_count": null,
      "outputs": [
        {
          "output_type": "stream",
          "name": "stdout",
          "text": [
            "2300.0\n",
            "2300.0\n"
          ]
        },
        {
          "output_type": "execute_result",
          "data": {
            "text/plain": [
              "0.0023"
            ]
          },
          "metadata": {},
          "execution_count": 31
        }
      ]
    },
    {
      "cell_type": "code",
      "source": [
        "type(2.3e3)"
      ],
      "metadata": {
        "colab": {
          "base_uri": "https://localhost:8080/"
        },
        "id": "pbd8EN9fFNbo",
        "outputId": "5d21476c-08b5-47d4-b84d-b7103d6f847e"
      },
      "execution_count": null,
      "outputs": [
        {
          "output_type": "execute_result",
          "data": {
            "text/plain": [
              "float"
            ]
          },
          "metadata": {},
          "execution_count": 32
        }
      ]
    },
    {
      "cell_type": "code",
      "source": [
        "class A:# 자동차 공장\n",
        "    pass\n",
        "\n",
        "a = A # class\n",
        "b = A() # instance #자동차\n",
        "\n",
        "print(type(a))\n",
        "print(type(b))"
      ],
      "metadata": {
        "colab": {
          "base_uri": "https://localhost:8080/"
        },
        "id": "cznivK_a-1gU",
        "outputId": "73801c2a-9586-440c-c385-94fca3f2d620"
      },
      "execution_count": null,
      "outputs": [
        {
          "output_type": "stream",
          "name": "stdout",
          "text": [
            "<class 'type'>\n",
            "<class '__main__.A'>\n"
          ]
        }
      ]
    },
    {
      "cell_type": "code",
      "source": [
        "# 변수를 처음 만나시면 type, dir 을 해봅니다.\n",
        "# type 을 찍으면 검색 키워드를 알 수 있습니다.\n",
        "# dir 을 찍으면 속성을 알 수 있습니다.\n",
        "type(a)"
      ],
      "metadata": {
        "colab": {
          "base_uri": "https://localhost:8080/"
        },
        "id": "KgINz5HE8nA6",
        "outputId": "3e9d54f0-0d5e-4879-87ca-a9c301b3e33b"
      },
      "execution_count": null,
      "outputs": [
        {
          "output_type": "execute_result",
          "data": {
            "text/plain": [
              "int"
            ]
          },
          "metadata": {},
          "execution_count": 25
        }
      ]
    },
    {
      "cell_type": "code",
      "source": [
        "print(type(a))"
      ],
      "metadata": {
        "colab": {
          "base_uri": "https://localhost:8080/"
        },
        "id": "gd9pff098tz4",
        "outputId": "e5f487f7-1ed3-4e77-8219-b0b28367a2a1"
      },
      "execution_count": null,
      "outputs": [
        {
          "output_type": "stream",
          "name": "stdout",
          "text": [
            "<class 'int'>\n"
          ]
        }
      ]
    },
    {
      "cell_type": "code",
      "source": [
        "dir(a)"
      ],
      "metadata": {
        "colab": {
          "base_uri": "https://localhost:8080/"
        },
        "id": "SDxiTkyV808E",
        "outputId": "2e7ce686-275d-498d-e7e4-06b98bdee0c7"
      },
      "execution_count": null,
      "outputs": [
        {
          "output_type": "execute_result",
          "data": {
            "text/plain": [
              "['__abs__',\n",
              " '__add__',\n",
              " '__and__',\n",
              " '__bool__',\n",
              " '__ceil__',\n",
              " '__class__',\n",
              " '__delattr__',\n",
              " '__dir__',\n",
              " '__divmod__',\n",
              " '__doc__',\n",
              " '__eq__',\n",
              " '__float__',\n",
              " '__floor__',\n",
              " '__floordiv__',\n",
              " '__format__',\n",
              " '__ge__',\n",
              " '__getattribute__',\n",
              " '__getnewargs__',\n",
              " '__gt__',\n",
              " '__hash__',\n",
              " '__index__',\n",
              " '__init__',\n",
              " '__init_subclass__',\n",
              " '__int__',\n",
              " '__invert__',\n",
              " '__le__',\n",
              " '__lshift__',\n",
              " '__lt__',\n",
              " '__mod__',\n",
              " '__mul__',\n",
              " '__ne__',\n",
              " '__neg__',\n",
              " '__new__',\n",
              " '__or__',\n",
              " '__pos__',\n",
              " '__pow__',\n",
              " '__radd__',\n",
              " '__rand__',\n",
              " '__rdivmod__',\n",
              " '__reduce__',\n",
              " '__reduce_ex__',\n",
              " '__repr__',\n",
              " '__rfloordiv__',\n",
              " '__rlshift__',\n",
              " '__rmod__',\n",
              " '__rmul__',\n",
              " '__ror__',\n",
              " '__round__',\n",
              " '__rpow__',\n",
              " '__rrshift__',\n",
              " '__rshift__',\n",
              " '__rsub__',\n",
              " '__rtruediv__',\n",
              " '__rxor__',\n",
              " '__setattr__',\n",
              " '__sizeof__',\n",
              " '__str__',\n",
              " '__sub__',\n",
              " '__subclasshook__',\n",
              " '__truediv__',\n",
              " '__trunc__',\n",
              " '__xor__',\n",
              " 'as_integer_ratio',\n",
              " 'bit_count',\n",
              " 'bit_length',\n",
              " 'conjugate',\n",
              " 'denominator',\n",
              " 'from_bytes',\n",
              " 'imag',\n",
              " 'numerator',\n",
              " 'real',\n",
              " 'to_bytes']"
            ]
          },
          "metadata": {},
          "execution_count": 47
        }
      ]
    },
    {
      "cell_type": "code",
      "source": [
        "# 실무에서 자주 사용하는 구문\n",
        "type (10)\n",
        "type (10) == int\n",
        "type (10.1) == float"
      ],
      "metadata": {
        "colab": {
          "base_uri": "https://localhost:8080/"
        },
        "id": "0oHGBf3uFUZ_",
        "outputId": "e50d4bab-5846-4a93-e5f8-2277d28c094a"
      },
      "execution_count": null,
      "outputs": [
        {
          "output_type": "execute_result",
          "data": {
            "text/plain": [
              "True"
            ]
          },
          "metadata": {},
          "execution_count": 34
        }
      ]
    },
    {
      "cell_type": "code",
      "source": [
        "# 위만큼 자주 사용하진 않지만 타입 확인 코드\n",
        "\n",
        "a = 10\n",
        "isinstance(a, int)\n",
        "isinstance(a, float)"
      ],
      "metadata": {
        "colab": {
          "base_uri": "https://localhost:8080/"
        },
        "id": "-Be79NNXFo-H",
        "outputId": "b22d5e18-2dcb-4dd9-d969-d1a36a20fb79"
      },
      "execution_count": null,
      "outputs": [
        {
          "output_type": "execute_result",
          "data": {
            "text/plain": [
              "False"
            ]
          },
          "metadata": {},
          "execution_count": 36
        }
      ]
    },
    {
      "cell_type": "markdown",
      "source": [
        "## 변수"
      ],
      "metadata": {
        "id": "T6vq5mH9F4r2"
      }
    },
    {
      "cell_type": "code",
      "source": [
        "# CS 변수는 포스트잇\n",
        "# 변수는 메모리 공간을 가리킵니다.\n",
        "\n",
        "# x라는 포스트잇도 붙였지만\n",
        "# y라는 포스트잇도 붙여져 있는 것입니다.\n",
        "x = 10\n",
        "y = 10\n",
        "\n",
        "id(x), id(y) # id는 누굴 가리키고 있는 지 그 주소값을 반환합니다."
      ],
      "metadata": {
        "colab": {
          "base_uri": "https://localhost:8080/"
        },
        "id": "FewDFERIF9Df",
        "outputId": "761fb151-44fe-4279-ce94-9b724adc425f"
      },
      "execution_count": null,
      "outputs": [
        {
          "output_type": "execute_result",
          "data": {
            "text/plain": [
              "(140663913988624, 140663913988624)"
            ]
          },
          "metadata": {},
          "execution_count": 37
        }
      ]
    },
    {
      "cell_type": "code",
      "source": [
        "x is y"
      ],
      "metadata": {
        "colab": {
          "base_uri": "https://localhost:8080/"
        },
        "id": "wZac4F_QHMzM",
        "outputId": "780f73fe-7fa5-45a3-d006-a176bd78a647"
      },
      "execution_count": null,
      "outputs": [
        {
          "output_type": "execute_result",
          "data": {
            "text/plain": [
              "True"
            ]
          },
          "metadata": {},
          "execution_count": 38
        }
      ]
    },
    {
      "cell_type": "code",
      "source": [
        "x = 257\n",
        "y = 257\n",
        "\n",
        "id(x), id(y)"
      ],
      "metadata": {
        "colab": {
          "base_uri": "https://localhost:8080/"
        },
        "id": "D1L-RYxdHXbk",
        "outputId": "fa1b8e1a-5859-460e-84a4-b1eec3f85954"
      },
      "execution_count": null,
      "outputs": [
        {
          "output_type": "execute_result",
          "data": {
            "text/plain": [
              "(140662667702288, 140662667703696)"
            ]
          },
          "metadata": {},
          "execution_count": 39
        }
      ]
    },
    {
      "cell_type": "code",
      "source": [
        "x is y"
      ],
      "metadata": {
        "colab": {
          "base_uri": "https://localhost:8080/"
        },
        "id": "1JCEP2P5IE89",
        "outputId": "7fa66c3a-7305-4646-d855-9540720c6542"
      },
      "execution_count": null,
      "outputs": [
        {
          "output_type": "execute_result",
          "data": {
            "text/plain": [
              "False"
            ]
          },
          "metadata": {},
          "execution_count": 40
        }
      ]
    },
    {
      "cell_type": "code",
      "source": [
        "# Python은 자체적으로 속도를 높이기 위한 \n",
        "# 여러가지 노력들을 해왔습니다.\n",
        "# (아래 언급한 것 말고도 각각의 자료형에서 메모리를 효율적으로 관리하기 위한 노력들을 말씀드리겠습니다.)\n",
        "# 구버전도 말씀을 드릴 것인데 이유는 여러분이 실무에가서 접할 환경이 최신 버전이 아니기 때문입니다.\n",
        "# 야xx의 경우에는 Django 1.x, python 2.x를 사용하고 있어요. \n",
        "# 대부분의 기업들이 한 번 구축해놓은 시스템은 바꾸기가 쉽지 않습니다.\n",
        "\n",
        "# 그래서 -5 ~ 256은 먼저 메모리에 적재를 합니다."
      ],
      "metadata": {
        "id": "qLCUt9C9H_ZU"
      },
      "execution_count": null,
      "outputs": []
    },
    {
      "cell_type": "code",
      "source": [
        "x = -5\n",
        "y = -5\n",
        "\n",
        "id(x), id(y)"
      ],
      "metadata": {
        "colab": {
          "base_uri": "https://localhost:8080/"
        },
        "id": "BpgKNjXGIMrd",
        "outputId": "d74c64a3-dc7d-4066-e5da-6cd53df2d016"
      },
      "execution_count": null,
      "outputs": [
        {
          "output_type": "execute_result",
          "data": {
            "text/plain": [
              "(140663913988144, 140663913988144)"
            ]
          },
          "metadata": {},
          "execution_count": 43
        }
      ]
    },
    {
      "cell_type": "markdown",
      "source": [
        "* 변수의 타입이란 무엇인가?\n",
        "* 변수의 타입은 왜 있는 것일까?\n",
        "* 어떤 고민을 통해 변수의 속성을 정했을까?"
      ],
      "metadata": {
        "id": "QRLKfYhJIsLL"
      }
    },
    {
      "cell_type": "code",
      "source": [
        "'a' + 'a'"
      ],
      "metadata": {
        "colab": {
          "base_uri": "https://localhost:8080/",
          "height": 35
        },
        "id": "cUlQN-KCI9cP",
        "outputId": "9bf7e52b-c3c5-4ea4-db89-a42357020b44"
      },
      "execution_count": null,
      "outputs": [
        {
          "output_type": "execute_result",
          "data": {
            "text/plain": [
              "'aa'"
            ],
            "application/vnd.google.colaboratory.intrinsic+json": {
              "type": "string"
            }
          },
          "metadata": {},
          "execution_count": 45
        }
      ]
    },
    {
      "cell_type": "code",
      "source": [
        "# 왜 이어 붙였지?\n",
        "# 컴퓨터 입장에서 a는 97(인간이 보는 숫자) -> 0x61! 결국 숫자!"
      ],
      "metadata": {
        "id": "QXr3XhLQJCEc"
      },
      "execution_count": null,
      "outputs": []
    },
    {
      "cell_type": "code",
      "source": [
        "# cpython -> 이어 붙이라고 정의가 되어 있어서\n",
        "# 사회 통념적인 약속 -> 코드로 구현\n",
        "# type, dir\n",
        "# 이러한 약속들은 메직메서드 (__int=it__ ...)를 통해 구현하게 됩니다."
      ],
      "metadata": {
        "id": "P1XH9OgsJS4X"
      },
      "execution_count": null,
      "outputs": []
    },
    {
      "cell_type": "markdown",
      "source": [
        "## 변수의 속성 변경"
      ],
      "metadata": {
        "id": "JDsDx2JEJ686"
      }
    },
    {
      "cell_type": "code",
      "source": [
        "'10' + '10'"
      ],
      "metadata": {
        "colab": {
          "base_uri": "https://localhost:8080/"
        },
        "id": "sTwm6LbSJ9PI",
        "outputId": "4db6fb3b-c93c-4438-b361-d1caba999131"
      },
      "execution_count": null,
      "outputs": [
        {
          "output_type": "execute_result",
          "data": {
            "text/plain": [
              "'1010'"
            ],
            "application/vnd.google.colaboratory.intrinsic+json": {
              "type": "string"
            }
          },
          "metadata": {},
          "execution_count": 48
        }
      ]
    },
    {
      "cell_type": "code",
      "source": [
        "int('10')+ int('10')"
      ],
      "metadata": {
        "colab": {
          "base_uri": "https://localhost:8080/"
        },
        "id": "3n8LkNaiKHC6",
        "outputId": "845686a0-54c8-43ec-fd65-c8180d551225"
      },
      "execution_count": null,
      "outputs": [
        {
          "output_type": "execute_result",
          "data": {
            "text/plain": [
              "20"
            ]
          },
          "metadata": {},
          "execution_count": 49
        }
      ]
    },
    {
      "cell_type": "code",
      "source": [
        "# 지금 배우는 포인트는 class 가 중요한 문법이 아니라\n",
        "# 이러한 '약속'을 우리가 변경할 수 있다가 중요한 포인트입니다.\n",
        "class int(int):\n",
        "    def __add__(self, a):\n",
        "        return 'lee'\n",
        "\n",
        "int('10')+ int('10')"
      ],
      "metadata": {
        "colab": {
          "base_uri": "https://localhost:8080/",
          "height": 35
        },
        "id": "LGjMInlYKPtP",
        "outputId": "ca91397d-c1ad-4fa0-f888-2b013fc57e47"
      },
      "execution_count": null,
      "outputs": [
        {
          "output_type": "execute_result",
          "data": {
            "text/plain": [
              "'lee'"
            ],
            "application/vnd.google.colaboratory.intrinsic+json": {
              "type": "string"
            }
          },
          "metadata": {},
          "execution_count": 55
        }
      ]
    },
    {
      "cell_type": "code",
      "source": [
        "class int(int):\n",
        "    def __add__(self, a):\n",
        "        return self * a\n",
        "\n",
        "int('10')+ int('10')"
      ],
      "metadata": {
        "colab": {
          "base_uri": "https://localhost:8080/"
        },
        "id": "7-uFy9WNKr2G",
        "outputId": "5b66c7eb-882c-4263-f19c-5f7d2a37a391"
      },
      "execution_count": null,
      "outputs": [
        {
          "output_type": "execute_result",
          "data": {
            "text/plain": [
              "100"
            ]
          },
          "metadata": {},
          "execution_count": 56
        }
      ]
    },
    {
      "cell_type": "code",
      "source": [
        "dir(10)"
      ],
      "metadata": {
        "id": "LkxlolvRK73q"
      },
      "execution_count": null,
      "outputs": []
    },
    {
      "cell_type": "code",
      "source": [
        "class int(int):\n",
        "    def 제곱(self, 승수):\n",
        "        return self ** 승수\n",
        "\n",
        "value = int('10')\n",
        "print(dir(value))"
      ],
      "metadata": {
        "colab": {
          "base_uri": "https://localhost:8080/"
        },
        "id": "UiYO-ArBLevj",
        "outputId": "2201616b-6dcc-44f4-bf05-405bacce1f48"
      },
      "execution_count": null,
      "outputs": [
        {
          "output_type": "stream",
          "name": "stdout",
          "text": [
            "['__abs__', '__add__', '__and__', '__bool__', '__ceil__', '__class__', '__delattr__', '__dict__', '__dir__', '__divmod__', '__doc__', '__eq__', '__float__', '__floor__', '__floordiv__', '__format__', '__ge__', '__getattribute__', '__getnewargs__', '__gt__', '__hash__', '__index__', '__init__', '__init_subclass__', '__int__', '__invert__', '__le__', '__lshift__', '__lt__', '__mod__', '__module__', '__mul__', '__ne__', '__neg__', '__new__', '__or__', '__pos__', '__pow__', '__radd__', '__rand__', '__rdivmod__', '__reduce__', '__reduce_ex__', '__repr__', '__rfloordiv__', '__rlshift__', '__rmod__', '__rmul__', '__ror__', '__round__', '__rpow__', '__rrshift__', '__rshift__', '__rsub__', '__rtruediv__', '__rxor__', '__setattr__', '__sizeof__', '__str__', '__sub__', '__subclasshook__', '__truediv__', '__trunc__', '__xor__', 'as_integer_ratio', 'bit_count', 'bit_length', 'conjugate', 'denominator', 'from_bytes', 'imag', 'numerator', 'real', 'to_bytes', '제곱']\n"
          ]
        }
      ]
    },
    {
      "cell_type": "code",
      "source": [
        "value.제곱(3)"
      ],
      "metadata": {
        "colab": {
          "base_uri": "https://localhost:8080/"
        },
        "id": "DCC83YUILw2V",
        "outputId": "07274a77-f2b8-4744-a1d5-5eac305da330"
      },
      "execution_count": null,
      "outputs": [
        {
          "output_type": "execute_result",
          "data": {
            "text/plain": [
              "1000"
            ]
          },
          "metadata": {},
          "execution_count": 61
        }
      ]
    },
    {
      "cell_type": "code",
      "source": [
        "x = 10\n",
        "y = x\n",
        "z = y\n",
        "\n",
        "print(id(x), id(y), id(z))"
      ],
      "metadata": {
        "colab": {
          "base_uri": "https://localhost:8080/"
        },
        "id": "iNpJHq-2MCmr",
        "outputId": "941b6a72-0f0e-46d9-868d-4cbda1404479"
      },
      "execution_count": null,
      "outputs": [
        {
          "output_type": "stream",
          "name": "stdout",
          "text": [
            "140663913988624 140663913988624 140663913988624\n"
          ]
        }
      ]
    },
    {
      "cell_type": "code",
      "source": [
        "x = 10\n",
        "y = x\n",
        "x = 100\n",
        "\n",
        "print(x, y)\n",
        "print(id(x), id(y), id(z))"
      ],
      "metadata": {
        "colab": {
          "base_uri": "https://localhost:8080/"
        },
        "id": "cRpN1bdSMn5G",
        "outputId": "f4d384c8-39f0-4866-a981-8db21b2dd81d"
      },
      "execution_count": null,
      "outputs": [
        {
          "output_type": "stream",
          "name": "stdout",
          "text": [
            "100 10\n",
            "140663913991504 140663913988624 140663913988624\n"
          ]
        }
      ]
    },
    {
      "cell_type": "markdown",
      "source": [
        "## 변수의 속성"
      ],
      "metadata": {
        "id": "S4RbrFbpNZnV"
      }
    },
    {
      "cell_type": "markdown",
      "source": [
        "* 변수는 주로 스네이크 표기법을 많이 사용합니다. 물론 회사 컨벤션에 따르셔야 합니다.\n",
        "* 영문과 숫자를 사용할 수 있지만, 숫자로  시작하지는 못합니다.\n",
        "* 특수문자는 사용하지 않아요.(언더바(_)는  사용합니다. 스네이크 표기법, 특수문자나  이미중 사용 가능한 것들이 있기는 합니다.  권하지 않습니다.)\n",
        "* 예약어는 사용하지 않습니다.(if, elif, while, * for, etc)\n",
        "* 대소문자는 구분합니다.\n",
        "* 언더바로만 사용하거나 언더바로 시작할 수 있습니다.\n",
        "* 대문자로 시작하는 변수를 사용할 수 있지만, 관습적으로 대문자로 시작하는 변수는 Class로 만들기 때문에 소문자로 시작하는 변수를 만들기를 권합니다. Class는 보통 파스칼 표기법을 따릅니다. 다만 회사 컨벤션마다 다릅니다."
      ],
      "metadata": {
        "id": "iuZm-W1TNb6K"
      }
    },
    {
      "cell_type": "code",
      "source": [
        "# 스네이크 표기법 (Python에서 주로)\n",
        "hello_world = 10\n",
        "# 카멜 표기법 (JS에서 주로)\n",
        "helloWorldHello = 10\n",
        "# 파스칼 표기법 (Class 같은 곳에서 많이 사용합니다.)\n",
        "Hello = 10"
      ],
      "metadata": {
        "id": "CxRsbq6YgqSv"
      },
      "execution_count": null,
      "outputs": []
    },
    {
      "cell_type": "code",
      "source": [
        "# 10hello = 10\n",
        "hello10 = 10\n",
        "\n",
        "_ = 100 # 언더바는 자주 사용되는데 이렇게 사용되진 않습니다.\n",
        "print(_)"
      ],
      "metadata": {
        "colab": {
          "base_uri": "https://localhost:8080/"
        },
        "id": "JkFAYI-QhSYC",
        "outputId": "7ca3b2c6-7b9c-4e8f-e216-f39a0406b2e3"
      },
      "execution_count": null,
      "outputs": [
        {
          "output_type": "stream",
          "name": "stdout",
          "text": [
            "100\n"
          ]
        }
      ]
    },
    {
      "cell_type": "code",
      "source": [
        "for _ in range(10): #언더바를 순회 안에서 변수로 사용하지 않을 때\n",
        "    print('hello')"
      ],
      "metadata": {
        "id": "WLCEv57WiWiJ"
      },
      "execution_count": null,
      "outputs": []
    },
    {
      "cell_type": "code",
      "source": [
        "# if = 100\n",
        "# print = 100"
      ],
      "metadata": {
        "id": "nWoKEHUYio-G"
      },
      "execution_count": null,
      "outputs": []
    },
    {
      "cell_type": "code",
      "source": [
        "# print('hello')"
      ],
      "metadata": {
        "id": "fFYn-N5xi0XK"
      },
      "execution_count": null,
      "outputs": []
    },
    {
      "cell_type": "markdown",
      "source": [
        "## 입력과 출력"
      ],
      "metadata": {
        "id": "Oz1nEE1tjhBN"
      }
    },
    {
      "cell_type": "code",
      "source": [
        "x = input()\n",
        "x"
      ],
      "metadata": {
        "colab": {
          "base_uri": "https://localhost:8080/"
        },
        "id": "nk1ENib1jnIW",
        "outputId": "89d9e1f8-5dc0-4215-c168-12d909827c4d"
      },
      "execution_count": null,
      "outputs": [
        {
          "name": "stdout",
          "output_type": "stream",
          "text": [
            "10\n"
          ]
        },
        {
          "output_type": "execute_result",
          "data": {
            "text/plain": [
              "'10'"
            ],
            "application/vnd.google.colaboratory.intrinsic+json": {
              "type": "string"
            }
          },
          "metadata": {},
          "execution_count": 1
        }
      ]
    },
    {
      "cell_type": "code",
      "source": [
        "x + x # 사용자에게 받은 입력은 str"
      ],
      "metadata": {
        "colab": {
          "base_uri": "https://localhost:8080/"
        },
        "id": "NeB9_rGJjrbz",
        "outputId": "0c388f38-4f27-4f20-dc75-94d80bdd141c"
      },
      "execution_count": null,
      "outputs": [
        {
          "output_type": "execute_result",
          "data": {
            "text/plain": [
              "'1010'"
            ],
            "application/vnd.google.colaboratory.intrinsic+json": {
              "type": "string"
            }
          },
          "metadata": {},
          "execution_count": 2
        }
      ]
    },
    {
      "cell_type": "code",
      "source": [
        "print(10, 10, 10)"
      ],
      "metadata": {
        "colab": {
          "base_uri": "https://localhost:8080/"
        },
        "id": "7fvTZLtOj8Cl",
        "outputId": "2626ce84-c7a9-4124-b24d-769e9d715dc3"
      },
      "execution_count": null,
      "outputs": [
        {
          "output_type": "stream",
          "name": "stdout",
          "text": [
            "10 10 10\n"
          ]
        }
      ]
    },
    {
      "cell_type": "code",
      "source": [
        "print('hello', 'world', 'hello')"
      ],
      "metadata": {
        "colab": {
          "base_uri": "https://localhost:8080/"
        },
        "id": "uXRfU8fikBn_",
        "outputId": "64efd4ad-e58b-44ba-af28-2fa64492b33f"
      },
      "execution_count": null,
      "outputs": [
        {
          "output_type": "stream",
          "name": "stdout",
          "text": [
            "hello world hello\n"
          ]
        }
      ]
    },
    {
      "cell_type": "code",
      "source": [
        "print(x, x)"
      ],
      "metadata": {
        "colab": {
          "base_uri": "https://localhost:8080/"
        },
        "id": "Hd8rEEKbkEmZ",
        "outputId": "52d5cbd5-3381-4810-fc67-8375b0eba3c1"
      },
      "execution_count": null,
      "outputs": [
        {
          "output_type": "stream",
          "name": "stdout",
          "text": [
            "10 10\n"
          ]
        }
      ]
    },
    {
      "cell_type": "code",
      "source": [
        "print('hello world', end='!')\n",
        "print('hello world', end='!')\n",
        "print('hello world', end='!')"
      ],
      "metadata": {
        "colab": {
          "base_uri": "https://localhost:8080/"
        },
        "id": "BdxkvBlJkfFt",
        "outputId": "4b9a54ea-1a87-4003-e7d1-efa90500a8e9"
      },
      "execution_count": null,
      "outputs": [
        {
          "output_type": "stream",
          "name": "stdout",
          "text": [
            "hello world!hello world!hello world!"
          ]
        }
      ]
    },
    {
      "cell_type": "code",
      "source": [
        "print('hello world', sep='!')\n",
        "print('010', '1234', '5678', sep='-')"
      ],
      "metadata": {
        "colab": {
          "base_uri": "https://localhost:8080/"
        },
        "id": "MB5zvc8Xk_fS",
        "outputId": "ac2ccd03-c351-41a3-c72a-b26863e4000d"
      },
      "execution_count": null,
      "outputs": [
        {
          "output_type": "stream",
          "name": "stdout",
          "text": [
            "hello world\n",
            "010-1234-5678\n"
          ]
        }
      ]
    },
    {
      "cell_type": "code",
      "source": [
        "이름 = '김태은'\n",
        "나이 = 24\n",
        "print(f'제 이름은 {이름}입니다. 나이느 {나이}입니다')"
      ],
      "metadata": {
        "colab": {
          "base_uri": "https://localhost:8080/"
        },
        "id": "J5jJg7I3lHcT",
        "outputId": "18b1fd09-a21f-4d17-d614-b4fdbbd07bf6"
      },
      "execution_count": null,
      "outputs": [
        {
          "output_type": "stream",
          "name": "stdout",
          "text": [
            "제 이름은 김태은입니다. 나이느 24입니다\n"
          ]
        }
      ]
    },
    {
      "cell_type": "markdown",
      "source": [
        "## formatting"
      ],
      "metadata": {
        "id": "Dp6RjxJtm5Tx"
      }
    },
    {
      "cell_type": "code",
      "source": [
        "print(f'{100 * 10}')"
      ],
      "metadata": {
        "colab": {
          "base_uri": "https://localhost:8080/"
        },
        "id": "o_Lu1EURnHWG",
        "outputId": "756d2021-738b-4983-d0db-93476016203a"
      },
      "execution_count": null,
      "outputs": [
        {
          "output_type": "stream",
          "name": "stdout",
          "text": [
            "1000\n"
          ]
        }
      ]
    },
    {
      "cell_type": "code",
      "source": [
        "# 중괄호 안에서 복잡한 연산을 하시는 것을 권하지 않습니다.\n",
        "result = 100 * 10\n",
        "print(f'{result}')"
      ],
      "metadata": {
        "colab": {
          "base_uri": "https://localhost:8080/"
        },
        "id": "fKKm05o2nKMr",
        "outputId": "902f8ef1-9f47-4ebd-c0ee-3171b2f4731a"
      },
      "execution_count": null,
      "outputs": [
        {
          "output_type": "stream",
          "name": "stdout",
          "text": [
            "1000\n"
          ]
        }
      ]
    },
    {
      "cell_type": "code",
      "source": [
        "# 이런 문법은 필요에 의해 검색하다 보면 익숙해집니다.\n",
        "print(f'{\"hello\":<10}')\n",
        "print(f'{\"hello\":>10}')\n",
        "print(f'{\"hello\":^10}')"
      ],
      "metadata": {
        "id": "_j_r01NFoe7W"
      },
      "execution_count": null,
      "outputs": []
    },
    {
      "cell_type": "code",
      "source": [
        "txt = 'hello'\n",
        "i = 10\n",
        "print(f'{txt:>10}')\n",
        "print(f'{txt:>{i}}')"
      ],
      "metadata": {
        "colab": {
          "base_uri": "https://localhost:8080/"
        },
        "id": "rI9fohzZnnYZ",
        "outputId": "1897215d-d108-412f-b4a7-f1eb65e836af"
      },
      "execution_count": null,
      "outputs": [
        {
          "output_type": "stream",
          "name": "stdout",
          "text": [
            "     hello\n",
            "     hello\n"
          ]
        }
      ]
    },
    {
      "cell_type": "code",
      "source": [
        "# 이런 문법은 필요에 의해 검색하다 보면 익숙해집니다.\n",
        "print(f'{\"hello\":!<10}')\n",
        "print(f'{\"hello\":!>10}')\n",
        "print(f'{\"hello\":!^10}')"
      ],
      "metadata": {
        "colab": {
          "base_uri": "https://localhost:8080/"
        },
        "id": "uG1TxfeZnSyd",
        "outputId": "fbf4853b-30d2-4145-ee77-9431be37cb7a"
      },
      "execution_count": null,
      "outputs": [
        {
          "output_type": "stream",
          "name": "stdout",
          "text": [
            "hello!!!!!\n",
            "!!!!!hello\n",
            "!!hello!!!\n"
          ]
        }
      ]
    },
    {
      "cell_type": "code",
      "source": [
        "# 이런 문법은 필요에 의해 검색하다 보면 익숙해집니다.\n",
        "print(f'{\"hello\":=<10}')\n",
        "print(f'{\"hello\":=>10}')\n",
        "print(f'{\"hello\":=^10}')"
      ],
      "metadata": {
        "colab": {
          "base_uri": "https://localhost:8080/"
        },
        "id": "8tc7ZZPboCTB",
        "outputId": "00841d26-95b4-4fd7-d73a-c8b3b2cd0800"
      },
      "execution_count": null,
      "outputs": [
        {
          "output_type": "stream",
          "name": "stdout",
          "text": [
            "hello=====\n",
            "=====hello\n",
            "==hello===\n"
          ]
        }
      ]
    },
    {
      "cell_type": "code",
      "source": [
        "# 둘 다 잊으셔도 됩니다.\n",
        "# https://tech.kakao.com/2017/09/27/kakao-blind-recruitment-round-1/\n",
        "bin(9)\n",
        "print(f'{bin(9)[2:]:0>5}')"
      ],
      "metadata": {
        "colab": {
          "base_uri": "https://localhost:8080/"
        },
        "id": "R0jlAyfzobiC",
        "outputId": "3e5ce283-182f-4ea3-8de4-133d62839ab6"
      },
      "execution_count": null,
      "outputs": [
        {
          "output_type": "stream",
          "name": "stdout",
          "text": [
            "01001\n"
          ]
        }
      ]
    },
    {
      "cell_type": "code",
      "source": [
        "bin(9 | 30)[2:].replace('1', '#').replace('0', ' ')"
      ],
      "metadata": {
        "colab": {
          "base_uri": "https://localhost:8080/",
          "height": 35
        },
        "id": "fREy8BnJunkI",
        "outputId": "e5c77ca7-5c0c-4881-ffb6-6ae43ef4bd71"
      },
      "execution_count": null,
      "outputs": [
        {
          "output_type": "execute_result",
          "data": {
            "text/plain": [
              "'#####'"
            ],
            "application/vnd.google.colaboratory.intrinsic+json": {
              "type": "string"
            }
          },
          "metadata": {},
          "execution_count": 26
        }
      ]
    },
    {
      "cell_type": "code",
      "source": [
        "# 요정도 활용을 합니다.\n",
        "print(f'{\"start\":-^20}')\n"
      ],
      "metadata": {
        "colab": {
          "base_uri": "https://localhost:8080/"
        },
        "id": "-sxK1hrwvDl9",
        "outputId": "4c750f21-c01d-44f1-da8e-8119b78c6279"
      },
      "execution_count": null,
      "outputs": [
        {
          "output_type": "stream",
          "name": "stdout",
          "text": [
            "-------start--------\n"
          ]
        }
      ]
    },
    {
      "cell_type": "code",
      "source": [
        "print(f'{0.12345:0.2f}')"
      ],
      "metadata": {
        "colab": {
          "base_uri": "https://localhost:8080/"
        },
        "id": "PyGZQLzSvfUO",
        "outputId": "443dcba4-8da6-43e2-dc7c-b7d4db8e88cd"
      },
      "execution_count": null,
      "outputs": [
        {
          "output_type": "stream",
          "name": "stdout",
          "text": [
            "0.12\n"
          ]
        }
      ]
    },
    {
      "cell_type": "markdown",
      "source": [
        "* 이 아래 코드는 필수는 아닙니다. 참고 삼아 넣어드립니다."
      ],
      "metadata": {
        "id": "I3pemccXv_ti"
      }
    },
    {
      "cell_type": "code",
      "source": [
        "# 이전 방식\n",
        "print('나의 이름은 %s입니다'%('한사람'))\n",
        "print('나의 이름은 \"%s\"입니다. 나이는 %d세이고 성별은 %s입니다.'%('한사람',33,'남성'))\n",
        "print('나이는 %d세이고 성별은 %s입니다. 나의 이름은 %s입니다. '%(33,'남성','한사람'))\n",
        "print('나이는 %03d세이고 신장은 %6.2f입니다. 나의 이름은 %s입니다. '%(33,56.789,'한사람'))\n",
        "print('-' * 40)\n",
        "\n",
        "# 파이썬(Python) 3 포맷팅 방식\n",
        "print('나의 이름은 {}입니다'.format('한사람'))\n",
        "print('나의 이름은 {0}입니다. 나이는 {1}세이고 성별은 {2}입니다.'.format('한사람',33,'남성'))\n",
        "print('나이는 {1}세이고 성별은 {2}입니다. 나의 이름은 {0}입니다. '.format('한사람',33,'남성'))\n",
        "print('나이는 {age}세이고 성별은 {gender}입니다. 나의 이름은 {name}입니다. '\n",
        "         .format(name='한사람',age=33,gender='남성'))\n",
        "print('만세삼창 :  {0}!!! {0}!!! {0}!!! '.format('만세'))\n",
        "print('삼삼칠 박수 :  {0}!!! {0}!!! {1}!!! '.format('짝'*3,'짝'*7))\n",
        "print('-' * 40)\n",
        "\n",
        "# 파이썬(Python) 3.6 f-string 방식\n",
        "something = '볼펜'\n",
        "EA = 2\n",
        "one_length = 5.343\n",
        "scale = 'cm'\n",
        "\n",
        "print(f'{something} {EA}개의 길이는 {one_length*EA}{scale} 입니다.')\n",
        "print(f'{something} {EA}개의 길이는 {one_length*EA:.1f}{scale} 입니다.')"
      ],
      "metadata": {
        "colab": {
          "base_uri": "https://localhost:8080/"
        },
        "id": "Xu5noB0NwIHb",
        "outputId": "42ee3da9-6395-4c9f-c9cf-110f6c851975"
      },
      "execution_count": null,
      "outputs": [
        {
          "output_type": "stream",
          "name": "stdout",
          "text": [
            "나의 이름은 한사람입니다\n",
            "나의 이름은 \"한사람\"입니다. 나이는 33세이고 성별은 남성입니다.\n",
            "나이는 33세이고 성별은 남성입니다. 나의 이름은 한사람입니다. \n",
            "나이는 033세이고 신장은  56.79입니다. 나의 이름은 한사람입니다. \n",
            "----------------------------------------\n",
            "나의 이름은 한사람입니다\n",
            "나의 이름은 한사람입니다. 나이는 33세이고 성별은 남성입니다.\n",
            "나이는 33세이고 성별은 남성입니다. 나의 이름은 한사람입니다. \n",
            "나이는 33세이고 성별은 남성입니다. 나의 이름은 한사람입니다. \n",
            "만세삼창 :  만세!!! 만세!!! 만세!!! \n",
            "삼삼칠 박수 :  짝짝짝!!! 짝짝짝!!! 짝짝짝짝짝짝짝!!! \n",
            "----------------------------------------\n",
            "볼펜 2개의 길이는 10.686cm 입니다.\n",
            "볼펜 2개의 길이는 10.7cm 입니다.\n"
          ]
        }
      ]
    },
    {
      "cell_type": "code",
      "source": [
        "print('Python is [{:15}]'.format('good'))\n",
        "print('Python is [{:<15}]'.format('good'))\n",
        "print('Python is [{:>15}]'.format('good'))\n",
        "print('Python is [{:^15}]'.format('good'))\n",
        "print('당신의 나이는 [{:15}]세'.format(22))\n",
        "print('당신의 나이는 [{:<15}]세'.format(22))\n",
        "print('당신의 나이는 [{:>15}]세'.format(22))\n",
        "print('당신의 나이는 [{:<15}]세'.format(22))\n",
        "print('-' * 40)"
      ],
      "metadata": {
        "colab": {
          "base_uri": "https://localhost:8080/"
        },
        "id": "31H5s4t9wXjL",
        "outputId": "f339b643-4144-4712-f66a-433972d9707a"
      },
      "execution_count": null,
      "outputs": [
        {
          "output_type": "stream",
          "name": "stdout",
          "text": [
            "Python is [good           ]\n",
            "Python is [good           ]\n",
            "Python is [           good]\n",
            "Python is [     good      ]\n",
            "당신의 나이는 [             22]세\n",
            "당신의 나이는 [22             ]세\n",
            "당신의 나이는 [             22]세\n",
            "당신의 나이는 [22             ]세\n",
            "----------------------------------------\n"
          ]
        }
      ]
    },
    {
      "cell_type": "markdown",
      "source": [
        "## int"
      ],
      "metadata": {
        "id": "8FYqTHtrwnhQ"
      }
    },
    {
      "cell_type": "markdown",
      "source": [
        "* 파이썬에서는 숫자를 정수, 실수, 복소수로 나눠 표현합니다. \n",
        "* 2진수, 8진수, 16진수는 정수로 표현됩니다."
      ],
      "metadata": {
        "id": "dykR13dHwpyd"
      }
    },
    {
      "cell_type": "code",
      "source": [
        "10 # 정수\n",
        "-10 # 정수\n",
        "10.1 # 실수\n",
        "\n",
        "a = 10\n",
        "type(a)\n",
        "dir(a)"
      ],
      "metadata": {
        "colab": {
          "base_uri": "https://localhost:8080/"
        },
        "id": "njdBx3HwwaMD",
        "outputId": "b3491517-2445-4280-e411-9f40d394249c"
      },
      "execution_count": null,
      "outputs": [
        {
          "output_type": "execute_result",
          "data": {
            "text/plain": [
              "['__abs__',\n",
              " '__add__',\n",
              " '__and__',\n",
              " '__bool__',\n",
              " '__ceil__',\n",
              " '__class__',\n",
              " '__delattr__',\n",
              " '__dir__',\n",
              " '__divmod__',\n",
              " '__doc__',\n",
              " '__eq__',\n",
              " '__float__',\n",
              " '__floor__',\n",
              " '__floordiv__',\n",
              " '__format__',\n",
              " '__ge__',\n",
              " '__getattribute__',\n",
              " '__getnewargs__',\n",
              " '__gt__',\n",
              " '__hash__',\n",
              " '__index__',\n",
              " '__init__',\n",
              " '__init_subclass__',\n",
              " '__int__',\n",
              " '__invert__',\n",
              " '__le__',\n",
              " '__lshift__',\n",
              " '__lt__',\n",
              " '__mod__',\n",
              " '__mul__',\n",
              " '__ne__',\n",
              " '__neg__',\n",
              " '__new__',\n",
              " '__or__',\n",
              " '__pos__',\n",
              " '__pow__',\n",
              " '__radd__',\n",
              " '__rand__',\n",
              " '__rdivmod__',\n",
              " '__reduce__',\n",
              " '__reduce_ex__',\n",
              " '__repr__',\n",
              " '__rfloordiv__',\n",
              " '__rlshift__',\n",
              " '__rmod__',\n",
              " '__rmul__',\n",
              " '__ror__',\n",
              " '__round__',\n",
              " '__rpow__',\n",
              " '__rrshift__',\n",
              " '__rshift__',\n",
              " '__rsub__',\n",
              " '__rtruediv__',\n",
              " '__rxor__',\n",
              " '__setattr__',\n",
              " '__sizeof__',\n",
              " '__str__',\n",
              " '__sub__',\n",
              " '__subclasshook__',\n",
              " '__truediv__',\n",
              " '__trunc__',\n",
              " '__xor__',\n",
              " 'as_integer_ratio',\n",
              " 'bit_count',\n",
              " 'bit_length',\n",
              " 'conjugate',\n",
              " 'denominator',\n",
              " 'from_bytes',\n",
              " 'imag',\n",
              " 'numerator',\n",
              " 'real',\n",
              " 'to_bytes']"
            ]
          },
          "metadata": {},
          "execution_count": 32
        }
      ]
    },
    {
      "cell_type": "code",
      "source": [
        " 'bit_length' # bit로 바꿨을 때 비트의 길이\n",
        " 'to_bytes' # 컴퓨터에서 저장하는 바이트의 형태로 숫자를 표현"
      ],
      "metadata": {
        "id": "Zb48WoELxeUI"
      },
      "execution_count": null,
      "outputs": []
    },
    {
      "cell_type": "code",
      "source": [
        "# 1Bit, 0 ~ 1 # bit - 1자리\n",
        "# 1Bytes = 8bit, 00000000 ~ 11111111 # 1byte - 8bit\n",
        "# 1KB (키로바이트) = 1024Bytes\n",
        "# 1MB (메가바이트) = 1024Kb \n",
        "# 1GB (기가바이트) = 1024MB\n",
        "# 1TB (테라바이트) = 1024GB\n",
        "# 1PB (페타바이트) = 1024TB"
      ],
      "metadata": {
        "id": "CZJvDzxrxxaE"
      },
      "execution_count": null,
      "outputs": []
    },
    {
      "cell_type": "code",
      "source": [
        "(9).bit_length() #1001"
      ],
      "metadata": {
        "colab": {
          "base_uri": "https://localhost:8080/"
        },
        "id": "eCVPyazpzhqo",
        "outputId": "945d9a12-ae22-4db4-aa90-03c1ca286ba8"
      },
      "execution_count": null,
      "outputs": [
        {
          "output_type": "execute_result",
          "data": {
            "text/plain": [
              "4"
            ]
          },
          "metadata": {},
          "execution_count": 33
        }
      ]
    },
    {
      "cell_type": "code",
      "source": [
        "(2).to_bytes(1, byteorder='little', signed=True)"
      ],
      "metadata": {
        "colab": {
          "base_uri": "https://localhost:8080/"
        },
        "id": "ZQQ-WdLsz2pT",
        "outputId": "4691d9c4-56ad-46b2-abe2-b6822e0a17c5"
      },
      "execution_count": null,
      "outputs": [
        {
          "output_type": "execute_result",
          "data": {
            "text/plain": [
              "b'\\x02'"
            ]
          },
          "metadata": {},
          "execution_count": 35
        }
      ]
    },
    {
      "cell_type": "code",
      "source": [
        "# 컴퓨터는 음수를 자체적으로 표현할 수 없기에 2의 보수를 사용합니다.\n",
        "# 1의 보수를 사용하게 되면 +0과 -0이 존재하게 됨으로 비트 하나를 낭비하게 됩니다.\n",
        "# 따라서 2의 보수를 사용합니다."
      ],
      "metadata": {
        "id": "ICN0kkVW2pjb"
      },
      "execution_count": null,
      "outputs": []
    },
    {
      "cell_type": "code",
      "source": [
        "# 0000 0001 # 1\n",
        "# 1111 1110 # 1의 1의 보수\n",
        "# 1111 1111 # 1의 2의 보수 => ff"
      ],
      "metadata": {
        "id": "5KLV7Yj_2ysD"
      },
      "execution_count": null,
      "outputs": []
    },
    {
      "cell_type": "code",
      "source": [
        "# 진법 변환 쉽게 하는 법 : 가장 가까운 승수를 찾아 더하거나 뺀다.\n",
        "# 10진법\n",
        "# 0 1 2 3 4 5 6 7 8 9 -> 10\n",
        "# 1324 = 1*10^1 + 3*10^1 + 2*10^1 + 4*10^0\n",
        "\n",
        "# 2진법\n",
        "# 0 1 -> 10\n",
        "# 1001 = 1*2^3 + 1*2^0 = 9\n",
        "\n",
        "# 8진법\n",
        "# 0 1 2 3 4 5 6 7 -> 10\n",
        "\n",
        "# 16진법\n",
        "# 0 1 2 3 4 5 6 7 8 9 a b c d e f\n"
      ],
      "metadata": {
        "id": "aXoz7zXS24h7"
      },
      "execution_count": null,
      "outputs": []
    },
    {
      "cell_type": "code",
      "source": [
        "# color의 표현\n",
        "# 2596be\n",
        "# 000000 ~ ffffff\n",
        "# ff는 10진수로 무슨 숫자를 의미\n",
        "# 100 - 1 => ff가 됩니다. 그래서256 - 1"
      ],
      "metadata": {
        "id": "dIQlpIak7n7t"
      },
      "execution_count": null,
      "outputs": []
    },
    {
      "cell_type": "code",
      "source": [
        "a = 10\n",
        "type(a)"
      ],
      "metadata": {
        "colab": {
          "base_uri": "https://localhost:8080/"
        },
        "id": "JTzLaaLw8F12",
        "outputId": "e7892c71-0518-46da-ebd6-dcee8f639806"
      },
      "execution_count": null,
      "outputs": [
        {
          "output_type": "execute_result",
          "data": {
            "text/plain": [
              "int"
            ]
          },
          "metadata": {},
          "execution_count": 40
        }
      ]
    },
    {
      "cell_type": "code",
      "source": [
        "int('10') + int('10')"
      ],
      "metadata": {
        "colab": {
          "base_uri": "https://localhost:8080/"
        },
        "id": "sPNf2_Nk8N_N",
        "outputId": "a58e6836-c3f8-4f7a-b773-ce07a4a553cf"
      },
      "execution_count": null,
      "outputs": [
        {
          "output_type": "execute_result",
          "data": {
            "text/plain": [
              "20"
            ]
          },
          "metadata": {},
          "execution_count": 42
        }
      ]
    },
    {
      "cell_type": "code",
      "source": [
        "int('10', 2) # 2진법으로 10은?"
      ],
      "metadata": {
        "colab": {
          "base_uri": "https://localhost:8080/"
        },
        "id": "soYTep7n8PFo",
        "outputId": "e8461018-9efe-446c-cda1-6af1163c85a2"
      },
      "execution_count": null,
      "outputs": [
        {
          "output_type": "execute_result",
          "data": {
            "text/plain": [
              "2"
            ]
          },
          "metadata": {},
          "execution_count": 43
        }
      ]
    },
    {
      "cell_type": "code",
      "source": [
        "int('10', 8) # 8진법으로 10은?"
      ],
      "metadata": {
        "colab": {
          "base_uri": "https://localhost:8080/"
        },
        "id": "DAxjDR4e8fgs",
        "outputId": "5d85902a-90e0-46ff-88e0-2bd251821c94"
      },
      "execution_count": null,
      "outputs": [
        {
          "output_type": "execute_result",
          "data": {
            "text/plain": [
              "8"
            ]
          },
          "metadata": {},
          "execution_count": 44
        }
      ]
    },
    {
      "cell_type": "code",
      "source": [
        "int('10', 16) # 16진법으로 10은?\n"
      ],
      "metadata": {
        "colab": {
          "base_uri": "https://localhost:8080/"
        },
        "id": "akMIADbQ8iOo",
        "outputId": "3f76ad5d-d988-4449-a5af-b8c37cabb217"
      },
      "execution_count": null,
      "outputs": [
        {
          "output_type": "execute_result",
          "data": {
            "text/plain": [
              "16"
            ]
          },
          "metadata": {},
          "execution_count": 45
        }
      ]
    },
    {
      "cell_type": "code",
      "source": [
        "print(0b110) # 바이너리 - 2진수\n",
        "print(0o110) # 옥타 - 8진수\n",
        "print(0x110) # 헥사 - 16진수"
      ],
      "metadata": {
        "id": "9v-Pulie8j7t"
      },
      "execution_count": null,
      "outputs": []
    },
    {
      "cell_type": "code",
      "source": [
        "a = 10\n",
        "type(a) == int\n",
        "isinstance(a, int)"
      ],
      "metadata": {
        "colab": {
          "base_uri": "https://localhost:8080/"
        },
        "id": "mEXddj028-cu",
        "outputId": "2c267707-2d8c-4401-b52c-7aa1bd38a1df"
      },
      "execution_count": null,
      "outputs": [
        {
          "output_type": "execute_result",
          "data": {
            "text/plain": [
              "True"
            ]
          },
          "metadata": {},
          "execution_count": 46
        }
      ]
    },
    {
      "cell_type": "markdown",
      "source": [
        "# float(실수)"
      ],
      "metadata": {
        "id": "jvcEsUCZ9E7B"
      }
    },
    {
      "cell_type": "code",
      "source": [
        "a = 10.1\n",
        "type(a)"
      ],
      "metadata": {
        "colab": {
          "base_uri": "https://localhost:8080/"
        },
        "id": "SdnRLy9P9OIn",
        "outputId": "758dc7fd-8de9-4d2e-cb51-7bff5a4eab08"
      },
      "execution_count": null,
      "outputs": [
        {
          "output_type": "execute_result",
          "data": {
            "text/plain": [
              "float"
            ]
          },
          "metadata": {},
          "execution_count": 47
        }
      ]
    },
    {
      "cell_type": "code",
      "source": [
        "dir(a)"
      ],
      "metadata": {
        "colab": {
          "base_uri": "https://localhost:8080/"
        },
        "id": "L8AXwVty9SB1",
        "outputId": "2a9aebbe-371c-481f-93c5-cf54d3624cb7"
      },
      "execution_count": null,
      "outputs": [
        {
          "output_type": "execute_result",
          "data": {
            "text/plain": [
              "['__abs__',\n",
              " '__add__',\n",
              " '__bool__',\n",
              " '__ceil__',\n",
              " '__class__',\n",
              " '__delattr__',\n",
              " '__dir__',\n",
              " '__divmod__',\n",
              " '__doc__',\n",
              " '__eq__',\n",
              " '__float__',\n",
              " '__floor__',\n",
              " '__floordiv__',\n",
              " '__format__',\n",
              " '__ge__',\n",
              " '__getattribute__',\n",
              " '__getformat__',\n",
              " '__getnewargs__',\n",
              " '__gt__',\n",
              " '__hash__',\n",
              " '__init__',\n",
              " '__init_subclass__',\n",
              " '__int__',\n",
              " '__le__',\n",
              " '__lt__',\n",
              " '__mod__',\n",
              " '__mul__',\n",
              " '__ne__',\n",
              " '__neg__',\n",
              " '__new__',\n",
              " '__pos__',\n",
              " '__pow__',\n",
              " '__radd__',\n",
              " '__rdivmod__',\n",
              " '__reduce__',\n",
              " '__reduce_ex__',\n",
              " '__repr__',\n",
              " '__rfloordiv__',\n",
              " '__rmod__',\n",
              " '__rmul__',\n",
              " '__round__',\n",
              " '__rpow__',\n",
              " '__rsub__',\n",
              " '__rtruediv__',\n",
              " '__setattr__',\n",
              " '__setformat__',\n",
              " '__sizeof__',\n",
              " '__str__',\n",
              " '__sub__',\n",
              " '__subclasshook__',\n",
              " '__truediv__',\n",
              " '__trunc__',\n",
              " 'as_integer_ratio',\n",
              " 'conjugate',\n",
              " 'fromhex',\n",
              " 'hex',\n",
              " 'imag',\n",
              " 'is_integer',\n",
              " 'real']"
            ]
          },
          "metadata": {},
          "execution_count": 48
        }
      ]
    },
    {
      "cell_type": "code",
      "source": [
        "a = 10\n",
        "b = 10.1\n",
        "\n",
        "a + b # 다른 일부 언어에서는 허용되지 않습니다."
      ],
      "metadata": {
        "colab": {
          "base_uri": "https://localhost:8080/"
        },
        "id": "DFHrZmxE9T__",
        "outputId": "6069338d-dfd1-49f7-ea81-b733dddd599f"
      },
      "execution_count": null,
      "outputs": [
        {
          "output_type": "execute_result",
          "data": {
            "text/plain": [
              "20.1"
            ]
          },
          "metadata": {},
          "execution_count": 49
        }
      ]
    },
    {
      "cell_type": "code",
      "source": [
        "# 부동소수점 오차(2진법으로 변환했을 때 0.1이 무한대수가 발생합니다.)\n",
        "0.1 + 0.2 # 대부분의 언어 공통입니다."
      ],
      "metadata": {
        "colab": {
          "base_uri": "https://localhost:8080/"
        },
        "id": "aQ2PF6B99lh-",
        "outputId": "e13ffb23-283e-4ca0-f7f5-7bb281251077"
      },
      "execution_count": null,
      "outputs": [
        {
          "output_type": "execute_result",
          "data": {
            "text/plain": [
              "0.30000000000000004"
            ]
          },
          "metadata": {},
          "execution_count": 50
        }
      ]
    },
    {
      "cell_type": "code",
      "source": [
        "a = 0.1"
      ],
      "metadata": {
        "id": "i99WMsZZ917j"
      },
      "execution_count": null,
      "outputs": []
    },
    {
      "cell_type": "code",
      "source": [
        "# 20번 반복해보세요\n",
        "a += 0.1\n",
        "a"
      ],
      "metadata": {
        "colab": {
          "base_uri": "https://localhost:8080/"
        },
        "id": "Nap8CkOl-YCU",
        "outputId": "2001290a-bdfc-47b2-fa60-4ae433a20b6e"
      },
      "execution_count": null,
      "outputs": [
        {
          "output_type": "execute_result",
          "data": {
            "text/plain": [
              "2.0000000000000004"
            ]
          },
          "metadata": {},
          "execution_count": 71
        }
      ]
    },
    {
      "cell_type": "markdown",
      "source": [
        "* https://docs.python.org/ko/3/tutorial/floatingpoint.html\n",
        "* https://0.30000000000000004.com/ 에서 언어별 해결책을 제시한다.\n",
        "* 컴퓨터에서 부동소수점 숫자는 2진 분수로 표현되기에 무한대수가 발생한다.\n",
        "* [무한수가 발생되는 원리](https://www.notion.so/paullabworkspace/5f34f21bf9a34015b170e7afd7da9593)"
      ],
      "metadata": {
        "id": "Jun3R_Wc-mxE"
      }
    },
    {
      "cell_type": "code",
      "source": [
        "'hello'.count(' ,')"
      ],
      "metadata": {
        "id": "7lhcLS9HAdFt"
      },
      "execution_count": null,
      "outputs": []
    },
    {
      "cell_type": "markdown",
      "source": [
        "## str (문자열)"
      ],
      "metadata": {
        "id": "FMeicMznyfoY"
      }
    },
    {
      "cell_type": "markdown",
      "source": [
        "- 순서가 있는 **시퀀스 자료형**입니다.\n",
        "- 작은 따옴표(' ')나 큰 따옴표(\" \"), 삼중따옴표('''str''', \"\"\"str\"\"\")로 감싸는 것도 가능합니다. (삼중따옴표를 사용할 경우에는 줄단위의 문자열을 나타낼 수 있습니다.)\n",
        "- 작은 따옴표 안에 큰 따옴표, 큰 따옴표 안에 작은 따옴표 사용이 가능합니다.\n",
        "- 이스케이프 문자도 사용이 가능합니다.\n",
        "- 리스트, 튜플도 시퀀스 자료형입니다."
      ],
      "metadata": {
        "id": "-hbFdL_yyqfT"
      }
    },
    {
      "cell_type": "code",
      "source": [
        "s = 'paullab CEO leehojun'\n",
        "s[0] # 0은 index입니다. 이렇게 호출하는 것을 indexing이라고 합니다."
      ],
      "metadata": {
        "colab": {
          "base_uri": "https://localhost:8080/",
          "height": 35
        },
        "id": "-b2xt4WyyriI",
        "outputId": "53979cbc-cd14-4f0a-bed7-8d16ca86f4ae"
      },
      "execution_count": null,
      "outputs": [
        {
          "output_type": "execute_result",
          "data": {
            "text/plain": [
              "'p'"
            ],
            "application/vnd.google.colaboratory.intrinsic+json": {
              "type": "string"
            }
          },
          "metadata": {},
          "execution_count": 2
        }
      ]
    },
    {
      "cell_type": "code",
      "source": [
        "type(s)"
      ],
      "metadata": {
        "colab": {
          "base_uri": "https://localhost:8080/"
        },
        "id": "91BvlBMiz26W",
        "outputId": "73f05a4c-90ea-4b91-bf39-3552fea570f7"
      },
      "execution_count": null,
      "outputs": [
        {
          "output_type": "execute_result",
          "data": {
            "text/plain": [
              "str"
            ]
          },
          "metadata": {},
          "execution_count": 3
        }
      ]
    },
    {
      "cell_type": "code",
      "source": [
        "dir(s)"
      ],
      "metadata": {
        "colab": {
          "base_uri": "https://localhost:8080/"
        },
        "id": "v2_uSQ7S0HjJ",
        "outputId": "2b9cef6d-4570-4332-d35f-0a12a47bc5a8"
      },
      "execution_count": null,
      "outputs": [
        {
          "output_type": "execute_result",
          "data": {
            "text/plain": [
              "['__add__',\n",
              " '__class__',\n",
              " '__contains__',\n",
              " '__delattr__',\n",
              " '__dir__',\n",
              " '__doc__',\n",
              " '__eq__',\n",
              " '__format__',\n",
              " '__ge__',\n",
              " '__getattribute__',\n",
              " '__getitem__',\n",
              " '__getnewargs__',\n",
              " '__gt__',\n",
              " '__hash__',\n",
              " '__init__',\n",
              " '__init_subclass__',\n",
              " '__iter__',\n",
              " '__le__',\n",
              " '__len__',\n",
              " '__lt__',\n",
              " '__mod__',\n",
              " '__mul__',\n",
              " '__ne__',\n",
              " '__new__',\n",
              " '__reduce__',\n",
              " '__reduce_ex__',\n",
              " '__repr__',\n",
              " '__rmod__',\n",
              " '__rmul__',\n",
              " '__setattr__',\n",
              " '__sizeof__',\n",
              " '__str__',\n",
              " '__subclasshook__',\n",
              " 'capitalize',\n",
              " 'casefold',\n",
              " 'center',\n",
              " 'count',\n",
              " 'encode',\n",
              " 'endswith',\n",
              " 'expandtabs',\n",
              " 'find',\n",
              " 'format',\n",
              " 'format_map',\n",
              " 'index',\n",
              " 'isalnum',\n",
              " 'isalpha',\n",
              " 'isascii',\n",
              " 'isdecimal',\n",
              " 'isdigit',\n",
              " 'isidentifier',\n",
              " 'islower',\n",
              " 'isnumeric',\n",
              " 'isprintable',\n",
              " 'isspace',\n",
              " 'istitle',\n",
              " 'isupper',\n",
              " 'join',\n",
              " 'ljust',\n",
              " 'lower',\n",
              " 'lstrip',\n",
              " 'maketrans',\n",
              " 'partition',\n",
              " 'removeprefix',\n",
              " 'removesuffix',\n",
              " 'replace',\n",
              " 'rfind',\n",
              " 'rindex',\n",
              " 'rjust',\n",
              " 'rpartition',\n",
              " 'rsplit',\n",
              " 'rstrip',\n",
              " 'split',\n",
              " 'splitlines',\n",
              " 'startswith',\n",
              " 'strip',\n",
              " 'swapcase',\n",
              " 'title',\n",
              " 'translate',\n",
              " 'upper',\n",
              " 'zfill']"
            ]
          },
          "metadata": {},
          "execution_count": 4
        }
      ]
    },
    {
      "cell_type": "code",
      "source": [
        "# 문자열의 메서드\n",
        "# 'capitalize','casefold','center','count','encode',\n",
        "# 'endswith','expandtabs','find','format','format_map',\n",
        "# 'index','isalnum','isalpha','isascii','isdecimal','isdigit',\n",
        "# 'isidentifier','islower','isnumeric','isprintable','isspace',\n",
        "# 'istitle','isupper','join','ljust','lower','lstrip',\n",
        "# 'maketrans','partition','removeprefix','removesuffix',\n",
        "# 'replace','rfind','rindex','rjust','rpartition','rsplit',\n",
        "# 'rstrip','split','splitlines','startswith','strip','swapcase',\n",
        "# 'title','translate','upper','zfill'"
      ],
      "metadata": {
        "id": "AVwT4NJG0UDJ"
      },
      "execution_count": null,
      "outputs": []
    },
    {
      "cell_type": "code",
      "source": [
        "s = 'paullab CEO leehojun'\n",
        "s.lower(), s.upper() # 특히 사용자에게 입력을 받는 경우 lower도 많이 사용합니다."
      ],
      "metadata": {
        "colab": {
          "base_uri": "https://localhost:8080/"
        },
        "id": "uSYSUS_u0hVL",
        "outputId": "51864cb1-9603-4676-f964-f8836c9753af"
      },
      "execution_count": null,
      "outputs": [
        {
          "output_type": "execute_result",
          "data": {
            "text/plain": [
              "('paullab ceo leehojun', 'PAULLAB CEO LEEHOJUN')"
            ]
          },
          "metadata": {},
          "execution_count": 8
        }
      ]
    },
    {
      "cell_type": "code",
      "source": [
        "s = 'paullab CEO leehojun'\n",
        "s.find('p'), s.index('C')"
      ],
      "metadata": {
        "colab": {
          "base_uri": "https://localhost:8080/"
        },
        "id": "VnyRdqj107Q9",
        "outputId": "46f0899a-e393-4da4-ee92-995538bd6886"
      },
      "execution_count": null,
      "outputs": [
        {
          "output_type": "execute_result",
          "data": {
            "text/plain": [
              "(0, 8)"
            ]
          },
          "metadata": {},
          "execution_count": 9
        }
      ]
    },
    {
      "cell_type": "code",
      "source": [
        "# 견고한 코드란?\n",
        "# 시간이 지나도 그대로 사용할 수 있고\n",
        "# error가 예측 가능하게 나는 코드\n",
        "# 네이버에 이미지 슬라이딩 코드\n",
        "# bool(s.find('Z')) =? -1은 True이기 때문에 주의가 필요합니다.\n",
        "s.find('Z')"
      ],
      "metadata": {
        "colab": {
          "base_uri": "https://localhost:8080/"
        },
        "id": "oYxh_DHR1Lvb",
        "outputId": "2a2c5a46-33b2-4734-d31b-ce796842f1df"
      },
      "execution_count": null,
      "outputs": [
        {
          "output_type": "execute_result",
          "data": {
            "text/plain": [
              "-1"
            ]
          },
          "metadata": {},
          "execution_count": 12
        }
      ]
    },
    {
      "cell_type": "code",
      "source": [
        "# Error가 나면 Error를 주는 것이 좋을 수 있습니다.\n",
        "# Error를 안주는 언어로 JavaScript\n",
        "s.index('Z')"
      ],
      "metadata": {
        "id": "hkXams1r1USs"
      },
      "execution_count": null,
      "outputs": []
    },
    {
      "cell_type": "code",
      "source": [
        "s = 'paullab CEO leehojun'\n",
        "s.find('CEO')"
      ],
      "metadata": {
        "colab": {
          "base_uri": "https://localhost:8080/"
        },
        "id": "DbFkFkqJ2ghb",
        "outputId": "f2fbcc7b-d7bd-45dd-e208-425c95a800c6"
      },
      "execution_count": null,
      "outputs": [
        {
          "output_type": "execute_result",
          "data": {
            "text/plain": [
              "8"
            ]
          },
          "metadata": {},
          "execution_count": 13
        }
      ]
    },
    {
      "cell_type": "code",
      "source": [
        "# 별 5개\n",
        "s = 'paullab CEO leehojun'\n",
        "s.count('l')"
      ],
      "metadata": {
        "colab": {
          "base_uri": "https://localhost:8080/"
        },
        "id": "ZYev3ORw2xX-",
        "outputId": "eac8cf20-173d-4bef-a55c-de23f1905d2f"
      },
      "execution_count": null,
      "outputs": [
        {
          "output_type": "execute_result",
          "data": {
            "text/plain": [
              "3"
            ]
          },
          "metadata": {},
          "execution_count": 14
        }
      ]
    },
    {
      "cell_type": "code",
      "source": [
        "str([1, 2, 3, 4, 5])"
      ],
      "metadata": {
        "colab": {
          "base_uri": "https://localhost:8080/",
          "height": 35
        },
        "id": "xNBEQ2Ue22Bj",
        "outputId": "af8116a3-2767-4aa5-dd81-269865b15fdb"
      },
      "execution_count": null,
      "outputs": [
        {
          "output_type": "execute_result",
          "data": {
            "text/plain": [
              "'[1, 2, 3, 4, 5]'"
            ],
            "application/vnd.google.colaboratory.intrinsic+json": {
              "type": "string"
            }
          },
          "metadata": {},
          "execution_count": 15
        }
      ]
    },
    {
      "cell_type": "code",
      "source": [
        "str([1, 2, 3, 4, 5]).count(' ')"
      ],
      "metadata": {
        "colab": {
          "base_uri": "https://localhost:8080/"
        },
        "id": "hx7s-BV13CDR",
        "outputId": "aa497f1f-31e8-4fd5-f034-4500010f1eda"
      },
      "execution_count": null,
      "outputs": [
        {
          "output_type": "execute_result",
          "data": {
            "text/plain": [
              "4"
            ]
          },
          "metadata": {},
          "execution_count": 16
        }
      ]
    },
    {
      "cell_type": "code",
      "source": [
        "str([1, 2, 3, 4, 5]).count(',')"
      ],
      "metadata": {
        "colab": {
          "base_uri": "https://localhost:8080/"
        },
        "id": "A-_rMsph3EvT",
        "outputId": "07fe7db6-720e-4949-a006-fec3ca081d34"
      },
      "execution_count": null,
      "outputs": [
        {
          "output_type": "execute_result",
          "data": {
            "text/plain": [
              "4"
            ]
          },
          "metadata": {},
          "execution_count": 17
        }
      ]
    },
    {
      "cell_type": "code",
      "source": [
        "str([1, 2, 11, 4, 111]).count('1')"
      ],
      "metadata": {
        "colab": {
          "base_uri": "https://localhost:8080/"
        },
        "id": "w0Y_U7I73INI",
        "outputId": "3be19e6d-b3a4-4fb5-ccef-3ea88ddb4a1c"
      },
      "execution_count": null,
      "outputs": [
        {
          "output_type": "execute_result",
          "data": {
            "text/plain": [
              "6"
            ]
          },
          "metadata": {},
          "execution_count": 18
        }
      ]
    },
    {
      "cell_type": "code",
      "source": [
        "str(list(range(0, 10001))).count('8')"
      ],
      "metadata": {
        "colab": {
          "base_uri": "https://localhost:8080/"
        },
        "id": "Ctls7WAR5e4z",
        "outputId": "110f71cd-b758-4b1e-95a6-e1e2c5e82c8f"
      },
      "execution_count": null,
      "outputs": [
        {
          "output_type": "execute_result",
          "data": {
            "text/plain": [
              "4000"
            ]
          },
          "metadata": {},
          "execution_count": 25
        }
      ]
    },
    {
      "cell_type": "markdown",
      "source": [
        "- https://codingdojang.com/scode/393?answer_mode=hide"
      ],
      "metadata": {
        "id": "cW4aLxL43s3d"
      }
    },
    {
      "cell_type": "code",
      "source": [
        "str([1,2,3,4,5]).count(',')\n",
        "# list는 콤마 다음에 공백이 없더라도 공백으로 인식해줍니다."
      ],
      "metadata": {
        "colab": {
          "base_uri": "https://localhost:8080/"
        },
        "id": "D9xutpj73Qui",
        "outputId": "4b8b1c5b-7772-43fa-d1a6-facecf844fa7"
      },
      "execution_count": null,
      "outputs": [
        {
          "output_type": "execute_result",
          "data": {
            "text/plain": [
              "4"
            ]
          },
          "metadata": {},
          "execution_count": 19
        }
      ]
    },
    {
      "cell_type": "code",
      "source": [
        "str([1,\n",
        "     2,\n",
        "     3,\n",
        "     4,\n",
        "     5]).count(' ') \n",
        "# list는 콤마 다음에 공백이 없더라도 공백으로 인식해줍니다."
      ],
      "metadata": {
        "colab": {
          "base_uri": "https://localhost:8080/"
        },
        "id": "_A0LKxVW4xeQ",
        "outputId": "e1e638b1-d5a3-4b5c-fda1-e5e34ae78cd6"
      },
      "execution_count": null,
      "outputs": [
        {
          "output_type": "execute_result",
          "data": {
            "text/plain": [
              "4"
            ]
          },
          "metadata": {},
          "execution_count": 23
        }
      ]
    },
    {
      "cell_type": "code",
      "source": [
        "'hello'.count('')"
      ],
      "metadata": {
        "colab": {
          "base_uri": "https://localhost:8080/"
        },
        "id": "3xOJnkdV4IMD",
        "outputId": "cce0f367-1576-4c4f-f9b2-7800faecc5ec"
      },
      "execution_count": null,
      "outputs": [
        {
          "output_type": "execute_result",
          "data": {
            "text/plain": [
              "6"
            ]
          },
          "metadata": {},
          "execution_count": 20
        }
      ]
    },
    {
      "cell_type": "code",
      "source": [
        "'a'.count('')"
      ],
      "metadata": {
        "colab": {
          "base_uri": "https://localhost:8080/"
        },
        "id": "14T8O1Tz4dEh",
        "outputId": "d953c919-11ae-4599-d60d-4a49b6a460ed"
      },
      "execution_count": null,
      "outputs": [
        {
          "output_type": "execute_result",
          "data": {
            "text/plain": [
              "2"
            ]
          },
          "metadata": {},
          "execution_count": 22
        }
      ]
    },
    {
      "cell_type": "code",
      "source": [
        "''.count('')"
      ],
      "metadata": {
        "colab": {
          "base_uri": "https://localhost:8080/"
        },
        "id": "d0bOvF6Y4XUd",
        "outputId": "96b93895-9a67-4ed3-fa94-9e4becc1466a"
      },
      "execution_count": null,
      "outputs": [
        {
          "output_type": "execute_result",
          "data": {
            "text/plain": [
              "1"
            ]
          },
          "metadata": {},
          "execution_count": 21
        }
      ]
    },
    {
      "cell_type": "code",
      "source": [
        "'' + ''"
      ],
      "metadata": {
        "colab": {
          "base_uri": "https://localhost:8080/",
          "height": 35
        },
        "id": "fBldiT5p4ZN_",
        "outputId": "59ffbec8-ac49-4b2a-ed12-4f55e0defd17"
      },
      "execution_count": null,
      "outputs": [
        {
          "output_type": "execute_result",
          "data": {
            "text/plain": [
              "''"
            ],
            "application/vnd.google.colaboratory.intrinsic+json": {
              "type": "string"
            }
          },
          "metadata": {},
          "execution_count": 24
        }
      ]
    },
    {
      "cell_type": "code",
      "source": [
        "'   hello   !  '.strip() # 앞 뒤 공백제거 메서드"
      ],
      "metadata": {
        "colab": {
          "base_uri": "https://localhost:8080/",
          "height": 35
        },
        "id": "EE4nb6o044Sy",
        "outputId": "c59f47be-ba1e-4a8d-d553-fdd6b28f8c66"
      },
      "execution_count": null,
      "outputs": [
        {
          "output_type": "execute_result",
          "data": {
            "text/plain": [
              "'hello   !'"
            ],
            "application/vnd.google.colaboratory.intrinsic+json": {
              "type": "string"
            }
          },
          "metadata": {},
          "execution_count": 26
        }
      ]
    },
    {
      "cell_type": "code",
      "source": [
        "'   hello   !  '.rstrip()"
      ],
      "metadata": {
        "colab": {
          "base_uri": "https://localhost:8080/",
          "height": 35
        },
        "id": "FjTQcek-6jaF",
        "outputId": "d82ef619-e173-4958-cedf-e0fc8aa86991"
      },
      "execution_count": null,
      "outputs": [
        {
          "output_type": "execute_result",
          "data": {
            "text/plain": [
              "'   hello   !'"
            ],
            "application/vnd.google.colaboratory.intrinsic+json": {
              "type": "string"
            }
          },
          "metadata": {},
          "execution_count": 27
        }
      ]
    },
    {
      "cell_type": "code",
      "source": [
        "# 별 5개\n",
        "'hello world hi'.replace(' ', '!')\n",
        "'hello world hi'.replace('world', 'W@O@R@L@D')"
      ],
      "metadata": {
        "colab": {
          "base_uri": "https://localhost:8080/",
          "height": 35
        },
        "id": "7uqUeSl-6q5Y",
        "outputId": "cd816cad-5ecd-47f2-f9e9-845bc8e90b23"
      },
      "execution_count": null,
      "outputs": [
        {
          "output_type": "execute_result",
          "data": {
            "text/plain": [
              "'hello W@O@R@L@D hi'"
            ],
            "application/vnd.google.colaboratory.intrinsic+json": {
              "type": "string"
            }
          },
          "metadata": {},
          "execution_count": 29
        }
      ]
    },
    {
      "cell_type": "code",
      "source": [
        "'hello world hi'.replace('world', 'W@O@R@L@D').upper().split('@')\n",
        "# 반환값이 list이기 때문에 메서드 체이닝을 하려면 \n",
        "# 이후로 list 메서드를 사용해야한다."
      ],
      "metadata": {
        "colab": {
          "base_uri": "https://localhost:8080/"
        },
        "id": "WNE1M9R_68kU",
        "outputId": "612cf784-88d0-4e59-af79-644ce22fabd6"
      },
      "execution_count": null,
      "outputs": [
        {
          "output_type": "execute_result",
          "data": {
            "text/plain": [
              "['HELLO W', 'O', 'R', 'L', 'D HI']"
            ]
          },
          "metadata": {},
          "execution_count": 30
        }
      ]
    },
    {
      "cell_type": "code",
      "source": [
        "'hello world hi'.replace(' ', '')"
      ],
      "metadata": {
        "colab": {
          "base_uri": "https://localhost:8080/",
          "height": 35
        },
        "id": "JNWKVp247nO6",
        "outputId": "2d46705c-91e3-437d-ffe3-76880ae32cba"
      },
      "execution_count": null,
      "outputs": [
        {
          "output_type": "execute_result",
          "data": {
            "text/plain": [
              "'helloworldhi'"
            ],
            "application/vnd.google.colaboratory.intrinsic+json": {
              "type": "string"
            }
          },
          "metadata": {},
          "execution_count": 31
        }
      ]
    },
    {
      "cell_type": "code",
      "source": [
        "data = '''  \"+ +-+ -+-\"  \n",
        "  \"++ -- +-+\"  \n",
        "  \"++-+ -+ -\"  \n",
        "  \"+ ++-+ -+\"  '''\n",
        "\n",
        "data.split('\\n')[0].replace(' ', '').replace('\"', '')\n",
        "\n",
        "# Pythonic하지 않다!\n",
        "data.split('\\n')[0].replace(' ', \n",
        "                '').replace('\"', \n",
        "                '')\n",
        "\n",
        "# Pythonic하게 하려면\n",
        "data.split('\\n')[0]\\\n",
        "                .replace(' ', '')\\\n",
        "                .replace('\"', '')\\\n",
        "                .replace('\"', '')\\\n",
        "                .replace('\"', '')\\\n",
        "                .replace('\"', '')\\\n",
        "                .replace('\"', '')\\\n",
        "                .replace('\"', '')\\\n",
        "                .replace('\"', '')\n",
        "\n",
        "# 제가 사용하는 기법\n",
        "processed_string = data.split('\\n')[0].replace(' ', '').replace('\"', '')\n",
        "processed_string.replace('\"', '').replace('\"', '')"
      ],
      "metadata": {
        "colab": {
          "base_uri": "https://localhost:8080/",
          "height": 35
        },
        "id": "WYiVHk0-7vRG",
        "outputId": "2e041b4b-a719-414b-bb24-7c7e33fa012e"
      },
      "execution_count": null,
      "outputs": [
        {
          "output_type": "execute_result",
          "data": {
            "text/plain": [
              "'++-+-+-'"
            ],
            "application/vnd.google.colaboratory.intrinsic+json": {
              "type": "string"
            }
          },
          "metadata": {},
          "execution_count": 43
        }
      ]
    },
    {
      "cell_type": "code",
      "source": [
        "# aaaaaaaaaaaaaaaaaaaaaaaaaaaaaaaaaaaaaaaaaaaaaaaaaaaaaaaaaaaaaaaaaaaaaaaaaaaaaaaa 79자\n",
        "# 아아아아아아아아아아아아아아아아아아아아아아아아아아아아아아아아아아아아아아아아 39자"
      ],
      "metadata": {
        "id": "xF7qxEr3_FhP"
      },
      "execution_count": null,
      "outputs": []
    },
    {
      "cell_type": "code",
      "source": [
        "data = '''  \"+ +-+ -+-\"  \n",
        "  \"++ -- +-+\"  \n",
        "  \"++-+ -+ -\"  \n",
        "  \"+ ++-+ -+\"  '''\n",
        "\n",
        "data.split('\\n')[0].replace(' ', '').replace('\"', '').replace('+', '1').replace('-', '0')\n",
        "ord('A'), chr(65) # ord는 문자를 가지고 숫자로 변경 chr은 숫자를 가지고 문자로 변경합니다.\n",
        "\n",
        "숫자 = data.split('\\n')[0].replace(' ', '').replace('\"', '').replace('+', '1').replace('-', '0')\n",
        "int(숫자, 2)\n",
        "chr(int(숫자, 2))"
      ],
      "metadata": {
        "id": "SEOjLz2wBFSO",
        "outputId": "dac14b21-f683-4d82-c60f-82ad5c05504d",
        "colab": {
          "base_uri": "https://localhost:8080/",
          "height": 35
        }
      },
      "execution_count": null,
      "outputs": [
        {
          "output_type": "execute_result",
          "data": {
            "text/plain": [
              "'j'"
            ],
            "application/vnd.google.colaboratory.intrinsic+json": {
              "type": "string"
            }
          },
          "metadata": {},
          "execution_count": 47
        }
      ]
    },
    {
      "cell_type": "code",
      "source": [
        "# 별 4.5개\n",
        "'paullab CEO leehojun'.split(' ') #문자열을 쪼개어 줍니다.\n",
        "'paullab!CEO!leehojun'.split('!')\n",
        "'paullab,CEO,leehojun'.split(',')"
      ],
      "metadata": {
        "id": "96_Imp9OCDtE",
        "outputId": "56bddcab-b071-42ab-bb4f-fdd504e1e8b3",
        "colab": {
          "base_uri": "https://localhost:8080/"
        }
      },
      "execution_count": null,
      "outputs": [
        {
          "output_type": "execute_result",
          "data": {
            "text/plain": [
              "['paullab', 'CEO', 'leehojun']"
            ]
          },
          "metadata": {},
          "execution_count": 48
        }
      ]
    },
    {
      "cell_type": "code",
      "source": [
        "# 퀴즈\n",
        "'010 5044 2903' # 1번\n",
        "'010-5044-2903' # 2번\n",
        "'010 5044-2903' # 3번"
      ],
      "metadata": {
        "id": "oP0SWwR6FkI0"
      },
      "execution_count": null,
      "outputs": []
    },
    {
      "cell_type": "code",
      "source": [
        "# 원하는 결과값\n",
        "# ['010', '5044', '2903']\n",
        "# [10, 5044, 2903] # 010은 error가 나기 때문에 10으로"
      ],
      "metadata": {
        "id": "FcGyu4eZFnpk"
      },
      "execution_count": null,
      "outputs": []
    },
    {
      "cell_type": "code",
      "source": [
        "int('010')"
      ],
      "metadata": {
        "id": "Bu9UAfhbM7EG",
        "outputId": "ed6df07e-f6a3-4801-c218-c47292c05a39",
        "colab": {
          "base_uri": "https://localhost:8080/"
        }
      },
      "execution_count": null,
      "outputs": [
        {
          "output_type": "execute_result",
          "data": {
            "text/plain": [
              "10"
            ]
          },
          "metadata": {},
          "execution_count": 84
        }
      ]
    },
    {
      "cell_type": "code",
      "source": [
        "print(010) # error"
      ],
      "metadata": {
        "id": "YqPQuysOM82V"
      },
      "execution_count": null,
      "outputs": []
    },
    {
      "cell_type": "code",
      "source": [
        "num ='010 5044-2903'.replace('-',' ').split(' ')\n",
        "[int(i) for i in num] # 리스트 컴프리헨션 사용\n",
        "list(map(int, '010 5044 2903'.split(' ')))\n",
        "\n",
        "# 2개 모두 새로운 리스트를 만드는 것입니다.\n",
        "# 원본을 변경시키지 않습니다."
      ],
      "metadata": {
        "id": "XMdpOfB8NAAD",
        "outputId": "d44d9ad2-894d-4b0d-f4d9-72e12e969010",
        "colab": {
          "base_uri": "https://localhost:8080/"
        }
      },
      "execution_count": null,
      "outputs": [
        {
          "output_type": "execute_result",
          "data": {
            "text/plain": [
              "[10, 5044, 2903]"
            ]
          },
          "metadata": {},
          "execution_count": 85
        }
      ]
    },
    {
      "cell_type": "code",
      "source": [
        "'010 5044 2903'.split(' ')\n",
        "'010-5044-2903'.split('-')\n",
        "'010 5044-2903'.replace('-', ' ').split(' ')"
      ],
      "metadata": {
        "id": "StZc9ZaYCNcA",
        "outputId": "956650b4-b7e6-46dd-c22f-74e09cb3c607",
        "colab": {
          "base_uri": "https://localhost:8080/"
        }
      },
      "execution_count": null,
      "outputs": [
        {
          "output_type": "stream",
          "name": "stdout",
          "text": [
            "['010', '5044', '2903']\n",
            "['010', '5044', '2903']\n",
            "['010', '5044', '2903']\n"
          ]
        }
      ]
    },
    {
      "cell_type": "code",
      "source": [
        "'010 5044 2903'.split() # 빈 문자열을 넣지는 못합니다"
      ],
      "metadata": {
        "id": "nfZ3WbVRCR67",
        "outputId": "d07a5206-bdc7-4f1e-d927-2e1687e0f5e7",
        "colab": {
          "base_uri": "https://localhost:8080/"
        }
      },
      "execution_count": null,
      "outputs": [
        {
          "output_type": "execute_result",
          "data": {
            "text/plain": [
              "['010', '5044', '2903']"
            ]
          },
          "metadata": {},
          "execution_count": 60
        }
      ]
    },
    {
      "cell_type": "code",
      "source": [
        "list(map(int, '010 5044 2903'.split(' ')))"
      ],
      "metadata": {
        "id": "drZUdzqeGPNb",
        "outputId": "979f6335-3256-4e52-b52a-2969671074d1",
        "colab": {
          "base_uri": "https://localhost:8080/"
        }
      },
      "execution_count": null,
      "outputs": [
        {
          "output_type": "execute_result",
          "data": {
            "text/plain": [
              "[10, 5044, 2903]"
            ]
          },
          "metadata": {},
          "execution_count": 65
        }
      ]
    },
    {
      "cell_type": "code",
      "source": [
        "# 지금 진도에서 과하기 때문에\n",
        "# 지금 잊어도 됩니다\n",
        "# 뒤에서 상세하게 다룹니다\n",
        "def 제곱함수(x):\n",
        "    return x ** 2\n",
        "\n",
        "def 정수함수(x):\n",
        "    return int(x)\n",
        "\n",
        "list(map(제곱함수, [1, 2, 3]))\n",
        "list(map(정수함수, ['1', '2', '3']))\n",
        "list(map(int, ['1', '2', '3']))\n",
        "\n",
        "list(map(int, ['010', '5044', '2903']))\n",
        "list(map(int,'010 5044 2903'.split(' ')))"
      ],
      "metadata": {
        "id": "YhpBpO_EGUJ_",
        "outputId": "bc565f88-ff4e-43fd-81d7-f0de0485e016",
        "colab": {
          "base_uri": "https://localhost:8080/"
        }
      },
      "execution_count": null,
      "outputs": [
        {
          "output_type": "execute_result",
          "data": {
            "text/plain": [
              "[10, 5044, 2903]"
            ]
          },
          "metadata": {},
          "execution_count": 67
        }
      ]
    },
    {
      "cell_type": "code",
      "source": [
        "# 별 4.5개\n",
        "'~'.join(['hello', 'wolrd', 'hello'])\n",
        "'!'.join(['hello', 'wolrd', 'hello'])\n",
        "''.join(['hello', 'wolrd', 'hello'])\n",
        "' '.join(['hello', 'wolrd', 'hello'])"
      ],
      "metadata": {
        "id": "xwwIqEBfHgDi",
        "outputId": "c15928f0-8946-4285-bcbd-f3980af4b5c6",
        "colab": {
          "base_uri": "https://localhost:8080/",
          "height": 35
        }
      },
      "execution_count": null,
      "outputs": [
        {
          "output_type": "execute_result",
          "data": {
            "text/plain": [
              "'hello wolrd hello'"
            ],
            "application/vnd.google.colaboratory.intrinsic+json": {
              "type": "string"
            }
          },
          "metadata": {},
          "execution_count": 70
        }
      ]
    },
    {
      "cell_type": "code",
      "source": [
        "'hello'.isalpha()"
      ],
      "metadata": {
        "id": "02_VibcuH9JW",
        "outputId": "26711ec9-2e29-4e0e-928c-12833451b444",
        "colab": {
          "base_uri": "https://localhost:8080/"
        }
      },
      "execution_count": null,
      "outputs": [
        {
          "output_type": "execute_result",
          "data": {
            "text/plain": [
              "True"
            ]
          },
          "metadata": {},
          "execution_count": 73
        }
      ]
    },
    {
      "cell_type": "code",
      "source": [
        "'he llo'.isalpha()"
      ],
      "metadata": {
        "id": "G7D-Lrn4IDIH",
        "outputId": "d653f18d-ff9e-4984-f2fc-665b1c712326",
        "colab": {
          "base_uri": "https://localhost:8080/"
        }
      },
      "execution_count": null,
      "outputs": [
        {
          "output_type": "execute_result",
          "data": {
            "text/plain": [
              "False"
            ]
          },
          "metadata": {},
          "execution_count": 75
        }
      ]
    },
    {
      "cell_type": "code",
      "source": [
        "'1234'.isdigit()"
      ],
      "metadata": {
        "id": "tyj-2wToIHam",
        "outputId": "d04f80eb-7416-4ec6-a4bb-809c11013e7f",
        "colab": {
          "base_uri": "https://localhost:8080/"
        }
      },
      "execution_count": null,
      "outputs": [
        {
          "output_type": "execute_result",
          "data": {
            "text/plain": [
              "True"
            ]
          },
          "metadata": {},
          "execution_count": 76
        }
      ]
    },
    {
      "cell_type": "code",
      "source": [
        "'12a4'.isdigit(),'123 4'.isdigit()"
      ],
      "metadata": {
        "id": "v5UNBuubILaY",
        "outputId": "599e0289-578c-404e-9601-51a7006f61ec",
        "colab": {
          "base_uri": "https://localhost:8080/"
        }
      },
      "execution_count": null,
      "outputs": [
        {
          "output_type": "execute_result",
          "data": {
            "text/plain": [
              "(False, False)"
            ]
          },
          "metadata": {},
          "execution_count": 78
        }
      ]
    },
    {
      "cell_type": "code",
      "source": [
        "'12a4'.isalnum(),'123 4'.isalnum()"
      ],
      "metadata": {
        "id": "1VVFx3MsIUg2",
        "outputId": "a624b5f9-d6e5-48bc-b975-6b3a1554c484",
        "colab": {
          "base_uri": "https://localhost:8080/"
        }
      },
      "execution_count": null,
      "outputs": [
        {
          "output_type": "execute_result",
          "data": {
            "text/plain": [
              "(True, False)"
            ]
          },
          "metadata": {},
          "execution_count": 79
        }
      ]
    },
    {
      "cell_type": "code",
      "source": [
        "'안녕하세요!'.isalpha(), '안녕하세요!'.isalnum()"
      ],
      "metadata": {
        "id": "zMR4SPbTIdxe",
        "outputId": "959ba171-86b5-4478-9438-90b1ee1990cd",
        "colab": {
          "base_uri": "https://localhost:8080/"
        }
      },
      "execution_count": null,
      "outputs": [
        {
          "output_type": "execute_result",
          "data": {
            "text/plain": [
              "(False, False)"
            ]
          },
          "metadata": {},
          "execution_count": 81
        }
      ]
    },
    {
      "cell_type": "code",
      "source": [
        "# 퀴즈\n",
        "# 숫자를 모두 더하라!\n",
        "result = 0\n",
        "for i in '123abc913sldlf':\n",
        "    # print(i.isdigit())\n",
        "    if i.isdigit():\n",
        "        result += int(i) # result = result + int(i)\n",
        "result"
      ],
      "metadata": {
        "id": "WAdXP1CrIoFA",
        "outputId": "fdd055c8-44f5-40fd-d972-9b29dab58319",
        "colab": {
          "base_uri": "https://localhost:8080/"
        }
      },
      "execution_count": null,
      "outputs": [
        {
          "output_type": "execute_result",
          "data": {
            "text/plain": [
              "19"
            ]
          },
          "metadata": {},
          "execution_count": 82
        }
      ]
    },
    {
      "cell_type": "code",
      "source": [
        "result = 0\n",
        "for i in '123abc913sldlf':\n",
        "    if i.isdigit():\n",
        "        result += int(i)\n",
        "result"
      ],
      "metadata": {
        "id": "D8AzWMIJJXxu",
        "outputId": "a2ef03ba-4c83-46eb-a5ee-5552a469ce68",
        "colab": {
          "base_uri": "https://localhost:8080/"
        }
      },
      "execution_count": null,
      "outputs": [
        {
          "output_type": "execute_result",
          "data": {
            "text/plain": [
              "19"
            ]
          },
          "metadata": {},
          "execution_count": 83
        }
      ]
    },
    {
      "cell_type": "code",
      "source": [
        "'paullab CEO leehojun'.isascii()"
      ],
      "metadata": {
        "id": "FAXlx5OKN5zN",
        "outputId": "dc9bef0d-97cc-49ba-eae3-af43637d8859",
        "colab": {
          "base_uri": "https://localhost:8080/"
        }
      },
      "execution_count": null,
      "outputs": [
        {
          "output_type": "execute_result",
          "data": {
            "text/plain": [
              "True"
            ]
          },
          "metadata": {},
          "execution_count": 86
        }
      ]
    },
    {
      "cell_type": "code",
      "source": [
        "'paullab CEO leehojun'.rjust(30) #오른쪽 정렬\n",
        "'paullab CEO leehojun'.ljust(30) #왼쪽 정렬\n",
        "'paullab CEO leehojun'.center(30)#가운데 정렬"
      ],
      "metadata": {
        "id": "1wPW3C_hJusx"
      },
      "execution_count": null,
      "outputs": []
    },
    {
      "cell_type": "code",
      "source": [
        "'hello'.zfill(20)  # 데이터의 빈 공간을 0 으로 채워줍니다."
      ],
      "metadata": {
        "id": "2zf00rjoNdOc",
        "outputId": "e38cc99d-acea-49c1-f8fd-75ee2254880d",
        "colab": {
          "base_uri": "https://localhost:8080/",
          "height": 35
        }
      },
      "execution_count": null,
      "outputs": [
        {
          "output_type": "execute_result",
          "data": {
            "text/plain": [
              "'000000000000000hello'"
            ],
            "application/vnd.google.colaboratory.intrinsic+json": {
              "type": "string"
            }
          },
          "metadata": {},
          "execution_count": 87
        }
      ]
    },
    {
      "cell_type": "code",
      "source": [
        "'1001'.zfill(5)\n",
        "'hello'.zfill(10).replace('0', '-')"
      ],
      "metadata": {
        "id": "1mPmWuh9OP8G",
        "outputId": "e4f6158e-dfb0-4a0c-95b4-dbc1668b99f3",
        "colab": {
          "base_uri": "https://localhost:8080/",
          "height": 35
        }
      },
      "execution_count": null,
      "outputs": [
        {
          "output_type": "execute_result",
          "data": {
            "text/plain": [
              "'-----hello'"
            ],
            "application/vnd.google.colaboratory.intrinsic+json": {
              "type": "string"
            }
          },
          "metadata": {},
          "execution_count": 89
        }
      ]
    },
    {
      "cell_type": "code",
      "source": [
        "규칙테이블 = str.maketrans({'\\n':'', '\\t':''})\n",
        "'paullab \\n\\n\\n CEO \\t\\t\\t leehojun'.translate(규칙테이블)"
      ],
      "metadata": {
        "id": "1emQKi17OgY-",
        "outputId": "968e9e16-da44-4461-ca18-14840b332923",
        "colab": {
          "base_uri": "https://localhost:8080/",
          "height": 35
        }
      },
      "execution_count": null,
      "outputs": [
        {
          "output_type": "execute_result",
          "data": {
            "text/plain": [
              "'paullab  CEO  leehojun'"
            ],
            "application/vnd.google.colaboratory.intrinsic+json": {
              "type": "string"
            }
          },
          "metadata": {},
          "execution_count": 90
        }
      ]
    },
    {
      "cell_type": "code",
      "source": [
        "'paullab \\n\\n\\n CEO \\t\\t\\t leehojun'.replace('\\n', '')"
      ],
      "metadata": {
        "id": "CuJEeDUDOyvL",
        "outputId": "693766bf-f170-46c8-89e6-1addd40fd0a4",
        "colab": {
          "base_uri": "https://localhost:8080/",
          "height": 35
        }
      },
      "execution_count": null,
      "outputs": [
        {
          "output_type": "execute_result",
          "data": {
            "text/plain": [
              "'paullab  CEO \\t\\t\\t leehojun'"
            ],
            "application/vnd.google.colaboratory.intrinsic+json": {
              "type": "string"
            }
          },
          "metadata": {},
          "execution_count": 91
        }
      ]
    },
    {
      "cell_type": "markdown",
      "source": [
        "## pep"
      ],
      "metadata": {
        "id": "GRdSATUFPa-M"
      }
    },
    {
      "cell_type": "code",
      "source": [
        "# aaaaaaaaaaaaaaaaaaaaaaaaaaaaaaaaaaaaaaaaaaaaaaaaaaaaaaaaaaaaaaaaaaaaaaaaaaaaaaaa => 80자\n",
        "# 아아아아아아아아아아아아아아아아아아아아아아아아아아아아아아아아아아아아아아아아아아 => 42자면 한글 넘어갑니다.\n",
        "# line에 딱 맞춰 들어간 것을 볼 수 있습니다. \n",
        "# 강제사항은 아닙니다.\n",
        "# 띄어쓰기 4번도 강제사항은 아닙니다.\n",
        "# pep8, pep 20에 기술되어 있습니다. => pep(Python Enhancement Proposal)란 무엇인가요? 8이란 무엇인가요?\n",
        "# pep8 : Style Guide for Python Code (https://peps.python.org/pep-0008/\n",
        ")\n",
        "# pep20 : The Zen of Python\n",
        "# https://peps.python.org/"
      ],
      "metadata": {
        "id": "B6TYLuK-PchR"
      },
      "execution_count": null,
      "outputs": []
    },
    {
      "cell_type": "markdown",
      "source": [
        "## cpython\n",
        "\n",
        "* 공식홈페이지에서 다운로드 받는 것이 cpython입니다.\n",
        "* https://github.com/python/cpython\n",
        "* list를 구현한 코드 : https://github.com/python/cpython/blob/main/Objects/listobject.c"
      ],
      "metadata": {
        "id": "zx91vXO5QxeZ"
      }
    },
    {
      "cell_type": "markdown",
      "source": [
        "## 인덱싱과 슬라이싱"
      ],
      "metadata": {
        "id": "9pnJVTi5SXXs"
      }
    },
    {
      "cell_type": "code",
      "source": [
        "name = 'Guido van Rossum'\n",
        "print(name[0])\n",
        "print(name[1])\n",
        "print(name[2])"
      ],
      "metadata": {
        "id": "dqI9CGMvSay6",
        "outputId": "2c694d5c-c946-4b4b-ae6f-0b60167051b3",
        "colab": {
          "base_uri": "https://localhost:8080/"
        }
      },
      "execution_count": null,
      "outputs": [
        {
          "output_type": "stream",
          "name": "stdout",
          "text": [
            "G\n",
            "u\n",
            "i\n"
          ]
        }
      ]
    },
    {
      "cell_type": "code",
      "source": [
        "# s[strat:stop:step]\n",
        "s = 'paullab CEO leehojun'\n",
        "s[5:]\n",
        "s[:5]\n",
        "s[3:10]\n",
        "s[:]\n",
        "s[0:20:2]"
      ],
      "metadata": {
        "id": "i49TjPXBS9JT",
        "outputId": "5b8600d3-bdd3-4e98-f8b1-6a31e0140760",
        "colab": {
          "base_uri": "https://localhost:8080/",
          "height": 35
        }
      },
      "execution_count": null,
      "outputs": [
        {
          "output_type": "execute_result",
          "data": {
            "text/plain": [
              "'pulbCOleou'"
            ],
            "application/vnd.google.colaboratory.intrinsic+json": {
              "type": "string"
            }
          },
          "metadata": {},
          "execution_count": 93
        }
      ]
    },
    {
      "cell_type": "code",
      "source": [
        "# 자주 사용되는 코드\n",
        "s = 'paullab CEO leehojun'\n",
        "s[:] # string에서는 많이 사용하지 않지만 list에서 많이 사용합니다.\n",
        "s[:-1] # 마지막 요소만 제외하고 다 슬라이싱 합니다."
      ],
      "metadata": {
        "id": "1NuyQ_iyTMFz",
        "outputId": "ba292cd9-9fab-411e-ec63-8c316c921a03",
        "colab": {
          "base_uri": "https://localhost:8080/",
          "height": 35
        }
      },
      "execution_count": null,
      "outputs": [
        {
          "output_type": "execute_result",
          "data": {
            "text/plain": [
              "'paullab CEO leehojun'"
            ],
            "application/vnd.google.colaboratory.intrinsic+json": {
              "type": "string"
            }
          },
          "metadata": {},
          "execution_count": 94
        }
      ]
    },
    {
      "cell_type": "code",
      "source": [
        "test = [1, 2, 3, 4]\n",
        "test2 = test\n",
        "test2[0] = 1000\n",
        "test, test2"
      ],
      "metadata": {
        "id": "jYZUuavLTkYQ",
        "outputId": "32d42f6d-1cf1-4c7e-b977-a6dc6dc35244",
        "colab": {
          "base_uri": "https://localhost:8080/"
        }
      },
      "execution_count": null,
      "outputs": [
        {
          "output_type": "execute_result",
          "data": {
            "text/plain": [
              "([1000, 2, 3, 4], [1000, 2, 3, 4])"
            ]
          },
          "metadata": {},
          "execution_count": 96
        }
      ]
    },
    {
      "cell_type": "code",
      "source": [
        "test = [1, 2, 3, 4]\n",
        "test2 = test[:] # 새로운 리스트를 만들어서 test2에게 줍니다.\n",
        "test2[0] = 1000\n",
        "test, test2"
      ],
      "metadata": {
        "id": "kNz55SPzT8aH"
      },
      "execution_count": null,
      "outputs": []
    },
    {
      "cell_type": "markdown",
      "source": [
        "# 문자열의 연산"
      ],
      "metadata": {
        "id": "P9AFbAxeUqso"
      }
    },
    {
      "cell_type": "code",
      "source": [
        "s = 'hello world'\n",
        "dir(s)\n",
        "s + s\n",
        "s * 3"
      ],
      "metadata": {
        "id": "aWwaArHDUZ8t",
        "outputId": "050befc9-c7cf-4e33-da76-2f5458f59945",
        "colab": {
          "base_uri": "https://localhost:8080/",
          "height": 35
        }
      },
      "execution_count": null,
      "outputs": [
        {
          "output_type": "execute_result",
          "data": {
            "text/plain": [
              "'hello worldhello worldhello world'"
            ],
            "application/vnd.google.colaboratory.intrinsic+json": {
              "type": "string"
            }
          },
          "metadata": {},
          "execution_count": 98
        }
      ]
    },
    {
      "cell_type": "markdown",
      "source": [
        "## 형변환"
      ],
      "metadata": {
        "id": "sEIF92aXUvT_"
      }
    },
    {
      "cell_type": "markdown",
      "source": [
        "* 타입을 변경하는 것"
      ],
      "metadata": {
        "id": "W69_vGnKWLY0"
      }
    },
    {
      "cell_type": "code",
      "source": [
        "x = int(input())\n",
        "x + x # but 알파벳 입력하면 error!"
      ],
      "metadata": {
        "id": "9dN04BqkU3RV",
        "outputId": "1a73efdf-50b4-44b1-b861-ad3f7f03b11c",
        "colab": {
          "base_uri": "https://localhost:8080/"
        }
      },
      "execution_count": null,
      "outputs": [
        {
          "name": "stdout",
          "output_type": "stream",
          "text": [
            "10\n"
          ]
        },
        {
          "output_type": "execute_result",
          "data": {
            "text/plain": [
              "20"
            ]
          },
          "metadata": {},
          "execution_count": 99
        }
      ]
    },
    {
      "cell_type": "code",
      "source": [
        "x = input()\n",
        "if x.isdigit():\n",
        "    x = int(x) # but 알파벳 입력하면 error!\n",
        "x + x"
      ],
      "metadata": {
        "id": "RWmg-xybVFUR"
      },
      "execution_count": null,
      "outputs": []
    },
    {
      "cell_type": "code",
      "source": [
        "# int('abc') # error\n",
        "int(10.1) # 버림\n",
        "int('10') # 형변환 가능\n",
        "# int('10.1') # 형변호나 불가능"
      ],
      "metadata": {
        "id": "5QowAoCGVmVT",
        "outputId": "2e02d92a-ed67-4e77-843f-9a5ad176138e",
        "colab": {
          "base_uri": "https://localhost:8080/"
        }
      },
      "execution_count": null,
      "outputs": [
        {
          "output_type": "execute_result",
          "data": {
            "text/plain": [
              "10"
            ]
          },
          "metadata": {},
          "execution_count": 101
        }
      ]
    },
    {
      "cell_type": "code",
      "source": [
        "float(int(10.1)) # 형변환 가능\n",
        "float(int('10')) # 형변환 가능"
      ],
      "metadata": {
        "id": "ka9593FPVxck",
        "outputId": "3243fbee-5e31-4bc4-c4b3-7e000627c32b",
        "colab": {
          "base_uri": "https://localhost:8080/"
        }
      },
      "execution_count": null,
      "outputs": [
        {
          "output_type": "execute_result",
          "data": {
            "text/plain": [
              "10.0"
            ]
          },
          "metadata": {},
          "execution_count": 102
        }
      ]
    },
    {
      "cell_type": "code",
      "source": [
        "int('10a') # 되는 언어가 있어서 보여드린 것입니다.\n",
        "# Python에서는 허용되지 않습니다."
      ],
      "metadata": {
        "id": "h1HlVnbqV3bb"
      },
      "execution_count": null,
      "outputs": []
    },
    {
      "cell_type": "code",
      "source": [
        "def hello():\n",
        "    pass\n",
        "\n",
        "str(type)\n",
        "str(hello)\n",
        "\n",
        "str('123')\n",
        "str(True)\n",
        "str(None)\n",
        "str([1, 2, 3])\n",
        "str({1, 2, 3})\n",
        "str({'one':1, 'two':2})"
      ],
      "metadata": {
        "id": "hUGtdn0UWTlz",
        "outputId": "c6b2daa4-0896-48c9-893f-52b06911e94f",
        "colab": {
          "base_uri": "https://localhost:8080/",
          "height": 35
        }
      },
      "execution_count": null,
      "outputs": [
        {
          "output_type": "execute_result",
          "data": {
            "text/plain": [
              "\"{'one': 1, 'two': 2}\""
            ],
            "application/vnd.google.colaboratory.intrinsic+json": {
              "type": "string"
            }
          },
          "metadata": {},
          "execution_count": 103
        }
      ]
    },
    {
      "cell_type": "code",
      "source": [
        "hello"
      ],
      "metadata": {
        "id": "UbNP7hdwWvIp",
        "outputId": "1eac20c7-6162-4739-99ef-078a3c0aa42d",
        "colab": {
          "base_uri": "https://localhost:8080/"
        }
      },
      "execution_count": null,
      "outputs": [
        {
          "output_type": "execute_result",
          "data": {
            "text/plain": [
              "<function __main__.hello()>"
            ]
          },
          "metadata": {},
          "execution_count": 104
        }
      ]
    },
    {
      "cell_type": "code",
      "source": [
        "# 별 5개\n",
        "# bool 형으로 형변환 하는 것\n",
        "if True:\n",
        "    print('hi')\n",
        "\n",
        "if 'hello':\n",
        "    print('hi')\n",
        "\n",
        "# 정말 많이 사용하는 코드\n",
        "l = [1, 2, 3]\n",
        "while l:\n",
        "    print(l.pop())\n",
        "\n",
        "bool('') # 빈 문자열을 제외하고 모두 True\n",
        "bool('a')\n",
        "bool('False') # 문자열 False이기 때문에 True\n",
        "bool(0) # 0을 제외하고 모두 True\n",
        "bool(-1)\n",
        "bool(100)\n",
        "bool(None) # None은 비어있음을 명시해주는 키워드, False\n",
        "bool([]) # 컨벤션 자료형은 비어있으면 False입니다.\n",
        "bool({})"
      ],
      "metadata": {
        "id": "XYA9RtV9W4oL",
        "outputId": "60a4b399-07ac-4dc9-8cd0-65e913f2b2b6",
        "colab": {
          "base_uri": "https://localhost:8080/"
        }
      },
      "execution_count": null,
      "outputs": [
        {
          "output_type": "stream",
          "name": "stdout",
          "text": [
            "hi\n",
            "hi\n"
          ]
        },
        {
          "output_type": "execute_result",
          "data": {
            "text/plain": [
              "False"
            ]
          },
          "metadata": {},
          "execution_count": 106
        }
      ]
    },
    {
      "cell_type": "code",
      "source": [
        "# list로 형변환\n",
        "s = '10'\n",
        "l = list(s)\n",
        "l"
      ],
      "metadata": {
        "id": "-WS3FgXspiRZ",
        "outputId": "487a7ae1-ebd8-48ab-e1ff-05b88c5b32e9",
        "colab": {
          "base_uri": "https://localhost:8080/"
        }
      },
      "execution_count": null,
      "outputs": [
        {
          "output_type": "execute_result",
          "data": {
            "text/plain": [
              "['1', '0']"
            ]
          },
          "metadata": {},
          "execution_count": 107
        }
      ]
    },
    {
      "cell_type": "code",
      "source": [
        "s = 'leehojun'\n",
        "l = list(s)\n",
        "l"
      ],
      "metadata": {
        "id": "iSudmGhepshM",
        "outputId": "415b8e92-f821-458d-9123-6df7532336c1",
        "colab": {
          "base_uri": "https://localhost:8080/"
        }
      },
      "execution_count": null,
      "outputs": [
        {
          "output_type": "execute_result",
          "data": {
            "text/plain": [
              "['l', 'e', 'e', 'h', 'o', 'j', 'u', 'n']"
            ]
          },
          "metadata": {},
          "execution_count": 108
        }
      ]
    },
    {
      "cell_type": "code",
      "source": [
        "# tuple로 형변환\n",
        "s = 'leehojun'\n",
        "l = tuple(s)\n",
        "l"
      ],
      "metadata": {
        "id": "x1mAMFDjpvQn",
        "outputId": "04e041c7-3b40-4f58-e952-58df79ab7681",
        "colab": {
          "base_uri": "https://localhost:8080/"
        }
      },
      "execution_count": null,
      "outputs": [
        {
          "output_type": "execute_result",
          "data": {
            "text/plain": [
              "('l', 'e', 'e', 'h', 'o', 'j', 'u', 'n')"
            ]
          },
          "metadata": {},
          "execution_count": 109
        }
      ]
    },
    {
      "cell_type": "code",
      "source": [
        "# dict\n",
        "# name='leehojun'\n",
        "# dict(name)\n",
        "\n",
        "s=[('name','leehojun'),('age',10)]\n",
        "d=dict(s)\n",
        "d"
      ],
      "metadata": {
        "id": "TFuM7cVUp3qj",
        "outputId": "cd92d0eb-7c8d-49d0-c531-d5f46577829f",
        "colab": {
          "base_uri": "https://localhost:8080/"
        }
      },
      "execution_count": null,
      "outputs": [
        {
          "output_type": "execute_result",
          "data": {
            "text/plain": [
              "{'name': 'leehojun', 'age': 10}"
            ]
          },
          "metadata": {},
          "execution_count": 110
        }
      ]
    },
    {
      "cell_type": "code",
      "source": [
        "# set(집합)으로 형변환\n",
        "name = 'leehojun'\n",
        "set(name)"
      ],
      "metadata": {
        "id": "K3Q6O2sfqL8v",
        "outputId": "149f51e3-a56d-4bf6-bd33-1f1321dd4e27",
        "colab": {
          "base_uri": "https://localhost:8080/"
        }
      },
      "execution_count": null,
      "outputs": [
        {
          "output_type": "execute_result",
          "data": {
            "text/plain": [
              "{'e', 'h', 'j', 'l', 'n', 'o', 'u'}"
            ]
          },
          "metadata": {},
          "execution_count": 111
        }
      ]
    },
    {
      "cell_type": "code",
      "source": [
        "# 1번의 오답\n",
        "\n",
        "#1번\n",
        "# print = 100\n",
        "\n",
        "#2번\n",
        "# 10 = a\n",
        "\n",
        "#4번\n",
        "# 100k = 10000\n",
        "\n",
        "#6번\n",
        "# _cola_ = 'drink'"
      ],
      "metadata": {
        "id": "eCQG6e7msNJG"
      },
      "execution_count": null,
      "outputs": []
    },
    {
      "cell_type": "code",
      "source": [
        "# 2번 문자를 tkdy입력받고, 그 문자를 2번 출력하는 프로그램을 만들어주세요.\n",
        "a = input('문자를 입력해주세요!')\n",
        "print(a * 2)"
      ],
      "metadata": {
        "id": "sLw7U9eqqV0u",
        "outputId": "586e125d-0d02-43e0-fbbf-08ace0f864a3",
        "colab": {
          "base_uri": "https://localhost:8080/"
        }
      },
      "execution_count": null,
      "outputs": [
        {
          "output_type": "stream",
          "name": "stdout",
          "text": [
            "문자를 입력해주세요!ㄹㄴㅇ\n",
            "ㄹㄴㅇㄹㄴㅇ\n"
          ]
        }
      ]
    },
    {
      "cell_type": "code",
      "source": [
        "#  3번 아래 변수를 문자열로 변환 후 리스트형으로 변환하고, 3번째 값을 출력해주세요\n",
        "num = 1234567890\n",
        "print(str(num)[3])"
      ],
      "metadata": {
        "id": "XlfCKJM5seF7",
        "outputId": "5ccdd565-4953-4f3e-e3bd-aa73927a25d9",
        "colab": {
          "base_uri": "https://localhost:8080/"
        }
      },
      "execution_count": null,
      "outputs": [
        {
          "output_type": "stream",
          "name": "stdout",
          "text": [
            "4\n"
          ]
        }
      ]
    },
    {
      "cell_type": "markdown",
      "source": [
        "## 산술연산"
      ],
      "metadata": {
        "id": "2_lP3mb-s8K2"
      }
    },
    {
      "cell_type": "code",
      "source": [
        "a = 10\n",
        "b = 3\n",
        "\n",
        "print(f'10 + 3 == {a + b}')\n",
        "print(f'10 - 3 == {a - b}')\n",
        "print(f'10 / 3 == {a / b}')\n",
        "print(f'10 // 3 == {a // b}') # 몫만 나옴\n",
        "print(f'10 * 3 == {a * b}')\n",
        "print(f'10 ** 3 == {a ** b}')\n",
        "print(f'10 % 3 == {a % b}') # 나머지"
      ],
      "metadata": {
        "id": "l5YGk0XqtBFY"
      },
      "execution_count": null,
      "outputs": []
    },
    {
      "cell_type": "markdown",
      "source": [
        "## 논리연산"
      ],
      "metadata": {
        "id": "JO4-l-72vXAN"
      }
    },
    {
      "cell_type": "code",
      "source": [
        "# and : 곱\n",
        "# or  : 합\n",
        "# not : 부정, 반대\n",
        "# True : 1\n",
        "# False : 0\n",
        "# 중요한 포인트는 저렇게 했을 때 언제 True가 되는지 정리하는 것\n",
        "\n",
        "print(True and False)\n",
        "print(True or False)\n",
        "print(True or True)\n",
        "\n",
        "if True and False:\n",
        "    print('hello')\n",
        "\n",
        "if 10>3 and 8%3 ==0:\n",
        "    print('hello')\n",
        "\n",
        "# and 는 언제 True가 되나요?\n",
        "# 모두 True일 때\n",
        "# or는 언제 True?\n",
        "# 둘 중 하나라도 참이라면 True"
      ],
      "metadata": {
        "id": "liPSQsrrvYx1",
        "outputId": "660c292b-bce6-4dbf-a2d4-ea04cdd9edf3",
        "colab": {
          "base_uri": "https://localhost:8080/"
        }
      },
      "execution_count": null,
      "outputs": [
        {
          "output_type": "stream",
          "name": "stdout",
          "text": [
            "False\n"
          ]
        }
      ]
    },
    {
      "cell_type": "code",
      "source": [
        "# https://codingdojang.com/scode/350?answer_mode=hide\n",
        "for i in range(101):\n",
        "    if i % 3 == 0 and i % 5 == 0:\n",
        "        print(i)"
      ],
      "metadata": {
        "id": "6wp5144Gw5-r",
        "outputId": "fb23bc40-6ffb-4664-8dad-7cd2d4ae82d7",
        "colab": {
          "base_uri": "https://localhost:8080/"
        }
      },
      "execution_count": null,
      "outputs": [
        {
          "output_type": "stream",
          "name": "stdout",
          "text": [
            "0\n",
            "15\n",
            "30\n",
            "45\n",
            "60\n",
            "75\n",
            "90\n"
          ]
        }
      ]
    },
    {
      "cell_type": "code",
      "source": [
        "for i in range(101):\n",
        "    if i % 3 == 0 or i % 5 == 0:\n",
        "        print(i)"
      ],
      "metadata": {
        "id": "vah9epsXxRYl"
      },
      "execution_count": null,
      "outputs": []
    },
    {
      "cell_type": "code",
      "source": [
        "result = 0\n",
        "for i in range(101):\n",
        "    if i % 3 == 0:\n",
        "        result += i # result = result + i\n",
        "    if i % 5 == 0:\n",
        "        result += i\n",
        "    if i % 15 == 0:\n",
        "        result -= i\n",
        "print(result)"
      ],
      "metadata": {
        "id": "VQpVdXLLyZCX"
      },
      "execution_count": null,
      "outputs": []
    },
    {
      "cell_type": "code",
      "source": [
        "# 파이썬 입장에서 보는 코드\n",
        "# False and ?????? => 물음표에 무엇이 나오든 False\n",
        "# 그래서 파이썬도 저 물음표를 보지 않습니다."
      ],
      "metadata": {
        "id": "irlFCRNq1sOC"
      },
      "execution_count": null,
      "outputs": []
    },
    {
      "cell_type": "code",
      "source": [
        "# 단락 평가 (컴퓨터가 어디까지 보는지 판단해서 활용)\n",
        "username = '' # 사용자가 아무것도 입력하지 않았을 경우\n",
        "username = username or 'liact'\n",
        "username"
      ],
      "metadata": {
        "id": "pRj-LpGN2E-R",
        "outputId": "6014943a-bc4a-4293-f6b6-a88bfe58188e",
        "colab": {
          "base_uri": "https://localhost:8080/",
          "height": 35
        }
      },
      "execution_count": null,
      "outputs": [
        {
          "output_type": "execute_result",
          "data": {
            "text/plain": [
              "'liact'"
            ],
            "application/vnd.google.colaboratory.intrinsic+json": {
              "type": "string"
            }
          },
          "metadata": {},
          "execution_count": 119
        }
      ]
    },
    {
      "cell_type": "code",
      "source": [
        "username = '홍길동' # 사용자가 이름을 입력했을 경우\n",
        "username = username or 'liact'\n",
        "username"
      ],
      "metadata": {
        "id": "Cs-QoI-M2bq8",
        "outputId": "4ea9a8cc-2197-4081-959e-160810589382",
        "colab": {
          "base_uri": "https://localhost:8080/",
          "height": 35
        }
      },
      "execution_count": null,
      "outputs": [
        {
          "output_type": "execute_result",
          "data": {
            "text/plain": [
              "'홍길동'"
            ],
            "application/vnd.google.colaboratory.intrinsic+json": {
              "type": "string"
            }
          },
          "metadata": {},
          "execution_count": 120
        }
      ]
    },
    {
      "cell_type": "code",
      "source": [
        "# and 와 or 의 우선순위 (and가 더 높습니다.)\n",
        "for i in range(21):\n",
        "    if i % 3 == 0 and i % 5 == 0 or i % 2 == 0:\n",
        "        print(i)\n",
        "\n",
        "for i in range(21):\n",
        "    if (i % 3 == 0 and i % 5 == 0) or i % 2 == 0:\n",
        "        print(i)"
      ],
      "metadata": {
        "id": "BtrzbZkf2ow2"
      },
      "execution_count": null,
      "outputs": []
    },
    {
      "cell_type": "code",
      "source": [
        "# 아래는 출력되는 값이 다릅니다! 우선순위가 낮은 or가 먼저 나왔기 때문입니다\n",
        "# 헷갈리면 괄호 사용하기\n",
        "for i in range(21):\n",
        "    if (i % 3 == 0 or i % 5 == 0) and i % 2 == 0:\n",
        "        print(i)\n",
        "\n",
        "for i in range(21):\n",
        "    if i % 3 == 0 or i % 5 == 0 and i % 2 == 0:\n",
        "        print(i)"
      ],
      "metadata": {
        "id": "qcGtz_383Bdv"
      },
      "execution_count": null,
      "outputs": []
    },
    {
      "cell_type": "markdown",
      "source": [
        "## 비트연산(중요도 하)"
      ],
      "metadata": {
        "id": "dHNv4k4F4Dda"
      }
    },
    {
      "cell_type": "code",
      "source": [
        "# and (곱하기)\n",
        "# 1001 == 9\n",
        "# 0010 == 2\n",
        "# ----\n",
        "# 0000"
      ],
      "metadata": {
        "id": "oGL6QRN_4IJo",
        "outputId": "847095ce-f915-402e-da4e-231f7385ad9d",
        "colab": {
          "base_uri": "https://localhost:8080/",
          "height": 136
        }
      },
      "execution_count": null,
      "outputs": [
        {
          "output_type": "error",
          "ename": "SyntaxError",
          "evalue": "ignored",
          "traceback": [
            "\u001b[0;36m  File \u001b[0;32m\"<ipython-input-121-125fcf8d32a7>\"\u001b[0;36m, line \u001b[0;32m3\u001b[0m\n\u001b[0;31m    0010 == 2\u001b[0m\n\u001b[0m    ^\u001b[0m\n\u001b[0;31mSyntaxError\u001b[0m\u001b[0;31m:\u001b[0m leading zeros in decimal integer literals are not permitted; use an 0o prefix for octal integers\n"
          ]
        }
      ]
    },
    {
      "cell_type": "code",
      "source": [
        "9 & 2"
      ],
      "metadata": {
        "id": "e3sr2huI4p5o",
        "outputId": "39ee39b4-60bc-4ca0-8a2b-11277c2e3103",
        "colab": {
          "base_uri": "https://localhost:8080/"
        }
      },
      "execution_count": null,
      "outputs": [
        {
          "output_type": "execute_result",
          "data": {
            "text/plain": [
              "0"
            ]
          },
          "metadata": {},
          "execution_count": 123
        }
      ]
    },
    {
      "cell_type": "code",
      "source": [
        "# and (곱하기)\n",
        "# 1001 == 9\n",
        "# 1000 == 8\n",
        "# ----\n",
        "# 1000"
      ],
      "metadata": {
        "id": "N0TX44Lm4tWl"
      },
      "execution_count": null,
      "outputs": []
    },
    {
      "cell_type": "code",
      "source": [
        "9 & 8"
      ],
      "metadata": {
        "id": "b3jMbPjH5CXn"
      },
      "execution_count": null,
      "outputs": []
    },
    {
      "cell_type": "code",
      "source": [
        "# or (더하기, 대신 자리올림이 되진 않습니다)\n",
        "# 1001 == 9\n",
        "# 0010 == 2\n",
        "# ----\n",
        "# 1011\n",
        "9 | 3"
      ],
      "metadata": {
        "id": "VxgJ0hfl5gkp",
        "outputId": "8ec99096-d1e1-49d3-ebaf-6330ff4acb83",
        "colab": {
          "base_uri": "https://localhost:8080/"
        }
      },
      "execution_count": null,
      "outputs": [
        {
          "output_type": "execute_result",
          "data": {
            "text/plain": [
              "11"
            ]
          },
          "metadata": {},
          "execution_count": 126
        }
      ]
    },
    {
      "cell_type": "code",
      "source": [
        "# xor (같을 경우 0, 다를 경우 1)\n",
        "# 1001 == 9\n",
        "# 0011 == 3\n",
        "# ----\n",
        "# 1010\n",
        "9 ^ 3"
      ],
      "metadata": {
        "id": "2EHbqA_K59Im",
        "outputId": "dc90c5f0-87f5-4d2b-eae3-765ffaf00164",
        "colab": {
          "base_uri": "https://localhost:8080/"
        }
      },
      "execution_count": null,
      "outputs": [
        {
          "output_type": "execute_result",
          "data": {
            "text/plain": [
              "10"
            ]
          },
          "metadata": {},
          "execution_count": 128
        }
      ]
    },
    {
      "cell_type": "code",
      "source": [
        "~9 # 2 보수를 취하는 것입니다. (9에게 +1한 다음 -를 취하면 됨)\n",
        "~-7 # (7에게 +1한 다음 -를 취하면 됨)"
      ],
      "metadata": {
        "id": "LZEYShbo6MfJ",
        "outputId": "71e0a022-a59e-48a1-e02d-51f3576c27b6",
        "colab": {
          "base_uri": "https://localhost:8080/"
        }
      },
      "execution_count": null,
      "outputs": [
        {
          "output_type": "execute_result",
          "data": {
            "text/plain": [
              "6"
            ]
          },
          "metadata": {},
          "execution_count": 130
        }
      ]
    },
    {
      "cell_type": "code",
      "source": [
        "3 << 2 \n",
        "# 3을 2진수로 표현하면 11인데 2칸을 왼쪽으로 미는 것입니다\n",
        "# 1100"
      ],
      "metadata": {
        "id": "VeGs4O6X6jPH",
        "outputId": "cf949bae-6320-4773-8e3a-da3d8a490433",
        "colab": {
          "base_uri": "https://localhost:8080/"
        }
      },
      "execution_count": null,
      "outputs": [
        {
          "output_type": "execute_result",
          "data": {
            "text/plain": [
              "12"
            ]
          },
          "metadata": {},
          "execution_count": 131
        }
      ]
    },
    {
      "cell_type": "code",
      "source": [
        "7 >> 2"
      ],
      "metadata": {
        "id": "_-SFTEgU7kqO",
        "outputId": "e6ce583f-2cdc-42dd-c97e-24536b1ea1e1",
        "colab": {
          "base_uri": "https://localhost:8080/"
        }
      },
      "execution_count": null,
      "outputs": [
        {
          "output_type": "execute_result",
          "data": {
            "text/plain": [
              "1"
            ]
          },
          "metadata": {},
          "execution_count": 133
        }
      ]
    },
    {
      "cell_type": "markdown",
      "source": [
        "## 할당연산"
      ],
      "metadata": {
        "id": "hZFBmFRc73gy"
      }
    },
    {
      "cell_type": "code",
      "source": [
        "a = 10\n",
        "a+=10\n",
        "a"
      ],
      "metadata": {
        "id": "e4Y9GK8u75d_",
        "outputId": "a0013c56-2f4a-4bdb-e9a7-c522b3e02b6e",
        "colab": {
          "base_uri": "https://localhost:8080/"
        }
      },
      "execution_count": null,
      "outputs": [
        {
          "output_type": "execute_result",
          "data": {
            "text/plain": [
              "20"
            ]
          },
          "metadata": {},
          "execution_count": 134
        }
      ]
    },
    {
      "cell_type": "markdown",
      "source": [
        "## 식별연산자"
      ],
      "metadata": {
        "id": "fHXPX88i9mHu"
      }
    },
    {
      "cell_type": "code",
      "source": [
        "# 앞으로 아래 2개를 활용해서 Python에 \n",
        "# 컨벤션 자료형이 어떻게 구성이되는지 확인해볼겁니다.\n",
        "# id()\n",
        "# is"
      ],
      "metadata": {
        "id": "kfuIjewU9oN6"
      },
      "execution_count": null,
      "outputs": []
    },
    {
      "cell_type": "code",
      "source": [
        "a = 999\n",
        "b = 999\n",
        "a is b"
      ],
      "metadata": {
        "id": "wjE3e6399yar",
        "outputId": "d5c96607-12fa-4518-e98c-b83dc1f19e14",
        "colab": {
          "base_uri": "https://localhost:8080/"
        }
      },
      "execution_count": null,
      "outputs": [
        {
          "output_type": "execute_result",
          "data": {
            "text/plain": [
              "False"
            ]
          },
          "metadata": {},
          "execution_count": 136
        }
      ]
    },
    {
      "cell_type": "code",
      "source": [
        "a = [1, 2, 3]\n",
        "b = [1, 2, 3]\n",
        "a is b"
      ],
      "metadata": {
        "id": "Md2tDnpB90_x",
        "outputId": "808ec330-eef3-48f9-cdae-bc4f08a2930d",
        "colab": {
          "base_uri": "https://localhost:8080/"
        }
      },
      "execution_count": null,
      "outputs": [
        {
          "output_type": "execute_result",
          "data": {
            "text/plain": [
              "False"
            ]
          },
          "metadata": {},
          "execution_count": 137
        }
      ]
    },
    {
      "cell_type": "code",
      "source": [
        "a == b # python의 등호는 type과 value를 봅니다."
      ],
      "metadata": {
        "id": "B3TiVx6K-B_L",
        "outputId": "3e5e865c-1a53-4b7c-f3a1-80c74a9c81f6",
        "colab": {
          "base_uri": "https://localhost:8080/"
        }
      },
      "execution_count": null,
      "outputs": [
        {
          "output_type": "execute_result",
          "data": {
            "text/plain": [
              "True"
            ]
          },
          "metadata": {},
          "execution_count": 138
        }
      ]
    },
    {
      "cell_type": "code",
      "source": [
        "# is는 주소값을 비교합니다.\n",
        "id(a) == id(b)"
      ],
      "metadata": {
        "id": "PeD74a0O_QP9",
        "outputId": "b649facd-e82a-49c8-c749-a7537a39bf62",
        "colab": {
          "base_uri": "https://localhost:8080/"
        }
      },
      "execution_count": null,
      "outputs": [
        {
          "output_type": "execute_result",
          "data": {
            "text/plain": [
              "False"
            ]
          },
          "metadata": {},
          "execution_count": 141
        }
      ]
    },
    {
      "cell_type": "markdown",
      "source": [
        "## not의 위치"
      ],
      "metadata": {
        "id": "tZb5haDp-217"
      }
    },
    {
      "cell_type": "code",
      "source": [
        "a = 10\n",
        "b = 100\n",
        "a is not b"
      ],
      "metadata": {
        "id": "z3l1lcbt-4jx",
        "outputId": "94c4b6f4-4f37-43fe-f481-b30513173c4a",
        "colab": {
          "base_uri": "https://localhost:8080/"
        }
      },
      "execution_count": null,
      "outputs": [
        {
          "output_type": "execute_result",
          "data": {
            "text/plain": [
              "True"
            ]
          },
          "metadata": {},
          "execution_count": 139
        }
      ]
    },
    {
      "cell_type": "code",
      "source": [
        "a = 10\n",
        "b = [10, 20, 30]\n",
        "a in b"
      ],
      "metadata": {
        "id": "14GaUgCC_DGe",
        "outputId": "decf98a9-2b67-439b-d101-a8c0327d80da",
        "colab": {
          "base_uri": "https://localhost:8080/"
        }
      },
      "execution_count": null,
      "outputs": [
        {
          "output_type": "execute_result",
          "data": {
            "text/plain": [
              "True"
            ]
          },
          "metadata": {},
          "execution_count": 140
        }
      ]
    },
    {
      "cell_type": "markdown",
      "source": [
        "## 멤버연산"
      ],
      "metadata": {
        "id": "u22nEmY2_jKu"
      }
    },
    {
      "cell_type": "code",
      "source": [
        "'a' in 'helalo world'\n",
        "'a' in 'hello a world'\n",
        "'a' in ['a', 'b']\n",
        "'a' in {'a':10, 'b':20}\n",
        "# 10 in {'a':10, 'b':20} # dict 안에 있는 value값이 있는지 확인하고 싶으면\n",
        "10 in {'a':10, 'b':20}.values()\n",
        "10 in {10, 20, 30}"
      ],
      "metadata": {
        "id": "5b7TsZqe_iww",
        "outputId": "9b5ac227-a382-4775-82ed-6072fb948c12",
        "colab": {
          "base_uri": "https://localhost:8080/"
        }
      },
      "execution_count": null,
      "outputs": [
        {
          "output_type": "execute_result",
          "data": {
            "text/plain": [
              "True"
            ]
          },
          "metadata": {},
          "execution_count": 146
        }
      ]
    },
    {
      "cell_type": "code",
      "source": [
        "'a' not in ['aa', 'bb']"
      ],
      "metadata": {
        "id": "nGCceCmM_nki",
        "outputId": "5c20e3d4-b9ce-41af-d44c-3f5e9fd8beab",
        "colab": {
          "base_uri": "https://localhost:8080/"
        }
      },
      "execution_count": null,
      "outputs": [
        {
          "output_type": "execute_result",
          "data": {
            "text/plain": [
              "True"
            ]
          },
          "metadata": {},
          "execution_count": 145
        }
      ]
    },
    {
      "cell_type": "code",
      "source": [
        "10 in [10, 20, 30]\n",
        "[10] in [10, 20, 30]\n",
        "[10] in [[10], 20, 30]\n",
        "[10, 20] in [10, 20, 30]\n",
        "[10, 20] in [[10, 20], 30]\n",
        "set([10, 20]).issubset(set([10, 20, 30]))\n",
        "{10,20}.issubset({10,20,30,40})"
      ],
      "metadata": {
        "id": "i_4ZaScvAPpd",
        "outputId": "58e904f9-e3e8-4634-a208-709c569e9f96",
        "colab": {
          "base_uri": "https://localhost:8080/"
        }
      },
      "execution_count": null,
      "outputs": [
        {
          "output_type": "execute_result",
          "data": {
            "text/plain": [
              "True"
            ]
          },
          "metadata": {},
          "execution_count": 147
        }
      ]
    },
    {
      "cell_type": "markdown",
      "source": [
        "## 연습문제"
      ],
      "metadata": {
        "id": "NzRykbhKERu1"
      }
    },
    {
      "cell_type": "code",
      "source": [
        "# 1번 다음 코드의 실행 결괏값을 예상해보세요\n",
        "\n",
        "a = 100\n",
        "(a > 100) and (a < 200) # False\n",
        "(a > 100) or (a < 200) # True\n",
        "(a >= 100) and (a <= 200) # True\n",
        "(a >= 100) or (a <= 200) # True"
      ],
      "metadata": {
        "id": "2KR0Y_IvEUnX",
        "outputId": "f9ce40c8-8c5a-4719-bdf1-b3b9ef5d893a",
        "colab": {
          "base_uri": "https://localhost:8080/"
        }
      },
      "execution_count": null,
      "outputs": [
        {
          "output_type": "execute_result",
          "data": {
            "text/plain": [
              "True"
            ]
          },
          "metadata": {},
          "execution_count": 155
        }
      ]
    },
    {
      "cell_type": "code",
      "source": [
        "# 2번 다음 코드의 실행 결괏값을 예상해보세요\n",
        "\n",
        "b = 25\n",
        "(b % 2 == 0) and (b % 5 == 0) # False"
      ],
      "metadata": {
        "id": "YZ2Dy5JSEWc_",
        "outputId": "32715584-5678-4efe-c9fe-3741b399dbb5",
        "colab": {
          "base_uri": "https://localhost:8080/"
        }
      },
      "execution_count": null,
      "outputs": [
        {
          "output_type": "execute_result",
          "data": {
            "text/plain": [
              "False"
            ]
          },
          "metadata": {},
          "execution_count": 157
        }
      ]
    },
    {
      "cell_type": "code",
      "source": [
        "# 3번 변수 c 안에 들어있는 가격을 100원짜리 몇개로 거슬러 줄 수 있는지 출력해주세요\n",
        "\n",
        "c = 1000\n",
        "c // 100\n",
        "# 결과값은 10입니다."
      ],
      "metadata": {
        "id": "QX7esUtlEXkO",
        "outputId": "d49042d8-a663-4465-e009-6cbbcfb9f637",
        "colab": {
          "base_uri": "https://localhost:8080/"
        }
      },
      "execution_count": null,
      "outputs": [
        {
          "output_type": "execute_result",
          "data": {
            "text/plain": [
              "10"
            ]
          },
          "metadata": {},
          "execution_count": 159
        }
      ]
    },
    {
      "cell_type": "code",
      "source": [
        "# 4번 (심화문제) 입력한 금액을 5000원, 1000원, 500원, 100원으로\n",
        "# 교환하는 프로그램을 만들어주세요.\n",
        "# 그리디 알고리즘 (욕심쟁이 알고리즘)\n",
        "\n",
        "# a = int(input())\n",
        "a = 15900\n",
        "\n",
        "a // 5000, (a % 5000) // 1000, ((a%5000)%1000) // 500, (((a%5000)%1000)%500) // 100\n"
      ],
      "metadata": {
        "id": "faCKkyXrEYTN",
        "outputId": "95ade01e-48aa-4553-96fc-427cd00359a9",
        "colab": {
          "base_uri": "https://localhost:8080/"
        }
      },
      "execution_count": null,
      "outputs": [
        {
          "output_type": "execute_result",
          "data": {
            "text/plain": [
              "(3, 0, 1, 4)"
            ]
          },
          "metadata": {},
          "execution_count": 164
        }
      ]
    },
    {
      "cell_type": "code",
      "source": [
        "#4번\n",
        "# 그리디 알고리즘(욕심쟁이 알고리즘)\n",
        "남은금액 = int(input())\n",
        "\n",
        "오천원 = 남은금액 // 5000\n",
        "# 남은금액 = 남은금액 % 5000\n",
        "남은금액 = 남은금액 - (5000 * 오천원)\n",
        "\n",
        "천원 = 남은금액 // 1000\n",
        "남은금액 = 남은금액 % 1000\n",
        "\n",
        "오백원 = 남은금액 // 500\n",
        "남은금액 = 남은금액 % 500\n",
        "\n",
        "백원 = 남은금액 // 100\n",
        "남은금액 = 남은금액 % 100\n",
        "\n",
        "print(오천원, 천원, 오백원, 백원)"
      ],
      "metadata": {
        "id": "7ZRVtkytOSF4"
      },
      "execution_count": null,
      "outputs": []
    }
  ]
}
