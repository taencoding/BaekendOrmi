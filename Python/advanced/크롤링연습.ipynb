{
  "cells": [
    {
      "cell_type": "code",
      "execution_count": null,
      "metadata": {
        "id": "qtDkwCVsnKaH"
      },
      "outputs": [],
      "source": [
        "# 크롤링, 웹 스크래핑 : 웹에 있는 데이터를 가지고 온다!"
      ]
    },
    {
      "cell_type": "code",
      "execution_count": null,
      "metadata": {
        "id": "KoAgzHoumC33"
      },
      "outputs": [],
      "source": [
        "# 데이터를 가져오는 라이브러리 : requests\n",
        "# 가져온 데이터를 가공하는 라이브러리 : beautifulsoup"
      ]
    },
    {
      "cell_type": "code",
      "execution_count": null,
      "metadata": {
        "id": "wM2BcwUUn-sg"
      },
      "outputs": [],
      "source": [
        "# 크롤링대상 : https://paullab.co.kr/stock.html"
      ]
    },
    {
      "cell_type": "code",
      "execution_count": null,
      "metadata": {},
      "outputs": [],
      "source": [
        "!pip install requests\n"
      ]
    },
    {
      "cell_type": "code",
      "execution_count": 5,
      "metadata": {},
      "outputs": [
        {
          "name": "stdout",
          "output_type": "stream",
          "text": [
            "Collecting bs4\n",
            "  Downloading bs4-0.0.1.tar.gz (1.1 kB)\n",
            "  Preparing metadata (setup.py): started\n",
            "  Preparing metadata (setup.py): finished with status 'done'\n",
            "Collecting beautifulsoup4\n",
            "  Downloading beautifulsoup4-4.12.2-py3-none-any.whl (142 kB)\n",
            "     ---------------------------------------- 0.0/143.0 kB ? eta -:--:--\n",
            "     -------------------------------------- 143.0/143.0 kB 4.3 MB/s eta 0:00:00\n",
            "Requirement already satisfied: soupsieve>1.2 in c:\\users\\태은\\appdata\\local\\programs\\python\\python310\\lib\\site-packages (from beautifulsoup4->bs4) (2.4)\n",
            "Installing collected packages: beautifulsoup4, bs4\n",
            "  Running setup.py install for bs4: started\n",
            "  Running setup.py install for bs4: finished with status 'done'\n",
            "Successfully installed beautifulsoup4-4.12.2 bs4-0.0.1\n"
          ]
        },
        {
          "name": "stderr",
          "output_type": "stream",
          "text": [
            "  DEPRECATION: bs4 is being installed using the legacy 'setup.py install' method, because it does not have a 'pyproject.toml' and the 'wheel' package is not installed. pip 23.1 will enforce this behaviour change. A possible replacement is to enable the '--use-pep517' option. Discussion can be found at https://github.com/pypa/pip/issues/8559\n",
            "\n",
            "[notice] A new release of pip is available: 23.0.1 -> 23.1.2\n",
            "[notice] To update, run: python.exe -m pip install --upgrade pip\n"
          ]
        }
      ],
      "source": [
        "!pip install bs4"
      ]
    },
    {
      "cell_type": "code",
      "execution_count": 6,
      "metadata": {
        "id": "9pxzR4uXoHHc"
      },
      "outputs": [],
      "source": [
        "import requests\n",
        "from bs4 import BeautifulSoup\n",
        "\n",
        "response = requests.get('http://www.paullab.co.kr/stock.html')\n",
        "\n",
        "response.encoding = 'utf-8'\n",
        "html = response.text\n",
        "\n",
        "soup = BeautifulSoup(html, 'html.parser')"
      ]
    },
    {
      "cell_type": "code",
      "execution_count": null,
      "metadata": {
        "id": "B_3v3eImoNv-"
      },
      "outputs": [],
      "source": [
        "html"
      ]
    },
    {
      "cell_type": "code",
      "execution_count": 3,
      "metadata": {
        "colab": {
          "base_uri": "https://localhost:8080/"
        },
        "id": "V2BpNKC8ozdy",
        "outputId": "78c2f626-016d-4e29-c78e-55c06a0a96a8"
      },
      "outputs": [
        {
          "data": {
            "text/plain": [
              "<title>Document</title>"
            ]
          },
          "execution_count": 3,
          "metadata": {},
          "output_type": "execute_result"
        }
      ],
      "source": [
        "soup.title"
      ]
    },
    {
      "cell_type": "code",
      "execution_count": null,
      "metadata": {},
      "outputs": [],
      "source": [
        "oneStep = soup.select('.main')[2]\n",
        "oneStep"
      ]
    },
    {
      "cell_type": "code",
      "execution_count": 8,
      "metadata": {
        "colab": {
          "base_uri": "https://localhost:8080/"
        },
        "id": "VcwLWTJ6pQLP",
        "outputId": "15a9a258-8130-4339-8d2b-c31b46905aaa"
      },
      "outputs": [
        {
          "data": {
            "text/plain": [
              "[<div class=\"tables\">\n",
              " <table class=\"border-style\" summary=\"시가총액 정보\">\n",
              " <tr>\n",
              " <th class=\"strong\" scope=\"row\">시가총액</th>\n",
              " <!-- 공백은 의도적으로 넣은 것입니다. -->\n",
              " <td class=\"strong\"><em id=\"_market_sum\">349조 2,323</em>억원</td>\n",
              " </tr>\n",
              " <tr>\n",
              " <th scope=\"row\">\n",
              " <a class=\"link_site\" href=\"#\">시가총액순위<i class=\"fas fa-caret-right\"></i></a>\n",
              " </th>\n",
              " <!-- 공백은 의도적으로 넣은 것입니다. -->\n",
              " <td>위니브월드 <em id=\"_market_sum\">1</em>위</td>\n",
              " </tr>\n",
              " <tr>\n",
              " <th scope=\"row\">상장주식수</th>\n",
              " <!-- 공백은 의도적으로 넣은 것입니다. -->\n",
              " <td><em id=\"_market_sum\">5,969,782,550</em></td>\n",
              " </tr>\n",
              " </table>\n",
              " <table class=\"border-style\" summary=\"업종상세 정보\">\n",
              " <tr>\n",
              " <th class=\"strong\" scope=\"row\">현재가</th>\n",
              " <td class=\"strong\"><em id=\"_market_sum\">349조 2,323</em>억원</td>\n",
              " </tr>\n",
              " <tr>\n",
              " <th scope=\"row\">52주 최고 <span class=\"bar\">l</span> 최저</th>\n",
              " <td>\n",
              " <em>62,800</em>\n",
              " <span class=\"bar\">l</span>\n",
              " <em>42,300</em>\n",
              " </td>\n",
              " </tr>\n",
              " <tr>\n",
              " <th scope=\"row\">배당수익률 <span class=\"bar\">l</span><span> 2019.12</span>\n",
              " <a alt=\"배당수익률 상세설명\" class=\"help\" href=\"#\"><em>?</em></a>\n",
              " <div class=\"lyr_section\" style=\"display:none\">\n",
              " <div class=\"tooltip_lyr dividend_layer\" id=\"helpPannel5\">\n",
              " <strong>배당수익률 = (배당금 / 현재가) x 100</strong>\n",
              " <p>배당금은 최근 결산연도 기준의 중간배당을 포함한 총 배당금입니다.</p>\n",
              " <span class=\"arrow\"></span>\n",
              " </div>\n",
              " </div>\n",
              " </th>\n",
              " <td>\n",
              " <em id=\"_dvr\">2.42</em>%\n",
              "                 </td>\n",
              " </tr>\n",
              " </table>\n",
              " <table>\n",
              " <tr>\n",
              " <th class=\"strong\" scope=\"row\">매출</th>\n",
              " <!-- <td>22조 1,250억원</td> -->\n",
              " <td class=\"strong\">22,125,034,978,750원</td>\n",
              " </tr>\n",
              " <tr>\n",
              " <th scope=\"row\">비용</th>\n",
              " <!-- <td>19조 2,238억원</td> -->\n",
              " <td>19,223,803,154,781원</td>\n",
              " </tr>\n",
              " <tr>\n",
              " <th scope=\"row\">순익</th>\n",
              " <!-- <td><em id=\"_market_sum\">2조 9,012억원</em></td> -->\n",
              " <td><em id=\"_market_sum\">2,901,231,823,969원</em></td>\n",
              " </tr>\n",
              " </table>\n",
              " </div>]"
            ]
          },
          "execution_count": 8,
          "metadata": {},
          "output_type": "execute_result"
        }
      ],
      "source": [
        "soup.select('.tables')"
      ]
    },
    {
      "cell_type": "code",
      "execution_count": 12,
      "metadata": {
        "colab": {
          "base_uri": "https://localhost:8080/"
        },
        "id": "i-27NKb7phz0",
        "outputId": "2aa3a017-239b-47e0-9cc8-3f7c901da4a0"
      },
      "outputs": [
        {
          "data": {
            "text/plain": [
              "<table class=\"border-style\" summary=\"시가총액 정보\">\n",
              "<tr>\n",
              "<th class=\"strong\" scope=\"row\">시가총액</th>\n",
              "<!-- 공백은 의도적으로 넣은 것입니다. -->\n",
              "<td class=\"strong\"><em id=\"_market_sum\">349조 2,323</em>억원</td>\n",
              "</tr>\n",
              "<tr>\n",
              "<th scope=\"row\">\n",
              "<a class=\"link_site\" href=\"#\">시가총액순위<i class=\"fas fa-caret-right\"></i></a>\n",
              "</th>\n",
              "<!-- 공백은 의도적으로 넣은 것입니다. -->\n",
              "<td>위니브월드 <em id=\"_market_sum\">1</em>위</td>\n",
              "</tr>\n",
              "<tr>\n",
              "<th scope=\"row\">상장주식수</th>\n",
              "<!-- 공백은 의도적으로 넣은 것입니다. -->\n",
              "<td><em id=\"_market_sum\">5,969,782,550</em></td>\n",
              "</tr>\n",
              "</table>"
            ]
          },
          "execution_count": 12,
          "metadata": {},
          "output_type": "execute_result"
        }
      ],
      "source": [
        "총액정보 = soup.select('.tables')\n",
        "총액정보[0].select('table')[0]"
      ]
    },
    {
      "cell_type": "code",
      "execution_count": 15,
      "metadata": {
        "colab": {
          "base_uri": "https://localhost:8080/",
          "height": 35
        },
        "id": "zOhlRR4nqiYH",
        "outputId": "25232b0c-43fd-472f-c01f-70353f4c1314"
      },
      "outputs": [
        {
          "data": {
            "application/vnd.google.colaboratory.intrinsic+json": {
              "type": "string"
            },
            "text/plain": [
              "'5,969,782,550'"
            ]
          },
          "execution_count": 15,
          "metadata": {},
          "output_type": "execute_result"
        }
      ],
      "source": [
        "총액정보 = soup.select('#_market_sum')\n",
        "총액정보[2].text"
      ]
    },
    {
      "cell_type": "code",
      "execution_count": 16,
      "metadata": {
        "id": "pVlpziuzrGdj"
      },
      "outputs": [],
      "source": [
        "import requests\n",
        "from bs4 import BeautifulSoup\n",
        "\n",
        "response = requests.get('https://search.zum.com/search.zum?method=uni&option=accu&rd=1&query=%EC%B5%9C%EC%8B%A0%EC%98%81%ED%99%94&qm=f_typing.top')\n",
        "\n",
        "response.encoding = 'utf-8'\n",
        "html = response.text\n",
        "\n",
        "soup = BeautifulSoup(html, 'html.parser')"
      ]
    },
    {
      "cell_type": "code",
      "execution_count": 27,
      "metadata": {
        "colab": {
          "base_uri": "https://localhost:8080/"
        },
        "id": "rKdOQpQssVxq",
        "outputId": "e9a5648b-8605-4468-aefb-fb6e31bc08e7"
      },
      "outputs": [
        {
          "data": {
            "text/plain": [
              "[<span title=\"칠중주: 홍콩 이야기\">칠중주: 홍콩 이야기</span>,\n",
              " <span title=\"문재인입니다\">문재인입니다</span>,\n",
              " <span title=\"롱디\">롱디</span>,\n",
              " <span title=\"유랑지구2\">유랑지구2</span>,\n",
              " <span title=\"스트리머\">스트리머</span>,\n",
              " <span title=\"가디언즈 오브 갤럭시: Volume 3\">가디언즈 오브 갤럭시: Volume 3</span>,\n",
              " <span title=\"슈퍼 마리오 브라더스\">슈퍼 마리오 브라더스</span>,\n",
              " <span title=\"드림\">드림</span>,\n",
              " <span title=\"존 윅 4\">존 윅 4</span>,\n",
              " <span title=\"스즈메의 문단속\">스즈메의 문단속</span>]"
            ]
          },
          "execution_count": 27,
          "metadata": {},
          "output_type": "execute_result"
        }
      ],
      "source": [
        "soup.select('p.title > span')"
      ]
    },
    {
      "cell_type": "code",
      "execution_count": 28,
      "metadata": {
        "colab": {
          "base_uri": "https://localhost:8080/"
        },
        "id": "gLVN79SGsrDz",
        "outputId": "c9a75816-af0d-42ca-a226-3c4d3aec6f15"
      },
      "outputs": [
        {
          "name": "stdout",
          "output_type": "stream",
          "text": [
            "칠중주: 홍콩 이야기\n",
            "문재인입니다\n",
            "롱디\n",
            "유랑지구2\n",
            "스트리머\n",
            "가디언즈 오브 갤럭시: Volume 3\n",
            "슈퍼 마리오 브라더스\n",
            "드림\n",
            "존 윅 4\n",
            "스즈메의 문단속\n"
          ]
        }
      ],
      "source": [
        "for i in soup.select('p.title > span'):\n",
        "    print(i.text)"
      ]
    },
    {
      "cell_type": "code",
      "execution_count": 31,
      "metadata": {
        "colab": {
          "base_uri": "https://localhost:8080/"
        },
        "id": "EkKJI-CgswRi",
        "outputId": "92b325e8-cd21-463f-c894-5d00ae7701d5"
      },
      "outputs": [
        {
          "name": "stdout",
          "output_type": "stream",
          "text": [
            "1 칠중주: 홍콩 이야기\n",
            "2 문재인입니다\n",
            "3 롱디\n",
            "4 유랑지구2\n",
            "5 스트리머\n",
            "6 가디언즈 오브 갤럭시: Volume 3\n",
            "7 슈퍼 마리오 브라더스\n",
            "8 드림\n",
            "9 존 윅 4\n",
            "10 스즈메의 문단속\n"
          ]
        }
      ],
      "source": [
        "for i, j in enumerate(soup.select('p.title > span'), 1):\n",
        "    print(i, j.text)"
      ]
    },
    {
      "cell_type": "code",
      "execution_count": 34,
      "metadata": {
        "colab": {
          "base_uri": "https://localhost:8080/"
        },
        "id": "OmkK-9Z_tdEo",
        "outputId": "6f9082d8-104e-4727-ebcd-999319ff44fb"
      },
      "outputs": [
        {
          "name": "stdout",
          "output_type": "stream",
          "text": [
            "https://cc.zumst.com/cv2/movie/c15df9263fb2e917fa1d15e7d3bca3b8930505ce28d3d4641fa2252ce036427e.jpg?w=110&h=152&q=90\n",
            "https://cc.zumst.com/cv2/movie/de2674490335079c6b492add654db4d2c0e945afb454b85e3d58219fe0bdd9ef.jpg?w=110&h=152&q=90\n",
            "https://cc.zumst.com/cv2/movie/a44fc6e40c3f6c73cfb22f7a768962538171069b154c905ef339d40aa39f3094.jpg?w=110&h=152&q=90\n",
            "https://cc.zumst.com/cv2/movie/dfea3dea92cf047d108cfff5ebe667a1452f0c5e67c319ba97700588f869902f.jpg?w=110&h=152&q=90\n",
            "https://cc.zumst.com/cv2/movie/4b9bdde9b5cfaeed8c921e6eb0d8d0bfeb37fa36aaccaaad4ca39b9f2c2689bb.jpg?w=110&h=152&q=90\n",
            "https://cc.zumst.com/cv2/movie/c27c5483130f01823998482dc83601947ee88ebb13bce54a7f022c5c16ed941b.jpg?w=110&h=152&q=90\n",
            "https://cc.zumst.com/cv2/movie/847fe41b186a8bbf9e7cac08a6f8ca025d090902c5b17c7779adca8cffb32c21.jpg?w=110&h=152&q=90\n",
            "https://cc.zumst.com/cv2/movie/0d1e24efb772daef66ce598952e01a4fc857003faec26ed751bceaa63903c6f5.jpg?w=110&h=152&q=90\n",
            "https://cc.zumst.com/cv2/movie/ae1930a1e5bc51bf77cbe85358aad1a2a66b392f4c6b54c5665a143f3b241765.jpg?w=110&h=152&q=90\n",
            "https://cc.zumst.com/cv2/movie/11f7ca7df32c46f3e82b67dadd2a15c4282dfb06ad6d5b732275472d860deb5b.jpg?w=110&h=152&q=90\n"
          ]
        }
      ],
      "source": [
        "for i in soup.select('.thumb > img'):\n",
        "    print('https:' + i['src'])"
      ]
    },
    {
      "cell_type": "code",
      "execution_count": 36,
      "metadata": {
        "id": "Z4vMU2h4uAI3"
      },
      "outputs": [],
      "source": [
        "titles = []\n",
        "for i in soup.select('p.title > span'):\n",
        "    titles.append(i.text)\n",
        "\n",
        "imgs = []\n",
        "for i in soup.select('.thumb > img'):\n",
        "    imgs.append('https:' + i['src'])"
      ]
    },
    {
      "cell_type": "code",
      "execution_count": 37,
      "metadata": {
        "id": "fCvk3ctLtyqd"
      },
      "outputs": [],
      "source": [
        "with open(\"index.html\", \"w\") as f:\n",
        "    s = '<h1>영화순위</h1>'\n",
        "    for title, img in zip(titles, imgs):\n",
        "        s += f'<h2>{title}</h2>'\n",
        "        s += f'<img src={img}>'\n",
        "    f.write(s)"
      ]
    },
    {
      "cell_type": "code",
      "execution_count": 2,
      "metadata": {},
      "outputs": [],
      "source": [
        "import requests\n",
        "from bs4 import BeautifulSoup\n",
        "\n",
        "response = requests.get('http://www.paullab.co.kr/stock.html')\n",
        "\n",
        "response.encoding = 'utf-8'\n",
        "html = response.text\n",
        "\n",
        "soup = BeautifulSoup(html, 'html.parser')"
      ]
    },
    {
      "cell_type": "code",
      "execution_count": 1,
      "metadata": {},
      "outputs": [],
      "source": [
        "# advanced 과제 : 제주코딩베이스캠프 연구원에\n",
        "# 2019.09.24일 부터 2019.10.23일까지 거래된 거래총량을 구해주세요."
      ]
    },
    {
      "cell_type": "code",
      "execution_count": null,
      "metadata": {},
      "outputs": [],
      "source": [
        "soup.find_all('div', class_='main')[2]"
      ]
    },
    {
      "cell_type": "code",
      "execution_count": 59,
      "metadata": {},
      "outputs": [],
      "source": [
        "# 제주코딩베이스캠프 연구원\n",
        "oneStep = soup.select('.main')[2]"
      ]
    },
    {
      "cell_type": "code",
      "execution_count": 83,
      "metadata": {},
      "outputs": [],
      "source": [
        "# 거래일별 시세\n",
        "twoStep = oneStep.select('tbody > tr')[1:]"
      ]
    },
    {
      "cell_type": "code",
      "execution_count": null,
      "metadata": {},
      "outputs": [],
      "source": [
        "# 거래일\n",
        "거래일 = []\n",
        "for i in range(len(twoStep)):\n",
        "    거래일.append(twoStep[i].select('td')[0].text)\n",
        "거래일"
      ]
    },
    {
      "cell_type": "code",
      "execution_count": null,
      "metadata": {},
      "outputs": [],
      "source": [
        "# 거래량\n",
        "# twoStep[0].select('td')[6].text\n",
        "\n",
        "거래량 = []\n",
        "for i in twoStep:\n",
        "    거래량.append(i.select('td')[6].text.replace(',', ''))\n",
        "\n",
        "거래량"
      ]
    },
    {
      "cell_type": "code",
      "execution_count": 147,
      "metadata": {},
      "outputs": [
        {
          "data": {
            "text/plain": [
              "11106845"
            ]
          },
          "execution_count": 147,
          "metadata": {},
          "output_type": "execute_result"
        }
      ],
      "source": [
        "거래총량 = 0\n",
        "for date, total in zip(거래일, 거래량):\n",
        "    if date[:4] == '2019':\n",
        "        if (date[5:7] == '09' and int(date[8:]) <=24) or (date[5:7] == '10' and int(date[8:]) <=23):\n",
        "            거래총량 += int(total)\n",
        "거래총량"
      ]
    },
    {
      "cell_type": "code",
      "execution_count": null,
      "metadata": {},
      "outputs": [],
      "source": []
    },
    {
      "cell_type": "code",
      "execution_count": 157,
      "metadata": {},
      "outputs": [
        {
          "name": "stdout",
          "output_type": "stream",
          "text": [
            "거래총량 : 13,067,306\n"
          ]
        }
      ],
      "source": [
        "import requests\n",
        "from bs4 import BeautifulSoup\n",
        "\n",
        "response = requests.get('http://www.paullab.co.kr/stock.html')\n",
        "\n",
        "response.encoding = 'utf-8'\n",
        "html = response.text\n",
        "\n",
        "soup = BeautifulSoup(html, 'html.parser')\n",
        "\n",
        "# 제주코딩베이스캠프 연구원\n",
        "oneStep = soup.select('.main')[2]\n",
        "# 거래일별 시세\n",
        "twoStep = oneStep.select('tbody > tr')[1:]\n",
        "\n",
        "거래량 = []\n",
        "for i in twoStep:\n",
        "    거래량.append(i.select('td')[6].text.replace(',', ''))\n",
        "\n",
        "거래총량 = 0\n",
        "for total in 거래량:\n",
        "    거래총량 += int(total)\n",
        "\n",
        "print(f'거래총량 : {거래총량:,}')\n"
      ]
    },
    {
      "cell_type": "code",
      "execution_count": 149,
      "metadata": {},
      "outputs": [
        {
          "name": "stdout",
          "output_type": "stream",
          "text": [
            "거래총량 : 13,067,306\n"
          ]
        }
      ],
      "source": [
        "import requests\n",
        "from bs4 import BeautifulSoup\n",
        "\n",
        "response = requests.get('http://www.paullab.co.kr/stock.html')\n",
        "\n",
        "response.encoding = 'utf-8'\n",
        "html = response.text\n",
        "\n",
        "soup = BeautifulSoup(html, 'html.parser')\n",
        "\n",
        "li = []\n",
        "# 첫번째 거래량 인덱스번스 번호 6\n",
        "# 그 다음 거래량은 +7씩\n",
        "for i in range(6, len(soup.select('table')[3].select('tr > td')), 7):\n",
        "    li.append(int(soup.select('table')[3].select(\n",
        "        'tr > td')[i].text.replace(',', '')))\n",
        "\n",
        "print(f'거래총량 : {format(sum(li), \",\")}')\n"
      ]
    },
    {
      "cell_type": "code",
      "execution_count": 151,
      "metadata": {},
      "outputs": [
        {
          "name": "stdout",
          "output_type": "stream",
          "text": [
            "13,067,306\n"
          ]
        }
      ],
      "source": [
        "response = requests.get('http://www.paullab.co.kr/stock.html')\n",
        "\n",
        "response.encoding = 'utf-8'\n",
        "html = response.text\n",
        "\n",
        "soup = BeautifulSoup(html, 'html.parser')\n",
        "\n",
        "price_info = {\n",
        "                i.select('td')[0].text:{\n",
        "                    \"날짜\" :  i.select('td')[0].text,\n",
        "                    \"종가\" :  int(i.select('td')[1].text.replace(\",\",\"\")),\n",
        "                    \"전일비\" : int(i.select('td')[2].text.replace(\",\",\"\")),\n",
        "                    \"시가\" : int(i.select('td')[3].text.replace(\",\",\"\")),\n",
        "                    \"고가\" : int(i.select('td')[4].text.replace(\",\",\"\")),\n",
        "                    \"저가\" : int(i.select('td')[5].text.replace(\",\",\"\")),\n",
        "                    \"거래량\" : int(i.select('td')[6].text.replace(\",\",\"\")),\n",
        "                } \n",
        "                for i in soup.select(\".table\")[0].select('tr')[1:]\n",
        "            }\n",
        "total_volume = sum(map(lambda x:price_info[x]['거래량'],price_info))\n",
        "print(format(total_volume,\",\"))"
      ]
    }
  ],
  "metadata": {
    "colab": {
      "provenance": []
    },
    "kernelspec": {
      "display_name": "Python 3",
      "name": "python3"
    },
    "language_info": {
      "codemirror_mode": {
        "name": "ipython",
        "version": 3
      },
      "file_extension": ".py",
      "mimetype": "text/x-python",
      "name": "python",
      "nbconvert_exporter": "python",
      "pygments_lexer": "ipython3",
      "version": "3.10.2"
    }
  },
  "nbformat": 4,
  "nbformat_minor": 0
}
