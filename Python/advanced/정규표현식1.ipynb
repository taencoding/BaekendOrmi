{
 "cells": [
  {
   "cell_type": "code",
   "execution_count": 8,
   "metadata": {},
   "outputs": [],
   "source": [
    "# 다음 숫자를 모두 포함하는 정규표현식을 만들어주세요. 참고로 지역번호 들어가야 합니다.\n",
    "\n",
    "text ='''\n",
    "010-9091-5491\n",
    "010-5043-2901\n",
    "010-5050-40409\n",
    "010 2913 3132\n",
    "010 1913 3829\n",
    "064-721-3213\n",
    "010.1913.3829\n",
    "'''"
   ]
  },
  {
   "cell_type": "code",
   "execution_count": 15,
   "metadata": {},
   "outputs": [
    {
     "data": {
      "text/plain": [
       "['010-9091-5491',\n",
       " '010-5043-2901',\n",
       " '010-5050-40409',\n",
       " '010 2913 3132',\n",
       " '010 1913 3829',\n",
       " '064-721-3213',\n",
       " '010.1913.3829']"
      ]
     },
     "execution_count": 15,
     "metadata": {},
     "output_type": "execute_result"
    }
   ],
   "source": [
    "import re\n",
    "\n",
    "p = re.compile(r'[0-9]{3}[-. ][0-9]+[-. ][0-9]+')\n",
    "p.findall(text)"
   ]
  },
  {
   "cell_type": "code",
   "execution_count": 16,
   "metadata": {},
   "outputs": [
    {
     "data": {
      "text/plain": [
       "['010-9091-5491',\n",
       " '010-5043-2901',\n",
       " '010-5050-40409',\n",
       " '010 2913 3132',\n",
       " '010 1913 3829',\n",
       " '064-721-3213',\n",
       " '010.1913.3829']"
      ]
     },
     "execution_count": 16,
     "metadata": {},
     "output_type": "execute_result"
    }
   ],
   "source": [
    "import re\n",
    "\n",
    "p = re.compile(r'\\d{3}[-. ]\\d+[-. ]\\d+')\n",
    "p.findall(text)\n"
   ]
  }
 ],
 "metadata": {
  "kernelspec": {
   "display_name": "Python 3",
   "language": "python",
   "name": "python3"
  },
  "language_info": {
   "codemirror_mode": {
    "name": "ipython",
    "version": 3
   },
   "file_extension": ".py",
   "mimetype": "text/x-python",
   "name": "python",
   "nbconvert_exporter": "python",
   "pygments_lexer": "ipython3",
   "version": "3.10.2"
  },
  "orig_nbformat": 4
 },
 "nbformat": 4,
 "nbformat_minor": 2
}
