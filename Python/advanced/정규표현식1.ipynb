{
 "cells": [
  {
   "cell_type": "code",
   "execution_count": null,
   "metadata": {},
   "outputs": [],
   "source": [
    "# 다음 숫자를 모두 포함하는 정규표현식을 만들어주세요. 참고로 지역번호 들어가야 합니다.\n",
    "\n",
    "'''\n",
    "010-9091-5491\n",
    "010-5043-2901\n",
    "010-5050-40409\n",
    "010 2913 3132\n",
    "010 1913 3829\n",
    "064-721-3213\n",
    "010.1913.3829\n",
    "'''"
   ]
  },
  {
   "cell_type": "code",
   "execution_count": null,
   "metadata": {},
   "outputs": [],
   "source": [
    "답 = [0-9]{3}([-. ]?[0-9]{3,}){2}"
   ]
  }
 ],
 "metadata": {
  "language_info": {
   "name": "python"
  },
  "orig_nbformat": 4
 },
 "nbformat": 4,
 "nbformat_minor": 2
}
