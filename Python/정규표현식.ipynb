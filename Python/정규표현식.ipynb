{
 "cells": [
  {
   "attachments": {},
   "cell_type": "markdown",
   "metadata": {},
   "source": [
    "## 정규표현식\n",
    "* Anchors (처음과 끝)\n",
    "    ```\n",
    "    /^hello/gm : 처음에 hello\n",
    "    /hello$/gm : 끝에 hello\n",
    "    ```\n",
    "\n",
    "* dot (모든 문자)\n",
    "    ```\n",
    "    /.ello/gm : hello, Hello, vello\n",
    "    /./gm : 모든 문자열(*과 같은 역할)\n",
    "    /....../gm : 모든 6개의 문자열\n",
    "    ```\n",
    "\n",
    "* 대괄호 (택1)\n",
    "    ```\n",
    "    /h[eay]llo/gm : 대괄호 안에 문자는 문자 1개에 해당!\n",
    "    /h[ea]l../gm : 총 5개의 문자\n",
    "    ```\n",
    "\n",
    "* 대쉬 (범위)\n",
    "    ```\n",
    "    /h[a-f]llo/gm\n",
    "    /[a-zA-Z0-9]/gm : 모든 알파뱃과 숫자를 찾음\n",
    "    /[^a-zA-Z0-9]/gm : 나머지 문자열을 찾음\n",
    "    ```\n",
    "\n",
    "* 캐럿(caret) (대괄호 안에 들어가면 부정)\n",
    "    * 아래 경우 a와 e가 모두 부정\n",
    "        ```\n",
    "        /h[^ae]llo/gm : 대괄호 안에 있다면 not에 의미\n",
    "        ```\n",
    "\n",
    "* 소괄호 (서브패턴, 그룹)\n",
    "    * 패턴으로 외우시는 것보다 다양한 예제로 습득하시기를 권해드립니다.\n",
    "    ```\n",
    "    /(on|ues|rida)/gm : 그룹 1로 3개 중 매칭되는 패턴 찾음\n",
    "    ```\n",
    "\n",
    "* 수량자\n",
    "    ```\n",
    "    _* : 앞에 있는 문자가 0개 ~ N개\n",
    "    _+ : 앞에 있는 문자가 1개 ~ N개\n",
    "    _? : 앞에 있는 문자가 0개 ~ 1개\n",
    "\n",
    "    {3} : 3개\n",
    "    {3,} : 3개 이상\n",
    "    {1,3} : 1개 ~ 3개\n",
    "\n",
    "    _* : 앞에 있는 문자가 0개 ~ N개 ({0,})\n",
    "    _+ : 앞에 있는 문자가 1개 ~ N개({1,})\n",
    "    _? : 앞에 있는 문자가 0개 ~ 1개 ({0,1})\n",
    "\n",
    "    /[0-9]{3}[-.* ][0-9]{4}[-.* ][0-9]{4}/gm\n",
    "    /[0-9a-zA-Z]{2,3}[-.* ][0-9]{3,4}[-.* ][0-9]{4}/gm\n",
    "    /[0-9a-zA-Z]+@[0-9a-zA-Z]+.[a-zA-Z]+/gm\n",
    "    ```\n",
    "\n",
    "* 캐릭터 클래스\n",
    "    ```\n",
    "    /\\w/gm : 워드\n",
    "    /\\w{5} /gm : 5개의 글자와 스페이스 하나\n",
    "    /\\W/gm : not 워드\n",
    "    /\\d/gm : 숫자\n",
    "    /\\D/gm : not 숫자\n",
    "    /\\s/gm : 스페이스\n",
    "    /\\S/gm : not 스페이스\n",
    "    ```\n",
    "\n",
    "* 이스케이프문자\n",
    "    ```\n",
    "    /\\[.*]/gm : 대괄호([]) 안에 감싸여진 문자열\n",
    "    /\\(.*\\)/gm : 소괄호 안에 감싸여진 문자열\n",
    "    /\\\\.*\\//gm : 이미 사용되고 있는 특수문자로 감싸여진 문자열\n",
    "    /-.*-/gm : 이스케이프 문자를 사용할 필요가 없는 경우\n",
    "    /\\^\\^/gm : 이스케이프 문자가 필요한 경우\n",
    "    /:\\)/gm : 이스케이프 문자가 필요한 경우\n",
    "    ```\n",
    "\n",
    "\n",
    "* (연습) 전화번호\n",
    "    ```\n",
    "    010[-,. ]?[0-9]{4}[-,. ]?[0-9]{4}\n",
    "    010([-,. ]?[0-9]{4}){2}\n",
    "    ```"
   ]
  },
  {
   "attachments": {},
   "cell_type": "markdown",
   "metadata": {},
   "source": [
    "* 수량자\n",
    "    ```\n",
    "    _* : 앞에 있는 문자가 0개 ~ N개\n",
    "    _+ : 앞에 있는 문자가 1개 ~ N개\n",
    "    _? : 앞에 있는 문자가 0개 ~ 1개\n",
    "\n",
    "    {3} : 3개\n",
    "    {3,} : 3개 이상\n",
    "    {1, 3} : 1개 ~ 3개\n",
    "\n",
    "    _* : 앞에 있는 문자가 0개 ~ N개 ({0,})\n",
    "    _+ : 앞에 있는 문자가 1개 ~ N개 ({1,})\n",
    "    _? : 앞에 있는 문자가 0개 ~ 1개 ({0, 1})\n",
    "\n",
    "    \n",
    "    \n",
    "    ```"
   ]
  },
  {
   "attachments": {},
   "cell_type": "markdown",
   "metadata": {},
   "source": [
    "* 공식문서 : https://docs.python.org/ko/3/library/re.html"
   ]
  },
  {
   "attachments": {},
   "cell_type": "markdown",
   "metadata": {},
   "source": [
    "* 정규표현식에서 자주 사용되는 패턴\n",
    "    * 아래와 같이 2가지 방법으로 사용할 수 있습니다.\n",
    "    ```\n",
    "    # 1\n",
    "    p = re.compile(r'([0-9]|10)([SDT])([\\*\\#]?)')\n",
    "    p.findall('1S2D*3T')\n",
    "\n",
    "    # 2\n",
    "    re.findall(r'([0-9]|10)([SDT])([\\*\\#]?)', '1S2D*3T')\n",
    "    ```\n",
    "    * compile() : 패턴 컴파일\n",
    "    * match() : 문자열의 앞 부분이 매치되는가를 체크, 추출\n",
    "    * sub() : 매치된 부분을 치환 (str에 replace와 같은 역활)\n",
    "    * search() : 선두에 한해서 매치하는지를 체크, 추출\n",
    "    * findall() : 매치된 부분 모두 리스트 반환\n",
    "    * finditer() : 정규식과 매치되는 모든 문자열(substring)을 반복 가능한 객체로 리턴한다.\n",
    "    * spilt() : 정규표현 패턴으로 문자열을 분할 (str에 split과 같은 역활)\n",
    "\n",
    "* 반환 객체의 값\n",
    "    * group() : 매치된 문자열\n",
    "    * groups() : 매치된 문자열 전체\n",
    "    * start() : 매치된 문자열의 시작 위치\n",
    "    * end() : 매치된 문자열의 끝 위치\n",
    "    * span() : 매치된 문자열의 시작과 끝\n",
    "\n",
    "* 컴파일 옵션(플래그)\n",
    "    * 사용 예\n",
    "    ```\n",
    "    re.compile('[a-z]+', re.I)\n",
    "    ```\n",
    "    * re.DOTALL, re.S : 줄바꿈 문자까지 모두 매칭\n",
    "    * re.IGNORECASE, re.I : 대소문자 구분하지 않음\n",
    "    * re.MULTILINE, re.M : ^, & 등의 매칭 패턴을 라인마다 적용\n",
    "    * re.VERBOSE, re.X : 아래와 같이 #으로 주석문을 사용할 수 있음\n",
    "    ```\n",
    "    a = re.compile(r\"\"\"\\d +  # the integral part\n",
    "                   \\.    # the decimal point\n",
    "                   \\d *  # some fractional digits\"\"\", re.X)\n",
    "    b = re.compile(r\"\\d+\\.\\d*\")\n",
    "    ```\n",
    "\n",
    "* tip\n",
    "    * 같은 패턴입니다.\n",
    "    ```\n",
    "    re.compile('\\\\\\\\section')\n",
    "    re.compile(r'\\\\section')\n",
    "    ```\n",
    "    * {}를 표현하고 싶을 때에는 중괄호 2개, 또는 때에 따라 3개가 필요합니다.\n",
    "    ```\n",
    "    re.compile(f'{{section}}')\n",
    "    ```"
   ]
  },
  {
   "cell_type": "code",
   "execution_count": 19,
   "metadata": {},
   "outputs": [
    {
     "data": {
      "text/plain": [
       "[('1', 'S', ''), ('2', 'D', '*'), ('3', 'T', '')]"
      ]
     },
     "execution_count": 19,
     "metadata": {},
     "output_type": "execute_result"
    }
   ],
   "source": [
    "import re\n",
    "\n",
    "p = re.compile(r'([0-9]|10)([SDT])([\\*\\#]?)')\n",
    "p.findall('1S2D*3T')"
   ]
  },
  {
   "attachments": {},
   "cell_type": "markdown",
   "metadata": {},
   "source": [
    "## compile"
   ]
  },
  {
   "cell_type": "code",
   "execution_count": 3,
   "metadata": {},
   "outputs": [],
   "source": [
    "import re\n",
    "\n",
    "p = re.compile('h[eao]llo')"
   ]
  },
  {
   "cell_type": "code",
   "execution_count": 4,
   "metadata": {},
   "outputs": [
    {
     "data": {
      "text/plain": [
       "'hello\\nhallo\\nhollo\\n'"
      ]
     },
     "execution_count": 4,
     "metadata": {},
     "output_type": "execute_result"
    }
   ],
   "source": [
    "text = '''hello\n",
    "hallo\n",
    "hollo\n",
    "'''\n",
    "text"
   ]
  },
  {
   "attachments": {},
   "cell_type": "markdown",
   "metadata": {},
   "source": [
    "## match"
   ]
  },
  {
   "cell_type": "code",
   "execution_count": null,
   "metadata": {},
   "outputs": [],
   "source": [
    "# 실무에서는 특정한 패턴이 존재하는지만 사용하는 것으로 많이 사용합니다.\n",
    "# 찾아서 무언가를 하는 것은 findall이나 sub 이런 메서드를 많이 사용합니다."
   ]
  },
  {
   "cell_type": "code",
   "execution_count": 21,
   "metadata": {},
   "outputs": [
    {
     "data": {
      "text/plain": [
       "<re.Match object; span=(0, 5), match='hello'>"
      ]
     },
     "execution_count": 21,
     "metadata": {},
     "output_type": "execute_result"
    }
   ],
   "source": [
    "import re\n",
    "\n",
    "p = re.compile('h[eao]llo')\n",
    "p.match('hello hallo hollo hillo hallo')"
   ]
  },
  {
   "cell_type": "code",
   "execution_count": 22,
   "metadata": {},
   "outputs": [
    {
     "data": {
      "text/plain": [
       "'hello'"
      ]
     },
     "execution_count": 22,
     "metadata": {},
     "output_type": "execute_result"
    }
   ],
   "source": [
    "result = p.match('hello hallo hollo hillo hallo')\n",
    "result.group(0)\n",
    "# result.group(1)"
   ]
  },
  {
   "cell_type": "code",
   "execution_count": 27,
   "metadata": {},
   "outputs": [
    {
     "data": {
      "text/plain": [
       "'hollo'"
      ]
     },
     "execution_count": 27,
     "metadata": {},
     "output_type": "execute_result"
    }
   ],
   "source": [
    "import re\n",
    "\n",
    "p = re.compile('(\\w+) (\\w+) (\\w+)')\n",
    "result = p.match('hello hallo hollo hillo hallo')\n",
    "result.group(0) # 전체 그룹\n",
    "result.group(1) # 그룹1\n",
    "result.group(2) # 그룹2\n",
    "result.group(3) # 그룹3"
   ]
  },
  {
   "cell_type": "code",
   "execution_count": 28,
   "metadata": {},
   "outputs": [
    {
     "data": {
      "text/plain": [
       "('hello', 'hallo')"
      ]
     },
     "execution_count": 28,
     "metadata": {},
     "output_type": "execute_result"
    }
   ],
   "source": [
    "import re\n",
    "\n",
    "p = re.compile('(\\w+) (\\w+) (\\w+)')\n",
    "result = p.match('hello hallo hollo hillo hallo')\n",
    "result.group(1, 2) # 그룹1, 그룹2"
   ]
  },
  {
   "cell_type": "code",
   "execution_count": 29,
   "metadata": {},
   "outputs": [
    {
     "data": {
      "text/plain": [
       "<re.Match object; span=(0, 5), match='hello'>"
      ]
     },
     "execution_count": 29,
     "metadata": {},
     "output_type": "execute_result"
    }
   ],
   "source": [
    "import re\n",
    "\n",
    "p = re.compile('h[eao]llo')\n",
    "p.match('hello hallo hollo hillo hallo')\n",
    "# None 값이 출력된 것입니다.\n",
    "# 문자열 앞쪽이 매칭이 안 된 것입니다."
   ]
  },
  {
   "cell_type": "code",
   "execution_count": 30,
   "metadata": {},
   "outputs": [
    {
     "data": {
      "text/plain": [
       "('Malcolm', 'Reynolds')"
      ]
     },
     "execution_count": 30,
     "metadata": {},
     "output_type": "execute_result"
    }
   ],
   "source": [
    "# 아래 문법은 match 말고도 다른 문법에서도 사용이 가능합니다.\n",
    "m = re.match(r\"(?P<first_name>\\w+) (?P<last_name>\\w+)\", \"Malcolm Reynolds\")\n",
    "m.group('first_name'), m.group('last_name')"
   ]
  },
  {
   "cell_type": "code",
   "execution_count": 31,
   "metadata": {},
   "outputs": [
    {
     "data": {
      "text/plain": [
       "'Malcolm Reynolds'"
      ]
     },
     "execution_count": 31,
     "metadata": {},
     "output_type": "execute_result"
    }
   ],
   "source": [
    "m[0]"
   ]
  },
  {
   "cell_type": "code",
   "execution_count": 15,
   "metadata": {},
   "outputs": [
    {
     "data": {
      "text/plain": [
       "('Malcolm', 'Reynolds')"
      ]
     },
     "execution_count": 15,
     "metadata": {},
     "output_type": "execute_result"
    }
   ],
   "source": [
    "m[1], m[2]"
   ]
  },
  {
   "cell_type": "code",
   "execution_count": 16,
   "metadata": {},
   "outputs": [
    {
     "data": {
      "text/plain": [
       "('1000', '2000')"
      ]
     },
     "execution_count": 16,
     "metadata": {},
     "output_type": "execute_result"
    }
   ],
   "source": [
    "m = re.match(r\"010-(?P<앞자리>[0-9]{4})-(?P<뒷자리>[0-9]{4})\", \"010-1000-2000\")\n",
    "m.group('앞자리'), m.group('뒷자리')"
   ]
  },
  {
   "cell_type": "code",
   "execution_count": 32,
   "metadata": {},
   "outputs": [
    {
     "data": {
      "text/plain": [
       "\"<Match: 'akt5q', groups=()>\""
      ]
     },
     "execution_count": 32,
     "metadata": {},
     "output_type": "execute_result"
    }
   ],
   "source": [
    "# 실제로 실무에서 match 사용되는 패턴 (공식문서)\n",
    "valid = re.compile(r\"^[a2-9tjqk]{5}$\")\n",
    "\n",
    "def displaymatch(match):\n",
    "    if match is None:\n",
    "        return None\n",
    "    return '<Match: %r, groups=%r>' % (match.group(), match.groups())\n",
    "\n",
    "displaymatch(valid.match(\"akt5q\"))"
   ]
  },
  {
   "cell_type": "code",
   "execution_count": 33,
   "metadata": {},
   "outputs": [
    {
     "data": {
      "text/plain": [
       "'해당 패턴에 매칭됩니다!'"
      ]
     },
     "execution_count": 33,
     "metadata": {},
     "output_type": "execute_result"
    }
   ],
   "source": [
    "# 실제로 실무에서 match 사용되는 패턴 (공식문서)\n",
    "valid = re.compile(r\"^[a2-9tjqk]{5}$\")\n",
    "\n",
    "def displaymatch(match):\n",
    "    if match is None:\n",
    "        return None\n",
    "    return '해당 패턴에 매칭됩니다!'\n",
    "\n",
    "displaymatch(valid.match(\"akt5q\"))"
   ]
  },
  {
   "attachments": {},
   "cell_type": "markdown",
   "metadata": {},
   "source": [
    "## sub"
   ]
  },
  {
   "cell_type": "code",
   "execution_count": null,
   "metadata": {},
   "outputs": [],
   "source": [
    "# 문제링크 : https://school.programmers.co.kr/learn/courses/30/lessons/120849"
   ]
  },
  {
   "cell_type": "code",
   "execution_count": 34,
   "metadata": {},
   "outputs": [],
   "source": [
    "def solution(my_string):\n",
    "    return my_string.replace('a', '').replace('e', '').replace('i', '').replace('o', '').replace('u', '')"
   ]
  },
  {
   "cell_type": "code",
   "execution_count": 35,
   "metadata": {},
   "outputs": [],
   "source": [
    "def solution(my_string):\n",
    "    string = 'aeiou'\n",
    "    for i in string:\n",
    "        my_string = my_string.replace(i, '')\n",
    "    return my_string"
   ]
  },
  {
   "cell_type": "code",
   "execution_count": 36,
   "metadata": {},
   "outputs": [],
   "source": [
    "import re\n",
    "\n",
    "def solution(my_string):\n",
    "    return re.sub(r\"[aeiou]\", \"\", my_string)\n",
    "\n",
    "solution = lambda my_string: re.sub(r\"[aeiou]\", \"\", my_string)"
   ]
  },
  {
   "cell_type": "code",
   "execution_count": 37,
   "metadata": {},
   "outputs": [],
   "source": [
    "import re\n",
    "\n",
    "\n",
    "def solution(my_string): return re.sub(r\"[aeiou]\", \"\", my_string)\n"
   ]
  },
  {
   "cell_type": "code",
   "execution_count": null,
   "metadata": {},
   "outputs": [],
   "source": []
  },
  {
   "cell_type": "code",
   "execution_count": null,
   "metadata": {},
   "outputs": [],
   "source": []
  }
 ],
 "metadata": {
  "kernelspec": {
   "display_name": "Python 3",
   "language": "python",
   "name": "python3"
  },
  "language_info": {
   "codemirror_mode": {
    "name": "ipython",
    "version": 3
   },
   "file_extension": ".py",
   "mimetype": "text/x-python",
   "name": "python",
   "nbconvert_exporter": "python",
   "pygments_lexer": "ipython3",
   "version": "3.10.2"
  },
  "orig_nbformat": 4
 },
 "nbformat": 4,
 "nbformat_minor": 2
}
