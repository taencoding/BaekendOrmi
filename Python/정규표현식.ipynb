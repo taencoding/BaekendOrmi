{
 "cells": [
  {
   "attachments": {},
   "cell_type": "markdown",
   "metadata": {},
   "source": [
    "## 정규표현식\n",
    "* Anchors (처음과 끝)\n",
    "    ```\n",
    "    /^hello/gm : 처음에 hello\n",
    "    /hello$/gm : 끝에 hello\n",
    "    ```\n",
    "\n",
    "* dot (모든 문자)\n",
    "    ```\n",
    "    /.ello/gm : hello, Hello, vello\n",
    "    /./gm : 모든 문자열(*과 같은 역할)\n",
    "    /....../gm : 모든 6개의 문자열\n",
    "    ```\n",
    "\n",
    "* 대괄호 (택1)\n",
    "    ```\n",
    "    /h[eay]llo/gm : 대괄호 안에 문자는 문자 1개에 해당!\n",
    "    /h[ea]l../gm : 총 5개의 문자\n",
    "    ```\n",
    "\n",
    "* 대쉬 (범위)\n",
    "    ```\n",
    "    /h[a-f]llo/gm\n",
    "    /[a-zA-Z0-9]/gm : 모든 알파뱃과 숫자를 찾음\n",
    "    /[^a-zA-Z0-9]/gm : 나머지 문자열을 찾음\n",
    "    ```\n",
    "\n",
    "* 캐럿(caret) (대괄호 안에 들어가면 부정)\n",
    "    * 아래 경우 a와 e가 모두 부정\n",
    "        ```\n",
    "        /h[^ae]llo/gm : 대괄호 안에 있다면 not에 의미\n",
    "        ```\n",
    "\n",
    "* 소괄호 (서브패턴, 그룹)\n",
    "    * 패턴으로 외우시는 것보다 다양한 예제로 습득하시기를 권해드립니다.\n",
    "    ```\n",
    "    /(on|ues|rida)/gm : 그룹 1로 3개 중 매칭되는 패턴 찾음\n",
    "    ```\n",
    "\n",
    "* 수량자\n",
    "    ```\n",
    "    _* : 앞에 있는 문자가 0개 ~ N개\n",
    "    _+ : 앞에 있는 문자가 1개 ~ N개\n",
    "    _? : 앞에 있는 문자가 0개 ~ 1개\n",
    "\n",
    "    {3} : 3개\n",
    "    {3,} : 3개 이상\n",
    "    {1,3} : 1개 ~ 3개\n",
    "\n",
    "    _* : 앞에 있는 문자가 0개 ~ N개 ({0,})\n",
    "    _+ : 앞에 있는 문자가 1개 ~ N개({1,})\n",
    "    _? : 앞에 있는 문자가 0개 ~ 1개 ({0,1})\n",
    "\n",
    "    /[0-9]{3}[-.* ][0-9]{4}[-.* ][0-9]{4}/gm\n",
    "    /[0-9a-zA-Z]{2,3}[-.* ][0-9]{3,4}[-.* ][0-9]{4}/gm\n",
    "    /[0-9a-zA-Z]+@[0-9a-zA-Z]+.[a-zA-Z]+/gm\n",
    "    ```\n",
    "\n",
    "* 캐릭터 클래스\n",
    "    ```\n",
    "    /\\w/gm : 워드\n",
    "    /\\w{5} /gm : 5개의 글자와 스페이스 하나\n",
    "    /\\W/gm : not 워드\n",
    "    /\\d/gm : 숫자\n",
    "    /\\D/gm : not 숫자\n",
    "    /\\s/gm : 스페이스\n",
    "    /\\S/gm : not 스페이스\n",
    "    ```\n",
    "\n",
    "* 이스케이프문자\n",
    "    ```\n",
    "    /\\[.*]/gm : 대괄호([]) 안에 감싸여진 문자열\n",
    "    /\\(.*\\)/gm : 소괄호 안에 감싸여진 문자열\n",
    "    /\\\\.*\\//gm : 이미 사용되고 있는 특수문자로 감싸여진 문자열\n",
    "    /-.*-/gm : 이스케이프 문자를 사용할 필요가 없는 경우\n",
    "    /\\^\\^/gm : 이스케이프 문자가 필요한 경우\n",
    "    /:\\)/gm : 이스케이프 문자가 필요한 경우\n",
    "    ```\n",
    "\n",
    "\n",
    "* (연습) 전화번호\n",
    "    ```\n",
    "    010[-,. ]?[0-9]{4}[-,. ]?[0-9]{4}\n",
    "    010([-,. ]?[0-9]{4}){2}\n",
    "    ```"
   ]
  },
  {
   "attachments": {},
   "cell_type": "markdown",
   "metadata": {},
   "source": [
    "* 수량자\n",
    "    ```\n",
    "    _* : 앞에 있는 문자가 0개 ~ N개\n",
    "    _+ : 앞에 있는 문자가 1개 ~ N개\n",
    "    _? : 앞에 있는 문자가 0개 ~ 1개\n",
    "\n",
    "    {3} : 3개\n",
    "    {3,} : 3개 이상\n",
    "    {1, 3} : 1개 ~ 3개\n",
    "\n",
    "    _* : 앞에 있는 문자가 0개 ~ N개 ({0,})\n",
    "    _+ : 앞에 있는 문자가 1개 ~ N개 ({1,})\n",
    "    _? : 앞에 있는 문자가 0개 ~ 1개 ({0, 1})\n",
    "\n",
    "    \n",
    "    \n",
    "    ```"
   ]
  },
  {
   "attachments": {},
   "cell_type": "markdown",
   "metadata": {},
   "source": [
    "* 공식문서 : https://docs.python.org/ko/3/library/re.html"
   ]
  },
  {
   "attachments": {},
   "cell_type": "markdown",
   "metadata": {},
   "source": [
    "* 정규표현식에서 자주 사용되는 패턴\n",
    "    * 아래와 같이 2가지 방법으로 사용할 수 있습니다.\n",
    "    ```\n",
    "    # 1\n",
    "    p = re.compile(r'([0-9]|10)([SDT])([\\*\\#]?)')\n",
    "    p.findall('1S2D*3T')\n",
    "\n",
    "    # 2\n",
    "    re.findall(r'([0-9]|10)([SDT])([\\*\\#]?)', '1S2D*3T')\n",
    "    ```\n",
    "    * compile() : 패턴 컴파일\n",
    "    * match() : 문자열의 앞 부분이 매치되는가를 체크, 추출\n",
    "    * sub() : 매치된 부분을 치환 (str에 replace와 같은 역활)\n",
    "    * search() : 선두에 한해서 매치하는지를 체크, 추출\n",
    "    * findall() : 매치된 부분 모두 리스트 반환\n",
    "    * finditer() : 정규식과 매치되는 모든 문자열(substring)을 반복 가능한 객체로 리턴한다.\n",
    "    * spilt() : 정규표현 패턴으로 문자열을 분할 (str에 split과 같은 역활)\n",
    "\n",
    "* 반환 객체의 값\n",
    "    * group() : 매치된 문자열\n",
    "    * groups() : 매치된 문자열 전체\n",
    "    * start() : 매치된 문자열의 시작 위치\n",
    "    * end() : 매치된 문자열의 끝 위치\n",
    "    * span() : 매치된 문자열의 시작과 끝\n",
    "\n",
    "* 컴파일 옵션(플래그)\n",
    "    * 사용 예\n",
    "    ```\n",
    "    re.compile('[a-z]+', re.I)\n",
    "    ```\n",
    "    * re.DOTALL, re.S : 줄바꿈 문자까지 모두 매칭\n",
    "    * re.IGNORECASE, re.I : 대소문자 구분하지 않음\n",
    "    * re.MULTILINE, re.M : ^, & 등의 매칭 패턴을 라인마다 적용\n",
    "    * re.VERBOSE, re.X : 아래와 같이 #으로 주석문을 사용할 수 있음\n",
    "    ```\n",
    "    a = re.compile(r\"\"\"\\d +  # the integral part\n",
    "                   \\.    # the decimal point\n",
    "                   \\d *  # some fractional digits\"\"\", re.X)\n",
    "    b = re.compile(r\"\\d+\\.\\d*\")\n",
    "    ```\n",
    "\n",
    "* tip\n",
    "    * 같은 패턴입니다.\n",
    "    ```\n",
    "    re.compile('\\\\\\\\section')\n",
    "    re.compile(r'\\\\section')\n",
    "    ```\n",
    "    * {}를 표현하고 싶을 때에는 중괄호 2개, 또는 때에 따라 3개가 필요합니다.\n",
    "    ```\n",
    "    re.compile(f'{{section}}')\n",
    "    ```"
   ]
  },
  {
   "cell_type": "code",
   "execution_count": 19,
   "metadata": {},
   "outputs": [
    {
     "data": {
      "text/plain": [
       "[('1', 'S', ''), ('2', 'D', '*'), ('3', 'T', '')]"
      ]
     },
     "execution_count": 19,
     "metadata": {},
     "output_type": "execute_result"
    }
   ],
   "source": [
    "import re\n",
    "\n",
    "p = re.compile(r'([0-9]|10)([SDT])([\\*\\#]?)')\n",
    "p.findall('1S2D*3T')"
   ]
  },
  {
   "attachments": {},
   "cell_type": "markdown",
   "metadata": {},
   "source": [
    "## compile"
   ]
  },
  {
   "cell_type": "code",
   "execution_count": 3,
   "metadata": {},
   "outputs": [],
   "source": [
    "import re\n",
    "\n",
    "p = re.compile('h[eao]llo')"
   ]
  },
  {
   "cell_type": "code",
   "execution_count": 4,
   "metadata": {},
   "outputs": [
    {
     "data": {
      "text/plain": [
       "'hello\\nhallo\\nhollo\\n'"
      ]
     },
     "execution_count": 4,
     "metadata": {},
     "output_type": "execute_result"
    }
   ],
   "source": [
    "text = '''hello\n",
    "hallo\n",
    "hollo\n",
    "'''\n",
    "text"
   ]
  },
  {
   "attachments": {},
   "cell_type": "markdown",
   "metadata": {},
   "source": [
    "## match"
   ]
  },
  {
   "cell_type": "code",
   "execution_count": null,
   "metadata": {},
   "outputs": [],
   "source": [
    "# 실무에서는 특정한 패턴이 존재하는지만 사용하는 것으로 많이 사용합니다.\n",
    "# 찾아서 무언가를 하는 것은 findall이나 sub 이런 메서드를 많이 사용합니다."
   ]
  },
  {
   "cell_type": "code",
   "execution_count": 21,
   "metadata": {},
   "outputs": [
    {
     "data": {
      "text/plain": [
       "<re.Match object; span=(0, 5), match='hello'>"
      ]
     },
     "execution_count": 21,
     "metadata": {},
     "output_type": "execute_result"
    }
   ],
   "source": [
    "import re\n",
    "\n",
    "p = re.compile('h[eao]llo')\n",
    "p.match('hello hallo hollo hillo hallo')"
   ]
  },
  {
   "cell_type": "code",
   "execution_count": 22,
   "metadata": {},
   "outputs": [
    {
     "data": {
      "text/plain": [
       "'hello'"
      ]
     },
     "execution_count": 22,
     "metadata": {},
     "output_type": "execute_result"
    }
   ],
   "source": [
    "result = p.match('hello hallo hollo hillo hallo')\n",
    "result.group(0)\n",
    "# result.group(1)"
   ]
  },
  {
   "cell_type": "code",
   "execution_count": 3,
   "metadata": {},
   "outputs": [
    {
     "data": {
      "text/plain": [
       "'hollo'"
      ]
     },
     "execution_count": 3,
     "metadata": {},
     "output_type": "execute_result"
    }
   ],
   "source": [
    "import re\n",
    "\n",
    "p = re.compile('(\\w+) (\\w+) (\\w+)')\n",
    "result = p.match('hello hallo hollo hillo hallo')\n",
    "result.group(0) # 전체 그룹\n",
    "result.group(1) # 그룹1\n",
    "result.group(2) # 그룹2\n",
    "result.group(3) # 그룹3"
   ]
  },
  {
   "cell_type": "code",
   "execution_count": 28,
   "metadata": {},
   "outputs": [
    {
     "data": {
      "text/plain": [
       "('hello', 'hallo')"
      ]
     },
     "execution_count": 28,
     "metadata": {},
     "output_type": "execute_result"
    }
   ],
   "source": [
    "import re\n",
    "\n",
    "p = re.compile('(\\w+) (\\w+) (\\w+)')\n",
    "result = p.match('hello hallo hollo hillo hallo')\n",
    "result.group(1, 2) # 그룹1, 그룹2"
   ]
  },
  {
   "cell_type": "code",
   "execution_count": 13,
   "metadata": {},
   "outputs": [
    {
     "data": {
      "text/plain": [
       "<re.Match object; span=(0, 5), match='hello'>"
      ]
     },
     "execution_count": 13,
     "metadata": {},
     "output_type": "execute_result"
    }
   ],
   "source": [
    "import re\n",
    "\n",
    "p = re.compile('h[eao]llo')\n",
    "p.match('hello hallo hollo hillo hallo')\n",
    "# None 값이 출력된 것입니다.\n",
    "# 문자열 앞쪽이 매칭이 안 된 것입니다."
   ]
  },
  {
   "cell_type": "code",
   "execution_count": 30,
   "metadata": {},
   "outputs": [
    {
     "data": {
      "text/plain": [
       "('Malcolm', 'Reynolds')"
      ]
     },
     "execution_count": 30,
     "metadata": {},
     "output_type": "execute_result"
    }
   ],
   "source": [
    "# 아래 문법은 match 말고도 다른 문법에서도 사용이 가능합니다.\n",
    "m = re.match(r\"(?P<first_name>\\w+) (?P<last_name>\\w+)\", \"Malcolm Reynolds\")\n",
    "m.group('first_name'), m.group('last_name')"
   ]
  },
  {
   "cell_type": "code",
   "execution_count": 31,
   "metadata": {},
   "outputs": [
    {
     "data": {
      "text/plain": [
       "'Malcolm Reynolds'"
      ]
     },
     "execution_count": 31,
     "metadata": {},
     "output_type": "execute_result"
    }
   ],
   "source": [
    "m[0]"
   ]
  },
  {
   "cell_type": "code",
   "execution_count": 15,
   "metadata": {},
   "outputs": [
    {
     "data": {
      "text/plain": [
       "('Malcolm', 'Reynolds')"
      ]
     },
     "execution_count": 15,
     "metadata": {},
     "output_type": "execute_result"
    }
   ],
   "source": [
    "m[1], m[2]"
   ]
  },
  {
   "cell_type": "code",
   "execution_count": 16,
   "metadata": {},
   "outputs": [
    {
     "data": {
      "text/plain": [
       "('1000', '2000')"
      ]
     },
     "execution_count": 16,
     "metadata": {},
     "output_type": "execute_result"
    }
   ],
   "source": [
    "m = re.match(r\"010-(?P<앞자리>[0-9]{4})-(?P<뒷자리>[0-9]{4})\", \"010-1000-2000\")\n",
    "m.group('앞자리'), m.group('뒷자리')"
   ]
  },
  {
   "cell_type": "code",
   "execution_count": 32,
   "metadata": {},
   "outputs": [
    {
     "data": {
      "text/plain": [
       "\"<Match: 'akt5q', groups=()>\""
      ]
     },
     "execution_count": 32,
     "metadata": {},
     "output_type": "execute_result"
    }
   ],
   "source": [
    "# 실제로 실무에서 match 사용되는 패턴 (공식문서)\n",
    "valid = re.compile(r\"^[a2-9tjqk]{5}$\")\n",
    "\n",
    "def displaymatch(match):\n",
    "    if match is None:\n",
    "        return None\n",
    "    return '<Match: %r, groups=%r>' % (match.group(), match.groups())\n",
    "\n",
    "displaymatch(valid.match(\"akt5q\"))"
   ]
  },
  {
   "cell_type": "code",
   "execution_count": 33,
   "metadata": {},
   "outputs": [
    {
     "data": {
      "text/plain": [
       "'해당 패턴에 매칭됩니다!'"
      ]
     },
     "execution_count": 33,
     "metadata": {},
     "output_type": "execute_result"
    }
   ],
   "source": [
    "# 실제로 실무에서 match 사용되는 패턴 (공식문서)\n",
    "valid = re.compile(r\"^[a2-9tjqk]{5}$\")\n",
    "\n",
    "def displaymatch(match):\n",
    "    if match is None:\n",
    "        return None\n",
    "    return '해당 패턴에 매칭됩니다!'\n",
    "\n",
    "displaymatch(valid.match(\"akt5q\"))"
   ]
  },
  {
   "attachments": {},
   "cell_type": "markdown",
   "metadata": {},
   "source": [
    "## sub"
   ]
  },
  {
   "attachments": {},
   "cell_type": "markdown",
   "metadata": {},
   "source": [
    "* str의 replace 메서드와 같은 기능\n",
    "* 정규표현식을 사용할 수 있는 코드"
   ]
  },
  {
   "cell_type": "code",
   "execution_count": null,
   "metadata": {},
   "outputs": [],
   "source": [
    "# 문제링크 : https://school.programmers.co.kr/learn/courses/30/lessons/120849"
   ]
  },
  {
   "cell_type": "code",
   "execution_count": 34,
   "metadata": {},
   "outputs": [],
   "source": [
    "def solution(my_string):\n",
    "    return my_string.replace('a', '').replace('e', '').replace('i', '').replace('o', '').replace('u', '')"
   ]
  },
  {
   "cell_type": "code",
   "execution_count": 35,
   "metadata": {},
   "outputs": [],
   "source": [
    "def solution(my_string):\n",
    "    string = 'aeiou'\n",
    "    for i in string:\n",
    "        my_string = my_string.replace(i, '')\n",
    "    return my_string"
   ]
  },
  {
   "cell_type": "code",
   "execution_count": 14,
   "metadata": {},
   "outputs": [],
   "source": [
    "import re\n",
    "\n",
    "def solution(my_string):\n",
    "    return re.sub(r\"[aeiou]\", \"\", my_string)\n",
    "\n",
    "solution = lambda my_string: re.sub(r\"[aeiou]\", \"\", my_string)"
   ]
  },
  {
   "cell_type": "code",
   "execution_count": 37,
   "metadata": {},
   "outputs": [],
   "source": [
    "import re\n",
    "\n",
    "def solution(my_string): return re.sub(r\"[aeiou]\", \"\", my_string)"
   ]
  },
  {
   "cell_type": "code",
   "execution_count": null,
   "metadata": {},
   "outputs": [],
   "source": [
    "# 문제 링크 : https://school.programmers.co.kr/learn/courses/30/lessons/120826"
   ]
  },
  {
   "cell_type": "code",
   "execution_count": null,
   "metadata": {},
   "outputs": [],
   "source": [
    "def solution(my_string, letter):\n",
    "    for i in letter:\n",
    "        my_string = my_string.replace(i, '')\n",
    "    return my_string"
   ]
  },
  {
   "cell_type": "code",
   "execution_count": null,
   "metadata": {},
   "outputs": [],
   "source": [
    "import re\n",
    "\n",
    "def solution(my_string, letter):\n",
    "    return re.sub(letter, \"\", my_string)"
   ]
  },
  {
   "cell_type": "code",
   "execution_count": null,
   "metadata": {},
   "outputs": [],
   "source": [
    "# 문제 링크 : https://school.programmers.co.kr/learn/courses/30/lessons/120851"
   ]
  },
  {
   "cell_type": "code",
   "execution_count": null,
   "metadata": {},
   "outputs": [],
   "source": [
    "def solution(my_string):\n",
    "    s = 0\n",
    "    for i in my_string:\n",
    "        if i.isdigit():\n",
    "            s += int(i)\n",
    "    return s"
   ]
  },
  {
   "cell_type": "code",
   "execution_count": null,
   "metadata": {},
   "outputs": [],
   "source": [
    "def solution(my_string):\n",
    "    return sum([int(i) for i in my_string if i.isdigit()])"
   ]
  },
  {
   "cell_type": "code",
   "execution_count": null,
   "metadata": {},
   "outputs": [],
   "source": [
    "def solution(my_string):\n",
    "    return sum(map(int, filter(lambda x:x.isdigit(), my_string)))"
   ]
  },
  {
   "cell_type": "code",
   "execution_count": null,
   "metadata": {},
   "outputs": [],
   "source": [
    "import re\n",
    "\n",
    "my_string = \"aAb1B2cC34oOp\"\n",
    "re.sub('[a-zA-Z]', '', my_string)"
   ]
  },
  {
   "cell_type": "code",
   "execution_count": null,
   "metadata": {},
   "outputs": [],
   "source": [
    "import re\n",
    "\n",
    "my_string = \"aAb1B2cC34oOp\"\n",
    "re.sub('[a-zA-Z]', '', my_string)"
   ]
  },
  {
   "cell_type": "code",
   "execution_count": null,
   "metadata": {},
   "outputs": [],
   "source": [
    "import re\n",
    "\n",
    "def solution(my_string):\n",
    "    return sum([int(i) for i in re.sub('[^1-9]', '', my_string)])\n",
    "\n",
    "solution(\"aAb1B2cC34oOp\")"
   ]
  },
  {
   "cell_type": "code",
   "execution_count": null,
   "metadata": {},
   "outputs": [],
   "source": [
    "import re\n",
    "\n",
    "def solution(my_string):\n",
    "    return sum(int(i) for i in re.sub('[^1-9]', '', my_string))"
   ]
  },
  {
   "attachments": {},
   "cell_type": "markdown",
   "metadata": {},
   "source": [
    "### sub의 실무 응용 (중고급 강좌)"
   ]
  },
  {
   "cell_type": "code",
   "execution_count": 6,
   "metadata": {},
   "outputs": [
    {
     "data": {
      "text/plain": [
       "'010__5000__3000'"
      ]
     },
     "execution_count": 6,
     "metadata": {},
     "output_type": "execute_result"
    }
   ],
   "source": [
    "import re\n",
    "\n",
    "re.sub(r'([0-9]{3})-([0-9]{4})-([0-9]{4})', \n",
    "        r'\\1__\\2__\\3', \n",
    "        '010-5000-3000')"
   ]
  },
  {
   "cell_type": "code",
   "execution_count": 7,
   "metadata": {},
   "outputs": [
    {
     "data": {
      "text/plain": [
       "'010!!5000!!3000'"
      ]
     },
     "execution_count": 7,
     "metadata": {},
     "output_type": "execute_result"
    }
   ],
   "source": [
    "import re\n",
    "\n",
    "re.sub(r'([0-9]{3})-([0-9]{4})-([0-9]{4})', \n",
    "        r'\\1!!\\2!!\\3', \n",
    "        '010-5000-3000')"
   ]
  },
  {
   "cell_type": "code",
   "execution_count": 8,
   "metadata": {},
   "outputs": [
    {
     "data": {
      "text/plain": [
       "'010---5000---3000'"
      ]
     },
     "execution_count": 8,
     "metadata": {},
     "output_type": "execute_result"
    }
   ],
   "source": [
    "import re\n",
    "\n",
    "re.sub(r'([0-9]{3})-([0-9]{4})-([0-9]{4})', \n",
    "        r'\\1---\\2---\\3', \n",
    "        '010-5000-3000')"
   ]
  },
  {
   "cell_type": "code",
   "execution_count": 12,
   "metadata": {},
   "outputs": [
    {
     "data": {
      "text/plain": [
       "'2023/05/16'"
      ]
     },
     "execution_count": 12,
     "metadata": {},
     "output_type": "execute_result"
    }
   ],
   "source": [
    "# 문제\n",
    "# 입력 : '2023/05/16'\n",
    "# 출력 : '05/16/2023' # 미국식 날짜 표기 방법 (월 / 일 / 년)\n",
    "# 출력 : '16/05/2023' # 미국식 날짜 표기 방법 (일 / 월 / 년)"
   ]
  },
  {
   "cell_type": "code",
   "execution_count": 19,
   "metadata": {},
   "outputs": [
    {
     "data": {
      "text/plain": [
       "'2023/2023/2023/2023/2023/2023/2023'"
      ]
     },
     "execution_count": 19,
     "metadata": {},
     "output_type": "execute_result"
    }
   ],
   "source": [
    "import re\n",
    "\n",
    "re.sub(r'([0-9]{4})/([0-9]{2})/([0-9]{2})',\n",
    "       r'\\1/\\1/\\1/\\1/\\1/\\1/\\1',\n",
    "       '2023/05/16')"
   ]
  },
  {
   "cell_type": "code",
   "execution_count": 20,
   "metadata": {},
   "outputs": [
    {
     "data": {
      "text/plain": [
       "'05/16/2023'"
      ]
     },
     "execution_count": 20,
     "metadata": {},
     "output_type": "execute_result"
    }
   ],
   "source": [
    "# 문제\n",
    "# 입력 : '2023/05/16'\n",
    "# 출력1 : '05/16/2023' # 미국식 날짜 표기 방법(월 / 일 / 년)\n",
    "# 출력2 : '16/05/2023' # 영국식 날짜 표기 방법(일 / 월 / 년)\n",
    "\n",
    "# 미국식\n",
    "import re\n",
    "\n",
    "re.sub(r'([0-9]{4})/([0-9]{2})/([0-9]{2})',\n",
    "       r'\\2/\\3/\\1',\n",
    "       '2023/05/16')"
   ]
  },
  {
   "cell_type": "code",
   "execution_count": null,
   "metadata": {},
   "outputs": [],
   "source": [
    "# 영국식\n",
    "import re\n",
    "\n",
    "re.sub(r'([0-9]{4})/([0-9]{2})/([0-9]{2})',\n",
    "       r'\\3/\\2/\\1',\n",
    "       '2023/05/16')"
   ]
  },
  {
   "cell_type": "code",
   "execution_count": 21,
   "metadata": {},
   "outputs": [
    {
     "data": {
      "text/plain": [
       "'16/05/2023'"
      ]
     },
     "execution_count": 21,
     "metadata": {},
     "output_type": "execute_result"
    }
   ],
   "source": [
    "# 변수로 사용하는 것 test1\n",
    "import re\n",
    "\n",
    "re.sub(r'(?P<year>[0-9]{4})/(?P<month>[0-9]{2})/(?P<day>[0-9]{2})',\n",
    "       r'\\3/\\2/\\1',\n",
    "       '2023/05/16')"
   ]
  },
  {
   "cell_type": "code",
   "execution_count": 22,
   "metadata": {},
   "outputs": [
    {
     "data": {
      "text/plain": [
       "'\\\\<year>/\\\\<month>/\\\\<day>'"
      ]
     },
     "execution_count": 22,
     "metadata": {},
     "output_type": "execute_result"
    }
   ],
   "source": [
    "# 변수로 사용하는 것 test2\n",
    "# 작동하지 않습니다.\n",
    "import re\n",
    "\n",
    "re.sub(r'(?P<year>[0-9]{4})/(?P<month>[0-9]{2})/(?P<day>[0-9]{2})',\n",
    "       r'\\<year>/\\<month>/\\<day>',\n",
    "       '2023/05/16')"
   ]
  },
  {
   "cell_type": "code",
   "execution_count": 23,
   "metadata": {},
   "outputs": [
    {
     "data": {
      "text/plain": [
       "'2023/05/16'"
      ]
     },
     "execution_count": 23,
     "metadata": {},
     "output_type": "execute_result"
    }
   ],
   "source": [
    "# 변수로 사용하는 것 test3\n",
    "import re\n",
    "\n",
    "re.sub(r'(?P<year>[0-9]{4})/(?P<month>[0-9]{2})/(?P<day>[0-9]{2})',\n",
    "       r'\\g<year>/\\g<month>/\\g<day>',\n",
    "       '2023/05/16')"
   ]
  },
  {
   "cell_type": "code",
   "execution_count": 25,
   "metadata": {},
   "outputs": [
    {
     "data": {
      "text/plain": [
       "'<h1>hello world</h1>'"
      ]
     },
     "execution_count": 25,
     "metadata": {},
     "output_type": "execute_result"
    }
   ],
   "source": [
    "# md -> html 파일로\n",
    "# '# hello world' => '<h1>hello world</h1>'\n",
    "import re\n",
    "\n",
    "re.sub(r'# (.*)',\n",
    "       r'<h1>\\1</h1>',\n",
    "       '# hello world')"
   ]
  },
  {
   "cell_type": "code",
   "execution_count": null,
   "metadata": {},
   "outputs": [],
   "source": [
    "# md -> html 파일로\n",
    "# '# hello world' => '<h1>hello world</h1>'\n",
    "import re\n",
    "\n",
    "text='''# hello1\n",
    "hello world\n",
    "# hello2\n",
    "hello world\n",
    "# hello3\n",
    "hello world\n",
    "'''\n",
    "\n",
    "re.sub(r'# (.*)',\n",
    "       r'<h1>\\1</h1>',\n",
    "       text)"
   ]
  },
  {
   "cell_type": "code",
   "execution_count": 26,
   "metadata": {},
   "outputs": [
    {
     "data": {
      "text/plain": [
       "'<h1>hello1</h1>\\n#<h1>hello1.1</h1>\\nhello world\\n<h1>hello2</h1>\\n#<h1>hello2.1</h1>\\nhello world\\n<h1>hello3</h1>\\n#<h1>hello3.1</h1>\\nhello world\\n'"
      ]
     },
     "execution_count": 26,
     "metadata": {},
     "output_type": "execute_result"
    }
   ],
   "source": [
    "# md -> html 파일로\n",
    "# '# hello world' => '<h1>hello world</h1>'\n",
    "import re\n",
    "\n",
    "text='''# hello1\n",
    "## hello1.1\n",
    "hello world\n",
    "# hello2\n",
    "## hello2.1\n",
    "hello world\n",
    "# hello3\n",
    "## hello3.1\n",
    "hello world\n",
    "'''\n",
    "\n",
    "text = re.sub(r'# (.*)', r'<h1>\\1</h1>', text)\n",
    "text"
   ]
  },
  {
   "cell_type": "code",
   "execution_count": null,
   "metadata": {},
   "outputs": [],
   "source": [
    "import re\n",
    "\n",
    "text='''# hello1\n",
    "## hello1.1\n",
    "hello world\n",
    "# hello2\n",
    "## hello2.1\n",
    "hello world\n",
    "# hello3\n",
    "## hello3.1\n",
    "hello world\n",
    "'''\n",
    "\n",
    "text = re.sub(r'## (.*)', r'<h2>\\1</h2>', text)\n",
    "text = re.sub(r'# (.*)', r'<h1>\\1</h1>', text)\n",
    "print(text)"
   ]
  },
  {
   "cell_type": "code",
   "execution_count": 27,
   "metadata": {},
   "outputs": [
    {
     "name": "stdout",
     "output_type": "stream",
     "text": [
      "<h1>hello1</h1>\n",
      "<h2>hello1.1</h2>\n",
      "hello world\n",
      "<h1>hello2</h1>\n",
      "<h2>hello2.1</h2>\n",
      "hello world\n",
      "<h1>hello3</h1>\n",
      "<h2>hello3.1</h2>\n",
      "hello world\n",
      "\n"
     ]
    }
   ],
   "source": [
    "import re\n",
    "\n",
    "text = '''# hello1\n",
    "## hello1.1\n",
    "hello world\n",
    "# hello2\n",
    "## hello2.1\n",
    "hello world\n",
    "# hello3\n",
    "## hello3.1\n",
    "hello world\n",
    "'''\n",
    "\n",
    "# p = re.compile('^# (.*)', re.MULTILINE)\n",
    "# text = p.sub(r'<h1>\\1</h1>', text)\n",
    "text = re.sub(r'^# (.*)', r'<h1>\\1</h1>', text, flags=re.M)\n",
    "text = re.sub(r'^## (.*)', r'<h2>\\1</h2>', text, flags=re.M)\n",
    "print(text)"
   ]
  },
  {
   "cell_type": "code",
   "execution_count": 28,
   "metadata": {},
   "outputs": [
    {
     "name": "stdout",
     "output_type": "stream",
     "text": [
      "<h1>This is a h1</h1>\n",
      "<h2>This is a h2</h2>\n",
      "<h3>This is a h3</h3>\n",
      "#<h3>This is a h4</h3>\n",
      "##<h3>This is a h5</h3>\n",
      "###<h3>This is a h6</h3>\n",
      "\n",
      "* This is a bulleted list\n",
      "  * This is a nested bulleted list\n",
      "\n",
      "<strong>This is bold text</strong>\n",
      "\n",
      "<em>This is italic text</em>\n",
      "\n",
      "<del>This text is strikethrough</del>\n",
      "\n"
     ]
    }
   ],
   "source": [
    "import re\n",
    "\n",
    "text = '''# This is a h1\n",
    "## This is a h2\n",
    "### This is a h3\n",
    "#### This is a h4\n",
    "##### This is a h5\n",
    "###### This is a h6\n",
    "\n",
    "* This is a bulleted list\n",
    "  * This is a nested bulleted list\n",
    "\n",
    "**This is bold text**\n",
    "\n",
    "_This is italic text_\n",
    "\n",
    "~~This text is strikethrough~~\n",
    "'''\n",
    "\n",
    "def markdown_to_html(markdown):\n",
    "    html = re.sub(r'### (.*)', r'<h3>\\1</h3>', markdown)\n",
    "    html = re.sub(r'## (.*)', r'<h2>\\1</h2>', html)\n",
    "    html = re.sub(r'# (.*)', r'<h1>\\1</h1>', html)\n",
    "    html = re.sub(r'`(.*)`', r'<pre><code>\\1</code></pre>', html)\n",
    "    html = re.sub(r'\\*\\*(.*)\\*\\*', r'<strong>\\1</strong>', html)\n",
    "    html = re.sub(r'_(.*)_', r'<em>\\1</em>', html)\n",
    "    html = re.sub(r'~~(.*)~~', r'<del>\\1</del>', html)\n",
    "    html = re.sub(r'^(>+) (.*)', r'<blockquote>\\1\\2</blockquote>', html)\n",
    "    # html = re.sub(r'^\\* (.*)', r'<ul><li>\\1</li></ul>', html, flags=re.M+re.S)\n",
    "    return html\n",
    "\n",
    "print(markdown_to_html(text))"
   ]
  },
  {
   "attachments": {},
   "cell_type": "markdown",
   "metadata": {},
   "source": [
    "## 연습문제"
   ]
  },
  {
   "cell_type": "code",
   "execution_count": null,
   "metadata": {},
   "outputs": [],
   "source": [
    "# 다음 숫자를 모두 포함하는 정규표현식을 만들어주세요.\n",
    "\n",
    "# 010-9091-5491\n",
    "# 010-5043-2901\n",
    "# 010-5050-40409\n",
    "# 010 2913 3132\n",
    "# 01019133829\n",
    "# 064-721-3213\n",
    "# 010.1913.3829"
   ]
  },
  {
   "cell_type": "code",
   "execution_count": null,
   "metadata": {},
   "outputs": [],
   "source": [
    "# 문제 답안\n",
    "import re\n",
    "\n",
    "text = '''010-9091-5491\n",
    "010-5043-2901\n",
    "010-5050-40409\n",
    "010 2913 3132\n",
    "01019133829\n",
    "064-721-3213\n",
    "010.1913.3829'''\n",
    "\n",
    "# 대괄호 안에서는 메타문자 역할을 하는 것은 \\, ^, -, ] 4개!\n",
    "p = re.compile(r'\\d{3}[\\.\\- ]?\\d+[\\.\\- ]?\\d+')\n",
    "p.findall(text)"
   ]
  },
  {
   "cell_type": "code",
   "execution_count": null,
   "metadata": {},
   "outputs": [],
   "source": [
    "l = re.compile(r'([0-9]{3}.?[0-9]{3,4}.?[0-9]{4,5})')\n",
    "# .? 이 부분에서 모든종류의 문자가 0,1개 라고 읽을 수 있을까요?\n",
    "# 아니면 이런 형식에서 발생할 수 있는 문제가 있을까요?\n",
    "\n",
    "# 문제 내에서는 없습니다. 왜냐하면 지금 휴대폰 뒷자리가 5자리인 것도 허용되게 되어 있거든요. \n",
    "# 만약 실제로 사용하는 코드였다면 자릿수 문제가 생깁니다. \n",
    "# 앞에 3자리 + 1자리 + 4자리 + 1자리 + 5자리로 최대 숫자가 14자리가 올 수 있게 됩니다. \n",
    "# '.'에 숫자가 오는 케이스를 말씀드린 것입니다."
   ]
  },
  {
   "cell_type": "code",
   "execution_count": 15,
   "metadata": {},
   "outputs": [
    {
     "data": {
      "text/plain": [
       "['010-9091-5491', '010  5043  2901']"
      ]
     },
     "execution_count": 15,
     "metadata": {},
     "output_type": "execute_result"
    }
   ],
   "source": [
    "text = '''010-9091-5491\n",
    "010  5043  2901\n",
    "'''\n",
    "l = re.compile(r'(0[0-9]{2}.*[0-9]{3,4}.*[0-9]{4,5})')\n",
    "l.findall(text)"
   ]
  },
  {
   "cell_type": "code",
   "execution_count": 16,
   "metadata": {},
   "outputs": [
    {
     "data": {
      "text/plain": [
       "['010-9091-5491', '010  5043  2901']"
      ]
     },
     "execution_count": 16,
     "metadata": {},
     "output_type": "execute_result"
    }
   ],
   "source": [
    "text = '''010-9091-5491\n",
    "010  5043  2901\n",
    "'''\n",
    "l = re.compile(r'(0[0-9]{2}[^0-9]*[0-9]{3,4}[^0-9]*[0-9]{4,5})')\n",
    "l.findall(text)"
   ]
  },
  {
   "cell_type": "code",
   "execution_count": null,
   "metadata": {},
   "outputs": [],
   "source": [
    "# 지섭님에 날카로운 질문!\n",
    "# 대괄호는 이스케이프 처리를 안해줘도 되고 소괄호 이스케이프 처리 해주어야 하는데 이유가 있는지?\n",
    "# 대괄호\n",
    "a = re.compile(r'\\[.*\\]')\n",
    "b = re.compile(r'\\[.*]')\n",
    "c = re.compile(r']')\n",
    "\n",
    "print(a.findall(r'[hello]'))\n",
    "print(b.findall(r'[hello]'))\n",
    "print(c.findall(r']'))\n",
    "\n",
    "# 소괄호\n",
    "d = re.compile(r'\\(.*\\)')\n",
    "# e = re.compile(r'\\(.*)') # error\n",
    "# f = re.compile(r')') # error\n",
    "\n",
    "print(d.findall(r'(hello)'))\n",
    "# print(e.findall(r'(hello)')) # error\n",
    "# print(f.findall(r')')) # error"
   ]
  },
  {
   "cell_type": "code",
   "execution_count": null,
   "metadata": {},
   "outputs": [],
   "source": [
    "# 오답\n",
    "import re\n",
    "\n",
    "text = '''010-9091-5491\n",
    "010-5043-2901\n",
    "010-5050-40409\n",
    "010 2913 3132\n",
    "01019133829\n",
    "064-721-3213\n",
    "010.1913.3829'''\n",
    "\n",
    "p = re.compile(r'.')\n",
    "p.findall(text)"
   ]
  },
  {
   "cell_type": "code",
   "execution_count": 17,
   "metadata": {},
   "outputs": [
    {
     "data": {
      "text/plain": [
       "['[hello] [hello] [hello] [hello] [hello] [hello]']"
      ]
     },
     "execution_count": 17,
     "metadata": {},
     "output_type": "execute_result"
    }
   ],
   "source": [
    "# 왜 괄호 처리 못해주나요?\n",
    "# 대괄호\n",
    "p = re.compile(r'\\[.*\\]')\n",
    "p.findall(r'[hello] [hello] [hello] [hello] [hello] [hello]')"
   ]
  },
  {
   "cell_type": "code",
   "execution_count": 18,
   "metadata": {},
   "outputs": [
    {
     "data": {
      "text/plain": [
       "['[hello]', '[hello]', '[hello]', '[hello]', '[hello]', '[hello]']"
      ]
     },
     "execution_count": 18,
     "metadata": {},
     "output_type": "execute_result"
    }
   ],
   "source": [
    "p = re.compile(r'\\[hello\\]')\n",
    "p.findall(r'[hello] [hello] [hello] [hello] [hello] [hello]')"
   ]
  },
  {
   "cell_type": "code",
   "execution_count": 19,
   "metadata": {},
   "outputs": [
    {
     "data": {
      "text/plain": [
       "['[hello]', '[hello]', '[hello]', '[hello]', '[hello]', '[hello]']"
      ]
     },
     "execution_count": 19,
     "metadata": {},
     "output_type": "execute_result"
    }
   ],
   "source": [
    "p = re.compile(r'\\[\\w+\\]')\n",
    "p.findall(r'[hello] [hello] [hello] [hello] [hello] [hello]')"
   ]
  },
  {
   "cell_type": "code",
   "execution_count": null,
   "metadata": {},
   "outputs": [],
   "source": [
    "# 질문 : 자릿수 넘어가는 것은 어떻게 되나요?\n",
    "# 답 : 잘립니다.\n",
    "import re\n",
    "\n",
    "text = '''010-9091-5491\n",
    "010.1913.382900000000000000'''\n",
    "\n",
    "p = re.compile(r'\\d{3}[-. ]\\d{4}[-. ]\\d{4}')\n",
    "p.findall(text)"
   ]
  },
  {
   "attachments": {},
   "cell_type": "markdown",
   "metadata": {},
   "source": [
    "## search"
   ]
  },
  {
   "cell_type": "code",
   "execution_count": 29,
   "metadata": {},
   "outputs": [
    {
     "name": "stdout",
     "output_type": "stream",
     "text": [
      "<re.Match object; span=(1, 2), match='y'>\n"
     ]
    }
   ],
   "source": [
    "p = re.compile('[yth]')\n",
    "m = p.search('python')\n",
    "print(m)"
   ]
  },
  {
   "attachments": {},
   "cell_type": "markdown",
   "metadata": {},
   "source": [
    "## findall"
   ]
  },
  {
   "cell_type": "code",
   "execution_count": 30,
   "metadata": {},
   "outputs": [
    {
     "name": "stdout",
     "output_type": "stream",
     "text": [
      "['ython']\n"
     ]
    }
   ],
   "source": [
    "p = re.compile('[a-z]+')\n",
    "result = p.findall('Python')\n",
    "print(result)"
   ]
  },
  {
   "cell_type": "code",
   "execution_count": 31,
   "metadata": {},
   "outputs": [
    {
     "name": "stdout",
     "output_type": "stream",
     "text": [
      "['ife', 'is', 'hort', 'ou', 'eed', 'ython']\n"
     ]
    }
   ],
   "source": [
    "p = re.compile('[a-z]+')\n",
    "result = p.findall('Life is Short, You Need Python!')\n",
    "print(result)"
   ]
  },
  {
   "cell_type": "code",
   "execution_count": 32,
   "metadata": {},
   "outputs": [
    {
     "name": "stdout",
     "output_type": "stream",
     "text": [
      "['ifeis', 'hort', 'ou', 'eed', 'y', 't', 'h', 'o', 'n']\n"
     ]
    }
   ],
   "source": [
    "p = re.compile('[a-z]+')\n",
    "result = p.findall('LifeisShort,YouNeed P y t h o n !')\n",
    "print(result)"
   ]
  },
  {
   "cell_type": "code",
   "execution_count": 33,
   "metadata": {},
   "outputs": [
    {
     "name": "stdout",
     "output_type": "stream",
     "text": [
      "['010', '5000', '1000']\n"
     ]
    }
   ],
   "source": [
    "p = re.compile('[0-9]+')\n",
    "result = p.findall('010!5000-1000')\n",
    "print(result)"
   ]
  },
  {
   "cell_type": "code",
   "execution_count": 34,
   "metadata": {},
   "outputs": [
    {
     "data": {
      "text/plain": [
       "['010', '5000', '1000']"
      ]
     },
     "execution_count": 34,
     "metadata": {},
     "output_type": "execute_result"
    }
   ],
   "source": [
    "'010-5000-1000'.split('-')"
   ]
  },
  {
   "cell_type": "code",
   "execution_count": null,
   "metadata": {},
   "outputs": [],
   "source": [
    "# 문제 링크 : https://school.programmers.co.kr/learn/courses/30/lessons/17682"
   ]
  },
  {
   "cell_type": "code",
   "execution_count": 37,
   "metadata": {},
   "outputs": [
    {
     "data": {
      "text/plain": [
       "[('1', 'S', ''), ('2', 'D', '*'), ('3', 'T', '')]"
      ]
     },
     "execution_count": 37,
     "metadata": {},
     "output_type": "execute_result"
    }
   ],
   "source": [
    "# 1\n",
    "p = re.compile(r'([0-9]|10)([SDT])([\\*\\#]?)')\n",
    "p.findall('1S2D*3T')\n",
    "\n",
    "# 2\n",
    "# re.findall(r'([0-9]|10)([SDT])([\\*\\#]?)', '1S2D*3T')"
   ]
  },
  {
   "cell_type": "code",
   "execution_count": null,
   "metadata": {},
   "outputs": [],
   "source": [
    "# 문제 링크 : https://school.programmers.co.kr/learn/courses/30/lessons/120891"
   ]
  },
  {
   "cell_type": "code",
   "execution_count": 38,
   "metadata": {},
   "outputs": [
    {
     "name": "stdout",
     "output_type": "stream",
     "text": [
      "['9', '3']\n"
     ]
    }
   ],
   "source": [
    "p = re.compile('[369]')\n",
    "result = p.findall('29423')\n",
    "print(result)"
   ]
  },
  {
   "cell_type": "code",
   "execution_count": 39,
   "metadata": {},
   "outputs": [],
   "source": [
    "def solution(order):\n",
    "    count = 0\n",
    "    for i in str(order):\n",
    "        if i == '3' or i == '6' or i == '9':\n",
    "            count += 1\n",
    "    return count"
   ]
  },
  {
   "cell_type": "code",
   "execution_count": null,
   "metadata": {},
   "outputs": [],
   "source": [
    "def solution(order):\n",
    "    count = 0\n",
    "    for i in str(order):\n",
    "        if i == '3':\n",
    "            count += 1\n",
    "        elif i == '6':\n",
    "            count += 1\n",
    "        elif i == '9':\n",
    "            count += 1\n",
    "    return count"
   ]
  },
  {
   "cell_type": "code",
   "execution_count": null,
   "metadata": {},
   "outputs": [],
   "source": [
    "import re\n",
    "\n",
    "def solution(order):\n",
    "    p = re.compile('[369]')\n",
    "    return len(p.findall(str(order)))"
   ]
  },
  {
   "cell_type": "code",
   "execution_count": null,
   "metadata": {},
   "outputs": [],
   "source": [
    "# 문제 링크 : https://school.programmers.co.kr/learn/courses/30/lessons/120913"
   ]
  },
  {
   "cell_type": "code",
   "execution_count": null,
   "metadata": {},
   "outputs": [],
   "source": [
    "s = \"abc1Addfggg4556b\"\n",
    "len(s)\n",
    "s[15:18] # str에 slicing 경우 out of range error가 발생 하지 않습니다."
   ]
  },
  {
   "cell_type": "code",
   "execution_count": 40,
   "metadata": {},
   "outputs": [
    {
     "data": {
      "text/plain": [
       "''"
      ]
     },
     "execution_count": 40,
     "metadata": {},
     "output_type": "execute_result"
    }
   ],
   "source": [
    "s = \"abc1Addfggg4556b\"\n",
    "len(s)\n",
    "s[19:25] # str에 slicing 경우 out of range error가 발생 하지 않습니다."
   ]
  },
  {
   "cell_type": "code",
   "execution_count": 41,
   "metadata": {},
   "outputs": [
    {
     "data": {
      "text/plain": [
       "[]"
      ]
     },
     "execution_count": 41,
     "metadata": {},
     "output_type": "execute_result"
    }
   ],
   "source": [
    "l = [10, 20, 30]\n",
    "l[10:15] # slicing 경우 out of range error가 발생 하지 않습니다."
   ]
  },
  {
   "cell_type": "code",
   "execution_count": 42,
   "metadata": {},
   "outputs": [
    {
     "name": "stdout",
     "output_type": "stream",
     "text": [
      "abc\n",
      "1Ad\n",
      "dfg\n",
      "gg4\n",
      "556\n",
      "b\n"
     ]
    }
   ],
   "source": [
    "n = 3\n",
    "s = \"abc1Addfggg4556b\"\n",
    "\n",
    "for i in range(0, len(s), n):\n",
    "    print(s[i:i+n])"
   ]
  },
  {
   "cell_type": "code",
   "execution_count": 44,
   "metadata": {},
   "outputs": [],
   "source": [
    "def solution(my_str, n):\n",
    "    result = []\n",
    "    for i in range(0, len(my_str), n):\n",
    "        result.append(my_str[i:i+n])\n",
    "    return result"
   ]
  },
  {
   "cell_type": "code",
   "execution_count": 45,
   "metadata": {},
   "outputs": [],
   "source": [
    "def solution(my_str, n):\n",
    "    return [my_str[i:i+n] for i in range(0, len(my_str), n)]"
   ]
  },
  {
   "cell_type": "code",
   "execution_count": 46,
   "metadata": {},
   "outputs": [
    {
     "data": {
      "text/plain": [
       "['abc1', 'Addf', 'ggg4', '556b']"
      ]
     },
     "execution_count": 46,
     "metadata": {},
     "output_type": "execute_result"
    }
   ],
   "source": [
    "import re\n",
    "\n",
    "re.findall('.{4}', \"abc1Addfggg4556b\")"
   ]
  },
  {
   "cell_type": "code",
   "execution_count": 47,
   "metadata": {},
   "outputs": [
    {
     "data": {
      "text/plain": [
       "['abc1', 'Addf', 'ggg4', '556b']"
      ]
     },
     "execution_count": 47,
     "metadata": {},
     "output_type": "execute_result"
    }
   ],
   "source": [
    "import re\n",
    "\n",
    "re.findall('.{4}', \"abc1Addfggg4556bte\")"
   ]
  },
  {
   "cell_type": "code",
   "execution_count": 48,
   "metadata": {},
   "outputs": [
    {
     "data": {
      "text/plain": [
       "['abc1', 'Addf', 'ggg4', '556b', 'te']"
      ]
     },
     "execution_count": 48,
     "metadata": {},
     "output_type": "execute_result"
    }
   ],
   "source": [
    "import re\n",
    "\n",
    "re.findall('.{1,4}', \"abc1Addfggg4556bte\")"
   ]
  },
  {
   "cell_type": "code",
   "execution_count": 50,
   "metadata": {},
   "outputs": [],
   "source": [
    "# why? 왜 실패가 나왔는가?\n",
    "import re\n",
    "\n",
    "def solution(my_str, n):\n",
    "    return re.findall(f'.{1,n}', my_str)"
   ]
  },
  {
   "cell_type": "code",
   "execution_count": 52,
   "metadata": {},
   "outputs": [],
   "source": [
    "# step1\n",
    "import re\n",
    "\n",
    "def solution(my_str, n):\n",
    "    return re.findall(f'.{1,{n}}', my_str)"
   ]
  },
  {
   "cell_type": "code",
   "execution_count": 53,
   "metadata": {},
   "outputs": [],
   "source": [
    "# step2\n",
    "# python에서 {를 넣기 위해선 {{를 사용하여야 합니다\n",
    "import re\n",
    "\n",
    "def solution(my_str, n):\n",
    "    return re.findall(f'.{{1,{n}}}', my_str)"
   ]
  },
  {
   "cell_type": "code",
   "execution_count": null,
   "metadata": {},
   "outputs": [],
   "source": [
    "# f-string 용법에서 중괄호를 문자열 그대로 표현하기 위해\n",
    "# 이스케이프 문자를 사용하지 않습니다.\n",
    "# 중괄호 2개를 사용합니다!\n",
    "import re\n",
    "\n",
    "def solution(my_str, n):\n",
    "    return re.findall(f'.\\{1,{n}\\}', my_str)"
   ]
  },
  {
   "cell_type": "code",
   "execution_count": null,
   "metadata": {},
   "outputs": [],
   "source": [
    "# 문제 링크 : https://school.programmers.co.kr/learn/courses/30/lessons/120894"
   ]
  },
  {
   "cell_type": "code",
   "execution_count": 54,
   "metadata": {},
   "outputs": [
    {
     "data": {
      "text/plain": [
       "['one', 'two', 'three', 'four', 'five', 'six', 'seven', 'eight', 'nine']"
      ]
     },
     "execution_count": 54,
     "metadata": {},
     "output_type": "execute_result"
    }
   ],
   "source": [
    "import re\n",
    "\n",
    "re.findall('(one|two|three|four|five|six|seven|eight|nine|zero)',\n",
    "           \"onetwothreefourfivesixseveneightnine\")"
   ]
  },
  {
   "cell_type": "code",
   "execution_count": 55,
   "metadata": {},
   "outputs": [
    {
     "data": {
      "text/plain": [
       "'123456789'"
      ]
     },
     "execution_count": 55,
     "metadata": {},
     "output_type": "execute_result"
    }
   ],
   "source": [
    "d = {\n",
    "    'zero': 0,\n",
    "    'one': 1,\n",
    "    'two': 2,\n",
    "    'three': 3,\n",
    "    'four': 4,\n",
    "    'five': 5,\n",
    "    'six': 6,\n",
    "    'seven': 7,\n",
    "    'eight': 8,\n",
    "    'nine': 9\n",
    "}\n",
    "l = ['one', 'two', 'three', 'four', 'five', 'six', 'seven', 'eight', 'nine']\n",
    "\n",
    "s = ''\n",
    "for i in l:\n",
    "    s += str(d[i])\n",
    "s"
   ]
  },
  {
   "cell_type": "code",
   "execution_count": 56,
   "metadata": {},
   "outputs": [
    {
     "data": {
      "text/plain": [
       "'123456789'"
      ]
     },
     "execution_count": 56,
     "metadata": {},
     "output_type": "execute_result"
    }
   ],
   "source": [
    "d = {\n",
    "    'zero': 0,\n",
    "    'one': 1,\n",
    "    'two': 2,\n",
    "    'three': 3,\n",
    "    'four': 4,\n",
    "    'five': 5,\n",
    "    'six': 6,\n",
    "    'seven': 7,\n",
    "    'eight': 8,\n",
    "    'nine': 9\n",
    "}\n",
    "l = ['one', 'two', 'three', 'four', 'five', 'six', 'seven', 'eight', 'nine']\n",
    "''.join([str(d[i]) for i in l])"
   ]
  },
  {
   "cell_type": "code",
   "execution_count": 57,
   "metadata": {},
   "outputs": [
    {
     "data": {
      "text/plain": [
       "'123456789'"
      ]
     },
     "execution_count": 57,
     "metadata": {},
     "output_type": "execute_result"
    }
   ],
   "source": [
    "d = {\n",
    "    'zero': 0,\n",
    "    'one': 1,\n",
    "    'two': 2,\n",
    "    'three': 3,\n",
    "    'four': 4,\n",
    "    'five': 5,\n",
    "    'six': 6,\n",
    "    'seven': 7,\n",
    "    'eight': 8,\n",
    "    'nine': 9\n",
    "}\n",
    "l = ['one', 'two', 'three', 'four', 'five', 'six', 'seven', 'eight', 'nine']\n",
    "# list(map(lambda x:str(d[x]), l))\n",
    "''.join(map(lambda x:str(d[x]), l)) # join 뒤에도 이터러블 객체가 옵니다."
   ]
  },
  {
   "cell_type": "code",
   "execution_count": 58,
   "metadata": {},
   "outputs": [],
   "source": [
    "import re\n",
    "\n",
    "def solution(numbers):\n",
    "    s = ''\n",
    "    d = {\n",
    "        'one':   '1',\n",
    "        'two':   '2',\n",
    "        'three': '3',\n",
    "        'four':  '4',\n",
    "        'five':  '5',\n",
    "        'six':   '6',\n",
    "        'seven': '7',\n",
    "        'eight': '8',\n",
    "        'nine':  '9',\n",
    "        'zero':  '0',\n",
    "    }\n",
    "    for i in re.findall(r'(zero|one|two|three|four|five|six|seven|eight|nine)', numbers):\n",
    "        s += d[i]\n",
    "    return int(s)"
   ]
  },
  {
   "attachments": {},
   "cell_type": "markdown",
   "metadata": {},
   "source": [
    "## finditer\n",
    "\n",
    "* 정규식과 매치되는 모든 문자열(substring)을 반복 가능한 객체로 리턴한다.\n"
   ]
  },
  {
   "cell_type": "code",
   "execution_count": 59,
   "metadata": {},
   "outputs": [
    {
     "name": "stdout",
     "output_type": "stream",
     "text": [
      "<re.Match object; span=(0, 4), match='hell'>\n",
      "hell\n",
      "(0, 4)\n",
      "<re.Match object; span=(4, 8), match='owor'>\n",
      "owor\n",
      "(4, 8)\n",
      "<re.Match object; span=(8, 12), match='ldhe'>\n",
      "ldhe\n",
      "(8, 12)\n",
      "<re.Match object; span=(12, 16), match='llow'>\n",
      "llow\n",
      "(12, 16)\n",
      "<re.Match object; span=(16, 20), match='orld'>\n",
      "orld\n",
      "(16, 20)\n",
      "<re.Match object; span=(20, 24), match='hell'>\n",
      "hell\n",
      "(20, 24)\n",
      "<re.Match object; span=(24, 28), match='owor'>\n",
      "owor\n",
      "(24, 28)\n"
     ]
    }
   ],
   "source": [
    "p = re.compile('.{4}')\n",
    "result = p.finditer('helloworldhelloworldhelloworld')\n",
    "result\n",
    "for i in result:\n",
    "    print(i)\n",
    "    print(i.group())\n",
    "    print(i.span())"
   ]
  },
  {
   "attachments": {},
   "cell_type": "markdown",
   "metadata": {},
   "source": [
    "## spilt\n",
    "\n",
    "* 정규표현 패턴으로 문자열을 분할 (str에 split과 같은 역할)"
   ]
  },
  {
   "cell_type": "code",
   "execution_count": 60,
   "metadata": {},
   "outputs": [
    {
     "data": {
      "text/plain": [
       "['010', '5000!4000']"
      ]
     },
     "execution_count": 60,
     "metadata": {},
     "output_type": "execute_result"
    }
   ],
   "source": [
    "import re\n",
    "\n",
    "s = '010 5000!4000'\n",
    "re.split(r' ', s)"
   ]
  },
  {
   "cell_type": "code",
   "execution_count": 61,
   "metadata": {},
   "outputs": [
    {
     "data": {
      "text/plain": [
       "['010', '5000', '4000']"
      ]
     },
     "execution_count": 61,
     "metadata": {},
     "output_type": "execute_result"
    }
   ],
   "source": [
    "import re\n",
    "\n",
    "s = '010 5000!4000'\n",
    "re.split(r'[ !]', s)"
   ]
  },
  {
   "cell_type": "code",
   "execution_count": 62,
   "metadata": {},
   "outputs": [
    {
     "data": {
      "text/plain": [
       "['\\n<!DOCTYPE html',\n",
       " '\\n<html lang=\"ko\"',\n",
       " '\\n<head',\n",
       " '\\n    <title',\n",
       " 'hello title</title',\n",
       " '\\n</head',\n",
       " '\\n<body',\n",
       " '\\n    <h1',\n",
       " 'hello h1</h1',\n",
       " '\\n    <p',\n",
       " 'hello p</p',\n",
       " '\\n</body',\n",
       " '\\n</html',\n",
       " '\\n']"
      ]
     },
     "execution_count": 62,
     "metadata": {},
     "output_type": "execute_result"
    }
   ],
   "source": [
    "text = '''\n",
    "<!DOCTYPE html>\n",
    "<html lang=\"ko\">\n",
    "<head>\n",
    "    <title>hello title</title>\n",
    "</head>\n",
    "<body>\n",
    "    <h1>hello h1</h1>\n",
    "    <p>hello p</p>\n",
    "</body>\n",
    "</html>\n",
    "'''\n",
    "\n",
    "text.split('>')"
   ]
  },
  {
   "cell_type": "code",
   "execution_count": 63,
   "metadata": {},
   "outputs": [
    {
     "data": {
      "text/plain": [
       "['',\n",
       " '',\n",
       " '',\n",
       " '',\n",
       " 'hello title',\n",
       " '',\n",
       " '',\n",
       " '',\n",
       " 'hello h1',\n",
       " '',\n",
       " 'hello p',\n",
       " '',\n",
       " '',\n",
       " '']"
      ]
     },
     "execution_count": 63,
     "metadata": {},
     "output_type": "execute_result"
    }
   ],
   "source": [
    "import re\n",
    "\n",
    "text = '''\n",
    "<!DOCTYPE html>\n",
    "<html lang=\"ko\">\n",
    "<head>\n",
    "    <title>hello title</title>\n",
    "</head>\n",
    "<body>\n",
    "    <h1>hello h1</h1>\n",
    "    <p>hello p</p>\n",
    "</body>\n",
    "</html>\n",
    "'''\n",
    "\n",
    "result = re.split(r'<[^<>]*>', text) # beautifulsoup 원리 : 정규표현식으로 문자열 조각\n",
    "list(filter(lambda x:x !='\\n', map(lambda x:x.strip(), result)))"
   ]
  },
  {
   "attachments": {},
   "cell_type": "markdown",
   "metadata": {},
   "source": [
    "## 연습문제"
   ]
  },
  {
   "cell_type": "code",
   "execution_count": null,
   "metadata": {},
   "outputs": [],
   "source": [
    "# 문제 링크 : https://pyalgo.co.kr/?page=2#"
   ]
  },
  {
   "cell_type": "code",
   "execution_count": 64,
   "metadata": {},
   "outputs": [
    {
     "data": {
      "text/plain": [
       "['r1', 'e3', 'v2', 'v1', 'v9']"
      ]
     },
     "execution_count": 64,
     "metadata": {},
     "output_type": "execute_result"
    }
   ],
   "source": [
    "# 오답\n",
    "import re\n",
    "\n",
    "def solution(data):\n",
    "    p = re.compile(r'[rev][1-9]')\n",
    "    return p.findall(data)\n",
    "\n",
    "data = 'a10b9r1ce33uab8wc918v2cv11v9'\n",
    "solution(data)"
   ]
  },
  {
   "cell_type": "code",
   "execution_count": null,
   "metadata": {},
   "outputs": [],
   "source": [
    "# 오답\n",
    "import re\n",
    "\n",
    "def solution(data):\n",
    "    p = re.compile(r'[rev][1-9|10]') # 10이 아니고 1과 0입니다.\n",
    "    return p.findall(data)\n",
    "\n",
    "data = 'a10b9r10ce33uab8wc918v2cv11v9'\n",
    "solution(data)"
   ]
  },
  {
   "cell_type": "code",
   "execution_count": null,
   "metadata": {},
   "outputs": [],
   "source": [
    "# 오답\n",
    "import re\n",
    "\n",
    "def solution(data):\n",
    "    p = re.compile(r'[rev][10|1-9]') # # 10이 아니고 1과 0입니다.\n",
    "    return p.findall(data)\n",
    "\n",
    "data = 'a10b9r10ce33uab8wc918v2cv11v9'\n",
    "solution(data)"
   ]
  },
  {
   "cell_type": "code",
   "execution_count": null,
   "metadata": {},
   "outputs": [],
   "source": [
    "# 오답\n",
    "import re\n",
    "\n",
    "def solution(data):\n",
    "    p = re.compile(r'([rev])([1-9]|10)')\n",
    "    return p.findall(data)\n",
    "\n",
    "data = 'a10b9r10ce33uab8wc918v2cv11v9'\n",
    "solution(data)"
   ]
  },
  {
   "cell_type": "code",
   "execution_count": null,
   "metadata": {},
   "outputs": [],
   "source": [
    "# 정답\n",
    "import re\n",
    "\n",
    "def solution(data):\n",
    "    p = re.compile(r'([rev])(10|[1-9])')\n",
    "    return p.findall(data)\n",
    "\n",
    "data = 'a10b9r10ce33uab8wc918v2cv11v9'\n",
    "solution(data)"
   ]
  }
 ],
 "metadata": {
  "kernelspec": {
   "display_name": "Python 3",
   "language": "python",
   "name": "python3"
  },
  "language_info": {
   "codemirror_mode": {
    "name": "ipython",
    "version": 3
   },
   "file_extension": ".py",
   "mimetype": "text/x-python",
   "name": "python",
   "nbconvert_exporter": "python",
   "pygments_lexer": "ipython3",
   "version": "3.10.2"
  },
  "orig_nbformat": 4
 },
 "nbformat": 4,
 "nbformat_minor": 2
}
