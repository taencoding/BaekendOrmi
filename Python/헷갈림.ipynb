{
 "cells": [
  {
   "attachments": {},
   "cell_type": "markdown",
   "metadata": {},
   "source": [
    "# python"
   ]
  },
  {
   "cell_type": "code",
   "execution_count": null,
   "metadata": {},
   "outputs": [],
   "source": []
  },
  {
   "cell_type": "code",
   "execution_count": null,
   "metadata": {},
   "outputs": [],
   "source": [
    "# 결과값 차이는?\n",
    "s = 'paullab CEO leehojun'\n",
    "s.find('k')\n",
    "s.index('k')"
   ]
  },
  {
   "cell_type": "code",
   "execution_count": null,
   "metadata": {},
   "outputs": [],
   "source": [
    "'hello'.count('')"
   ]
  },
  {
   "cell_type": "code",
   "execution_count": null,
   "metadata": {},
   "outputs": [],
   "source": [
    "# 1번\n",
    "a = '' + ''\n",
    "a \n",
    "\n",
    "# 2번\n",
    "a = '' + ''\n",
    "bool('')"
   ]
  },
  {
   "cell_type": "code",
   "execution_count": 1,
   "metadata": {},
   "outputs": [
    {
     "data": {
      "text/plain": [
       "False"
      ]
     },
     "execution_count": 1,
     "metadata": {},
     "output_type": "execute_result"
    }
   ],
   "source": [
    "bool(None)"
   ]
  },
  {
   "cell_type": "code",
   "execution_count": 4,
   "metadata": {},
   "outputs": [
    {
     "ename": "SyntaxError",
     "evalue": "leading zeros in decimal integer literals are not permitted; use an 0o prefix for octal integers (403452940.py, line 3)",
     "output_type": "error",
     "traceback": [
      "\u001b[1;36m  Cell \u001b[1;32mIn[4], line 3\u001b[1;36m\u001b[0m\n\u001b[1;33m    print(010)\u001b[0m\n\u001b[1;37m          ^\u001b[0m\n\u001b[1;31mSyntaxError\u001b[0m\u001b[1;31m:\u001b[0m leading zeros in decimal integer literals are not permitted; use an 0o prefix for octal integers\n"
     ]
    }
   ],
   "source": [
    "int('010')\n",
    "\n",
    "print(010) "
   ]
  },
  {
   "cell_type": "code",
   "execution_count": 2,
   "metadata": {},
   "outputs": [
    {
     "data": {
      "text/plain": [
       "[10, 5044, 2903]"
      ]
     },
     "execution_count": 2,
     "metadata": {},
     "output_type": "execute_result"
    }
   ],
   "source": [
    "'010 5044 2903'.split()\n",
    "\n",
    "# '010 5044 2903'.split('') \n",
    "\n",
    "list(map(int,'010 5044 2903'.split(' ')))"
   ]
  },
  {
   "cell_type": "code",
   "execution_count": 3,
   "metadata": {},
   "outputs": [
    {
     "data": {
      "text/plain": [
       "'helloworldwolrdworldhello'"
      ]
     },
     "execution_count": 3,
     "metadata": {},
     "output_type": "execute_result"
    }
   ],
   "source": [
    "# 별 4.5개\n",
    "\n",
    "'world'.join(['hello', 'wolrd', 'hello'])"
   ]
  },
  {
   "cell_type": "code",
   "execution_count": 4,
   "metadata": {},
   "outputs": [
    {
     "data": {
      "text/plain": [
       "(False, False)"
      ]
     },
     "execution_count": 4,
     "metadata": {},
     "output_type": "execute_result"
    }
   ],
   "source": [
    "'hello'.isalpha(), 'he llo'.isalpha()\n",
    "'12a4'.isalnum(), '123 4'.isalnum()\n",
    "'안녕하세요!'.isalpha(), '안녕하세요!'.isalnum()"
   ]
  },
  {
   "cell_type": "code",
   "execution_count": null,
   "metadata": {},
   "outputs": [],
   "source": [
    "'paullab CEO leehojun'.rjust(30) #오른쪽 정렬\n",
    "'paullab CEO leehojun'.ljust(30) #왼쪽 정렬\n",
    "'paullab CEO leehojun'.center(30)#가운데 정렬"
   ]
  },
  {
   "cell_type": "code",
   "execution_count": null,
   "metadata": {},
   "outputs": [],
   "source": [
    "'hello'.zfill(20)  # 데이터의 빈 공간을 0 으로 채워줍니다."
   ]
  },
  {
   "cell_type": "code",
   "execution_count": null,
   "metadata": {},
   "outputs": [],
   "source": [
    "## 인덱싱과 슬라이싱\n",
    "test = [1, 2, 3, 4]\n",
    "test2 = test\n",
    "test2[0] = 1000\n",
    "test, test2"
   ]
  },
  {
   "cell_type": "code",
   "execution_count": null,
   "metadata": {},
   "outputs": [],
   "source": [
    "test = [1, 2, 3, 4]\n",
    "test2 = test[:] # 새로운 리스트를 만들어서 test2에게 줍니다.\n",
    "test2[0] = 1000\n",
    "test, test2"
   ]
  },
  {
   "cell_type": "code",
   "execution_count": null,
   "metadata": {},
   "outputs": [],
   "source": [
    "## 형변환\n",
    "int(10.1)\n",
    "int('10')\n",
    "int('10.1')"
   ]
  },
  {
   "cell_type": "code",
   "execution_count": null,
   "metadata": {},
   "outputs": [],
   "source": [
    "str(True)\n",
    "str(None)\n",
    "str({'one':1, 'two':2})"
   ]
  },
  {
   "cell_type": "code",
   "execution_count": null,
   "metadata": {},
   "outputs": [],
   "source": [
    "# 정말 많이 사용하는 코드\n",
    "l = [1, 2, 3]\n",
    "while l:\n",
    "    print(l.pop())"
   ]
  },
  {
   "cell_type": "code",
   "execution_count": null,
   "metadata": {},
   "outputs": [],
   "source": [
    "bool(0)\n",
    "bool(None)\n",
    "bool({})"
   ]
  },
  {
   "cell_type": "code",
   "execution_count": null,
   "metadata": {},
   "outputs": [],
   "source": [
    "# list로 형변환\n",
    "s = '10'\n",
    "l = list(s)\n",
    "l"
   ]
  },
  {
   "cell_type": "code",
   "execution_count": null,
   "metadata": {},
   "outputs": [],
   "source": [
    "dict\n",
    "name = 'leehojun'\n",
    "dict(name)\n",
    "\n",
    "s = [('name', 'leehojun'), ('age', 10)]\n",
    "d = dict(s)\n",
    "d"
   ]
  },
  {
   "cell_type": "code",
   "execution_count": 2,
   "metadata": {},
   "outputs": [
    {
     "data": {
      "text/plain": [
       "2418"
      ]
     },
     "execution_count": 2,
     "metadata": {},
     "output_type": "execute_result"
    }
   ],
   "source": [
    "## 논리연산\n",
    "\n",
    "username = '홍길동' \n",
    "username = username or 'liact'\n",
    "username\n"
   ]
  },
  {
   "cell_type": "code",
   "execution_count": null,
   "metadata": {},
   "outputs": [],
   "source": [
    "## 비트연산 (중요도 하)\n",
    "\n",
    "for i in range(21):\n",
    "    if (i % 3 == 0 or i % 5 == 0) and i % 2 == 0:\n",
    "        print(i)\n",
    "\n",
    "for i in range(21):\n",
    "    if i % 3 == 0 or i % 5 == 0 and i % 2 == 0:\n",
    "        print(i)"
   ]
  },
  {
   "cell_type": "code",
   "execution_count": null,
   "metadata": {},
   "outputs": [],
   "source": [
    "## 식별연산자\n",
    "\n",
    "a = 999\n",
    "b = 999\n",
    "a is b"
   ]
  },
  {
   "cell_type": "code",
   "execution_count": null,
   "metadata": {},
   "outputs": [],
   "source": [
    "a = [1, 2, 3]\n",
    "b = [1, 2, 3]\n",
    "a is b"
   ]
  },
  {
   "cell_type": "code",
   "execution_count": null,
   "metadata": {},
   "outputs": [],
   "source": [
    "a == b  # python의 등호는 type과 value를 봅니다."
   ]
  },
  {
   "cell_type": "code",
   "execution_count": null,
   "metadata": {},
   "outputs": [],
   "source": [
    "# is는 주소값을 비교합니다.\n",
    "id(a) == id(b)"
   ]
  },
  {
   "cell_type": "code",
   "execution_count": 4,
   "metadata": {},
   "outputs": [
    {
     "data": {
      "text/plain": [
       "True"
      ]
     },
     "execution_count": 4,
     "metadata": {},
     "output_type": "execute_result"
    }
   ],
   "source": [
    "## 멤버연산\n",
    "\n",
    "10 in {'a': 10, 'b': 20}\n",
    "'a' not in ['aa', 'bb']\n",
    "[10] in [10, 20, 30]\n",
    "{10, 20}.issubset({10, 20, 30, 40})"
   ]
  },
  {
   "cell_type": "code",
   "execution_count": null,
   "metadata": {},
   "outputs": [],
   "source": [
    "## * 함수\n",
    "\n",
    "def function(x, y):\n",
    "    z = x + y\n",
    "print(f'function(5, 7) = {function(5, 7)}')"
   ]
  },
  {
   "cell_type": "code",
   "execution_count": null,
   "metadata": {},
   "outputs": [],
   "source": [
    "# 함수 연습문제 1\n",
    "def one():\n",
    "    print('one1')\n",
    "    print('one2')\n",
    "    print('one3')\n",
    "    return 100\n",
    "\n",
    "def two():\n",
    "    print('two1')\n",
    "    print('two2')\n",
    "    one()\n",
    "    return\n",
    "\n",
    "print(two())"
   ]
  },
  {
   "cell_type": "code",
   "execution_count": null,
   "metadata": {},
   "outputs": [],
   "source": [
    "# 함수 연습문제 2\n",
    "def one():\n",
    "    print('one1')\n",
    "    print('one2')\n",
    "    print('one3')\n",
    "    return 100\n",
    "\n",
    "def two():\n",
    "    print('two1')\n",
    "    print('two2')\n",
    "    x = one()\n",
    "    return x + x\n",
    "\n",
    "print(two())"
   ]
  },
  {
   "cell_type": "code",
   "execution_count": null,
   "metadata": {},
   "outputs": [],
   "source": [
    "# 함수 연습문제 3\n",
    "def one(a, b):\n",
    "    print('one1')\n",
    "    print('one2')\n",
    "    print('one3')\n",
    "    return a + b\n",
    "\n",
    "def two(x):\n",
    "    y = 100\n",
    "    print('two1')\n",
    "    print('two2')\n",
    "    x = one(x, y)\n",
    "    return x + x\n",
    "\n",
    "print(two(10))"
   ]
  },
  {
   "cell_type": "code",
   "execution_count": null,
   "metadata": {},
   "outputs": [],
   "source": [
    "leehojun = print\n",
    "\n",
    "# 1\n",
    "leehojun('hello')\n",
    "\n",
    "# 2\n",
    "id(leehojun) == id(print)\n",
    "\n",
    "# 3\n",
    "id(leehojun) is id(print)\n",
    "\n",
    "# 4\n",
    "def hello(a):\n",
    "    a('hello')\n",
    "    a('hello')\n",
    "    a('hello')\n",
    "print(hello(print))"
   ]
  },
  {
   "cell_type": "code",
   "execution_count": null,
   "metadata": {},
   "outputs": [],
   "source": [
    "## 함수의 기본 기능\n",
    "\n",
    "\n",
    "# 함수 안에 함수와 함수 안에 변수는 밖에서 호출이 안됩니다.\n",
    "# 아래것이 만약 실행되었다면 위 어딘가에서 two와 x가 정의되어 있는 것입니다.\n",
    "def one():\n",
    "    def two():\n",
    "        print('hello1')\n",
    "    def three():\n",
    "        print('hello2')\n",
    "    two()\n",
    "    three()\n",
    "    x = 1000\n",
    "    return 100\n",
    "\n",
    "one()\n",
    "print(x)\n",
    "two()"
   ]
  },
  {
   "cell_type": "code",
   "execution_count": null,
   "metadata": {},
   "outputs": [],
   "source": [
    "# 위 원리와 마찬가지로 밖에 있는 변수를 '가져오는 것만' 가능합니다.\n",
    "\n",
    "test = 10\n",
    "\n",
    "def one():\n",
    "    print(test)\n",
    "\n",
    "def two():\n",
    "    print(test)\n",
    "\n",
    "one()\n",
    "two()"
   ]
  },
  {
   "cell_type": "code",
   "execution_count": null,
   "metadata": {},
   "outputs": [],
   "source": [
    "test = 10\n",
    "\n",
    "def one():\n",
    "    test = test + 10\n",
    "\n",
    "one()"
   ]
  },
  {
   "cell_type": "code",
   "execution_count": null,
   "metadata": {},
   "outputs": [],
   "source": [
    "## 지역 변수와 전역 변수\n",
    "\n",
    "# 전역변수 : 전역에서 접근할 수 있는 변수\n",
    "# 지역변수 : 함수 내에서만 접근할 수 있는 변수\n",
    "\n",
    "# 전역변수 접근은 가능하지만 수정이 되진 않습니다.\n",
    "a = 100\n",
    "def f():\n",
    "    a = a + 1\n",
    "f()"
   ]
  },
  {
   "cell_type": "code",
   "execution_count": null,
   "metadata": {},
   "outputs": [],
   "source": [
    "# 전역변수를 함수 내부에서 수정이 되게 하는 코드입니다.\n",
    "# 권하지 않습니다.\n",
    "a = 100\n",
    "def f():\n",
    "    global a # 실무에서 사용 안합니다.\n",
    "    a = a + 1\n",
    "f()\n",
    "print(a)"
   ]
  },
  {
   "cell_type": "code",
   "execution_count": null,
   "metadata": {},
   "outputs": [],
   "source": [
    "test = 100\n",
    "def f(x):\n",
    "    return x + x + 100 + test\n",
    "f(10)"
   ]
  },
  {
   "cell_type": "code",
   "execution_count": null,
   "metadata": {},
   "outputs": [],
   "source": [
    "a = 100\n",
    "def one():\n",
    "    a = 10\n",
    "    def two():\n",
    "        def three():\n",
    "            a = 1000\n",
    "            print(a)\n",
    "        three()\n",
    "        print(a)\n",
    "    two()\n",
    "    print(a)\n",
    "\n",
    "one()\n",
    "print(a)"
   ]
  },
  {
   "cell_type": "code",
   "execution_count": null,
   "metadata": {},
   "outputs": [],
   "source": [
    "x = 100\n",
    "def outer():\n",
    "    x = 1\n",
    "    def inner():\n",
    "        x += 1\n",
    "        print(x)\n",
    "    inner()\n",
    "    print(x)\n",
    "\n",
    "outer()\n",
    "print(x)"
   ]
  },
  {
   "cell_type": "code",
   "execution_count": null,
   "metadata": {},
   "outputs": [],
   "source": [
    "x = 100\n",
    "def outer():\n",
    "    x = 1\n",
    "    def inner():\n",
    "        nonlocal x\n",
    "        x += 1\n",
    "        print(x)\n",
    "    inner()\n",
    "    print(x)\n",
    "\n",
    "outer()\n",
    "print(x)"
   ]
  },
  {
   "cell_type": "code",
   "execution_count": null,
   "metadata": {},
   "outputs": [],
   "source": [
    "x = 100\n",
    "def outer():\n",
    "    x = 1\n",
    "    def inner():\n",
    "        global x\n",
    "        x += 1\n",
    "        print(x)\n",
    "    inner()\n",
    "    print(x)\n",
    "\n",
    "outer()\n",
    "print(x)"
   ]
  },
  {
   "cell_type": "code",
   "execution_count": null,
   "metadata": {},
   "outputs": [],
   "source": [
    "## 재귀함수\n",
    "\n",
    "# 문제 : 3번 x의 n제곱을 구하는 함수를 만들어주세요.\n",
    "# 재귀함수를 이용하여 만들어야하며, x은 0이 아닙니다. (x, n > 1)"
   ]
  },
  {
   "cell_type": "code",
   "execution_count": 9,
   "metadata": {},
   "outputs": [
    {
     "data": {
      "text/plain": [
       "27"
      ]
     },
     "execution_count": 9,
     "metadata": {},
     "output_type": "execute_result"
    }
   ],
   "source": [
    "## list (리스트)\n",
    "\n"
   ]
  },
  {
   "cell_type": "code",
   "execution_count": null,
   "metadata": {},
   "outputs": [],
   "source": []
  },
  {
   "cell_type": "code",
   "execution_count": null,
   "metadata": {},
   "outputs": [],
   "source": []
  },
  {
   "cell_type": "code",
   "execution_count": null,
   "metadata": {},
   "outputs": [],
   "source": []
  },
  {
   "cell_type": "code",
   "execution_count": null,
   "metadata": {},
   "outputs": [],
   "source": []
  },
  {
   "cell_type": "code",
   "execution_count": null,
   "metadata": {},
   "outputs": [],
   "source": []
  },
  {
   "cell_type": "code",
   "execution_count": null,
   "metadata": {},
   "outputs": [],
   "source": []
  },
  {
   "cell_type": "code",
   "execution_count": null,
   "metadata": {},
   "outputs": [],
   "source": []
  },
  {
   "cell_type": "code",
   "execution_count": null,
   "metadata": {},
   "outputs": [],
   "source": []
  }
 ],
 "metadata": {
  "kernelspec": {
   "display_name": "Python 3",
   "language": "python",
   "name": "python3"
  },
  "language_info": {
   "codemirror_mode": {
    "name": "ipython",
    "version": 3
   },
   "file_extension": ".py",
   "mimetype": "text/x-python",
   "name": "python",
   "nbconvert_exporter": "python",
   "pygments_lexer": "ipython3",
   "version": "3.10.2"
  },
  "orig_nbformat": 4
 },
 "nbformat": 4,
 "nbformat_minor": 2
}
